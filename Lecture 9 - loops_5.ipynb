{
 "cells": [
  {
   "cell_type": "markdown",
   "metadata": {
    "deletable": true,
    "editable": true
   },
   "source": [
    "### HW 1: Pangrams\n",
    "* Write a Python function to check whether a string is a pangram or not.\n",
    "* Note : Pangrams are words or sentences containing every letter of the alphabet at least once.\n",
    "     - For example : \"The quick brown fox jumps over the lazy dog\""
   ]
  },
  {
   "cell_type": "code",
   "execution_count": 231,
   "metadata": {
    "collapsed": false,
    "deletable": true,
    "editable": true
   },
   "outputs": [
    {
     "name": "stdout",
     "output_type": "stream",
     "text": [
      "['T', 'h', 'e', 'q', 'u', 'i', 'c', 'k', 'b', 'r', 'o', 'w', 'n', 'f', 'o', 'x', 'j', 'u', 'm', 'p', 's', 'o', 'v', 'e', 'r', 't', 'h', 'e', 'l', 'a', 'z', 'y', 'd', 'o', 'g']\n",
      "This is a pangram!\n"
     ]
    }
   ],
   "source": [
    "def main(s):\n",
    "# new_s = \"\".join([i for i in s if i.isalnum()]).lower() # list comprehension\n",
    "    stack = []\n",
    "    for i in s:\n",
    "        if i.isalnum():\n",
    "            stack.append(i)\n",
    "    print(stack)\n",
    "    new_s = \"\".join(stack).lower()\n",
    "    if len(set(new_s)) == 26:\n",
    "        print(\"This is a pangram!\")\n",
    "    else:\n",
    "        print(\"Not a pangram.\")\n",
    "main(\"The quick brown fox jumps over the lazy dog\")"
   ]
  },
  {
   "cell_type": "code",
   "execution_count": 226,
   "metadata": {
    "collapsed": false,
    "deletable": true,
    "editable": true
   },
   "outputs": [
    {
     "name": "stdout",
     "output_type": "stream",
     "text": [
      "['T', 'h', 'e', 'q', 'u', 'i', 'c', 'k', 'b', 'r', 'o', 'w', 'n', 'f', 'o', 'x', 'j', 'u', 'm', 'p', 's', 'o', 'v', 'e', 'r', 't', 'h', 'e', 'l', 'a', 'z', 'y', 'd', 'o', 'g']\n",
      "This is a pangram!\n",
      "0.000956\n"
     ]
    }
   ],
   "source": [
    "import datetime as d\n",
    "st = d.datetime.now(); \\\n",
    "main(\"The quick brown fox jumps over the lazy dog\"); \\\n",
    "print ((d.datetime.now()-st).total_seconds())"
   ]
  },
  {
   "cell_type": "markdown",
   "metadata": {
    "deletable": true,
    "editable": true
   },
   "source": [
    "* Python string method\n",
    "* string.ascii_lowercase\n",
    "* The lowercase letters 'abcdefghijklmnopqrstuvwxyz'"
   ]
  },
  {
   "cell_type": "code",
   "execution_count": 230,
   "metadata": {
    "collapsed": false,
    "deletable": true,
    "editable": true
   },
   "outputs": [
    {
     "name": "stdout",
     "output_type": "stream",
     "text": [
      "abcdefghijklmnopqrstuvwxyz\n",
      "This is a pangram!\n"
     ]
    }
   ],
   "source": [
    "import string # importing a library\n",
    "print(string.ascii_lowercase) # call a module inside of the library to give us the alphabet in lower case.\n",
    "\n",
    "def main2(s):\n",
    "    new_s = \"\".join([i for i in s if i.isalnum()]).lower()\n",
    "    for i in string.ascii_lowercase:\n",
    "        if i not in new_s:\n",
    "            print(\"Not a pangram.\")\n",
    "            break\n",
    "    else:\n",
    "        print(\"This is a pangram!\")\n",
    "main2(\"The quick brown fox jumps over the lazy dog\")"
   ]
  },
  {
   "cell_type": "code",
   "execution_count": 227,
   "metadata": {
    "collapsed": false,
    "deletable": true,
    "editable": true
   },
   "outputs": [
    {
     "name": "stdout",
     "output_type": "stream",
     "text": [
      "This is a pangram!\n",
      "0.000589\n"
     ]
    }
   ],
   "source": [
    "import datetime as d\n",
    "st = d.datetime.now(); \\\n",
    "main2(\"The quick brown fox jumps over the lazy dog\"); \\\n",
    "print ((d.datetime.now()-st).total_seconds())"
   ]
  },
  {
   "cell_type": "markdown",
   "metadata": {
    "deletable": true,
    "editable": true
   },
   "source": [
    "### HW 2: Two-dimensional array\n",
    "* Write a Python program which takes two digits m (row) and n (column) as input and generates a two-dimensional array.\n",
    "* The element value in the i-th row and j-th column of the array should be i\\*j. \n",
    "* Note :\n",
    "* i = 0,1.., m-1 \n",
    "* j = 0,1, n-1.\n",
    "\n",
    "* Test Data : Rows = 3, Columns = 4 \n",
    "* Expected Result : [[0, 0, 0, 0], [0, 1, 2, 3], [0, 2, 4, 6]]"
   ]
  },
  {
   "cell_type": "code",
   "execution_count": 252,
   "metadata": {
    "collapsed": false,
    "deletable": true,
    "editable": true
   },
   "outputs": [
    {
     "name": "stdout",
     "output_type": "stream",
     "text": [
      "[[0, 0, 0, 0], [0, 1, 2, 3], [0, 2, 4, 6]]\n"
     ]
    }
   ],
   "source": [
    "def get_two_dimensional_array(row, col):\n",
    "    stack1 = []\n",
    "    for i in range(row):\n",
    "        stack2 = []\n",
    "        for j in range(col):\n",
    "            stack2.append(i*j)\n",
    "        stack1.append(stack2)\n",
    "    return stack1\n",
    "\n",
    "print(get_two_dimensional_array(3, 4))\n",
    "\n"
   ]
  },
  {
   "cell_type": "code",
   "execution_count": 246,
   "metadata": {
    "collapsed": false,
    "deletable": true,
    "editable": true
   },
   "outputs": [
    {
     "name": "stdout",
     "output_type": "stream",
     "text": [
      "[[0, 0, 0, 0], [0, 1, 2, 3], [0, 2, 4, 6]]\n"
     ]
    }
   ],
   "source": [
    "row = 3\n",
    "col = 4\n",
    "stack1 = []\n",
    "for i in range(row):\n",
    "    stack2 = []\n",
    "    for j in range(col):\n",
    "        stack2.append(i*j)\n",
    "    stack1.append(stack2)\n",
    "print(stack1)"
   ]
  },
  {
   "cell_type": "code",
   "execution_count": null,
   "metadata": {
    "collapsed": false,
    "deletable": true,
    "editable": true
   },
   "outputs": [],
   "source": [
    "row = 3\n",
    "col = 4\n",
    "stack = [[i*j for j in range(col)] for i in range(row)]\n",
    "print(stack)"
   ]
  }
 ],
 "metadata": {
  "kernelspec": {
   "display_name": "Python 3",
   "language": "python",
   "name": "python3"
  },
  "language_info": {
   "codemirror_mode": {
    "name": "ipython",
    "version": 3
   },
   "file_extension": ".py",
   "mimetype": "text/x-python",
   "name": "python",
   "nbconvert_exporter": "python",
   "pygments_lexer": "ipython3",
   "version": "3.5.2"
  }
 },
 "nbformat": 4,
 "nbformat_minor": 2
}
