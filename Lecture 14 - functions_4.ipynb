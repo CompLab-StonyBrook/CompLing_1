{
 "cells": [
  {
   "cell_type": "markdown",
   "metadata": {
    "deletable": true,
    "editable": true
   },
   "source": [
    "### Homework 5\n",
    "* 2520 is the smallest number that can be divided by each of the numbers from 1 to 10 without any remainder.\n",
    "\n",
    "* What is the smallest positive number that is evenly divisible by all of the numbers from 1 to 20?\n",
    "* This question asks for the least common multiple. \n",
    "* The answer is 232792560"
   ]
  },
  {
   "cell_type": "code",
   "execution_count": 3,
   "metadata": {
    "collapsed": false,
    "deletable": true,
    "editable": true
   },
   "outputs": [
    {
     "name": "stdout",
     "output_type": "stream",
     "text": [
      "[2]\n",
      "2520\n"
     ]
    }
   ],
   "source": [
    "def is_prime(n):\n",
    "    if n == 0:\n",
    "        return False\n",
    "    elif n == 1:\n",
    "        return False\n",
    "    elif n == 2:\n",
    "        return True\n",
    "    for i in range(2, n):\n",
    "        if n%i == 0:\n",
    "            return False\n",
    "    return True\n",
    "\n",
    "def get_prime_factor_incomplete(n): #this function does not give us any duplicates in prime factors \n",
    "    stack = []\n",
    "    for i in range(2, n+1):\n",
    "        if n%i == 0 and is_prime(i):\n",
    "            stack.append(i)\n",
    "    return stack\n",
    "\n",
    "print(get_prime_factor_incomplete(45))\n",
    "\n",
    "# 1 = \n",
    "# 2 = 1*2   #2\n",
    "# 3 = 1*3   #3\n",
    "# 4 = 2*2   #2\n",
    "# 5 = 1*5   #5\n",
    "# 6 = 2*3   #2*3\n",
    "# 7 = 1*7   #7\n",
    "# 8 = 2*2*2 #2\n",
    "# 9 = 3*3*3 #3\n",
    "#10 = 2*5   #2*5\n",
    "\n",
    "# 30 = 3*2*5 #3*2*5\n",
    "# 45 = 3*3*5 #3*5\n",
    "# 34 = 2*17  #2*17\n",
    "# 27 = 3*3*3 #3\n",
    "# LCM = 3*3*3*2*5*17\n",
    "\n",
    "def LCM(n):\n",
    "    stack = []\n",
    "    for i in range(1, n+1):\n",
    "        pf = get_prime_factor_incomplete(i)\n",
    "        if len(pf) == 1:\n",
    "            stack.append(pf)\n",
    "    res = 1\n",
    "    for i in stack:\n",
    "        res = res*i[0]\n",
    "    return res  \n",
    "print(LCM(25))  "
   ]
  },
  {
   "cell_type": "code",
   "execution_count": 7,
   "metadata": {
    "collapsed": false,
    "deletable": true,
    "editable": true
   },
   "outputs": [
    {
     "name": "stdout",
     "output_type": "stream",
     "text": [
      "[5, 3, 3]\n",
      "[[], [2], [1, 3], [2, 2], [1, 5], [3, 2], [1, 7], [2, 2, 2], [3, 3], [5, 2]]\n",
      "[[1, 1], [1, 1], [1, 1], [2, 1], [2, 2], [2, 1], [2, 3], [2, 1], [3, 1], [3, 1], [3, 2], [5, 1], [5, 1], [7, 1]]\n",
      "{1: 1, 2: 1, 3: 1, 5: 1, 7: 1}\n",
      "{1: 1, 2: 3, 3: 2, 5: 1, 7: 1}\n"
     ]
    },
    {
     "data": {
      "text/plain": [
       "2520"
      ]
     },
     "execution_count": 7,
     "metadata": {},
     "output_type": "execute_result"
    }
   ],
   "source": [
    "def is_prime(n):\n",
    "    if n == 0:\n",
    "        return False\n",
    "    elif n == 1:\n",
    "        return False\n",
    "    elif n == 2:\n",
    "        return True\n",
    "    else:\n",
    "        for i in range(2, n):\n",
    "            if n%i == 0:\n",
    "                return False\n",
    "        return True\n",
    "    \n",
    "def get_prime_factors(m):\n",
    "    max_pf = 1\n",
    "    if m == 1:\n",
    "        return []\n",
    "    elif m == 2:\n",
    "        return [2]\n",
    "    stack = []\n",
    "    for i in range(2, m):\n",
    "        if m%i == 0 and is_prime(i):\n",
    "            max_pf = i\n",
    "    stack.append(max_pf)        \n",
    "    m = m//max_pf\n",
    "\n",
    "    if is_prime(m):\n",
    "        stack.append(m)  \n",
    "    else:\n",
    "        stack.extend(get_prime_factors(m))\n",
    "    return stack\n",
    "\n",
    "print(get_prime_factors(45))\n",
    "\n",
    "def get_LCM(n):\n",
    "    seq = list(range(1, n+1))\n",
    "    stack = []\n",
    "    for i in seq:\n",
    "        stack.append(get_prime_factors(i))\n",
    "    print(stack)\n",
    "    \n",
    "    stack2 = []\n",
    "    for i in range(1, n):\n",
    "        for j in stack:\n",
    "            if i in j:\n",
    "                num = j.count(i)\n",
    "                stack2.append([i, num])\n",
    "    print(stack2)\n",
    "    \n",
    "    dic = {}\n",
    "    for i in stack2:\n",
    "        if i[0] not in dic:\n",
    "            dic[i[0]] = num   \n",
    "            \n",
    "    print(dic)\n",
    "   \n",
    "    for j in dic:\n",
    "        for i in stack2:\n",
    "            if j == i[0]:\n",
    "                if i[1] > dic[j]:\n",
    "                    dic[j] = i[1]\n",
    "    print(dic)\n",
    "    \n",
    "    sumN = 1\n",
    "    for k, v in dic.items():\n",
    "        sumN *= k**v\n",
    "    return sumN\n",
    "    \n",
    "get_LCM(10)\n"
   ]
  },
  {
   "cell_type": "code",
   "execution_count": null,
   "metadata": {
    "collapsed": true,
    "deletable": true,
    "editable": true
   },
   "outputs": [],
   "source": []
  }
 ],
 "metadata": {
  "kernelspec": {
   "display_name": "Python 3",
   "language": "python",
   "name": "python3"
  },
  "language_info": {
   "codemirror_mode": {
    "name": "ipython",
    "version": 3
   },
   "file_extension": ".py",
   "mimetype": "text/x-python",
   "name": "python",
   "nbconvert_exporter": "python",
   "pygments_lexer": "ipython3",
   "version": "3.5.2"
  }
 },
 "nbformat": 4,
 "nbformat_minor": 2
}
