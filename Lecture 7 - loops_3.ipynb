{
 "cells": [
  {
   "cell_type": "markdown",
   "metadata": {
    "deletable": true,
    "editable": true
   },
   "source": [
    "### Homework:\n",
    "* Print out every letter in a string\n",
    "* Print out every other letter in a string\n",
    "* Hint: use range()"
   ]
  },
  {
   "cell_type": "code",
   "execution_count": 30,
   "metadata": {
    "collapsed": false,
    "deletable": true,
    "editable": true
   },
   "outputs": [
    {
     "name": "stdout",
     "output_type": "stream",
     "text": [
      "t h e b r o w f o x j u m p e d o v e r t h e f e n c e "
     ]
    }
   ],
   "source": [
    "s = \"thebrowfoxjumpedoverthefence\"\n",
    "for char in s:\n",
    "    print(char, end=\" \")"
   ]
  },
  {
   "cell_type": "code",
   "execution_count": 37,
   "metadata": {
    "collapsed": false,
    "deletable": true,
    "editable": true
   },
   "outputs": [
    {
     "name": "stdout",
     "output_type": "stream",
     "text": [
      "t e r w o j m e o e t e e c "
     ]
    }
   ],
   "source": [
    "s = \"thebrowfoxjumpedoverthefence\"\n",
    "for num in range(len(s)):\n",
    "    if num%2 == 0:\n",
    "        print(s[num], end = \" \")"
   ]
  },
  {
   "cell_type": "code",
   "execution_count": 32,
   "metadata": {
    "collapsed": false,
    "deletable": true,
    "editable": true
   },
   "outputs": [
    {
     "name": "stdout",
     "output_type": "stream",
     "text": [
      "0 1 2 3 4 "
     ]
    }
   ],
   "source": [
    "for n in range(5):\n",
    "    print(n, end=\" \")"
   ]
  },
  {
   "cell_type": "markdown",
   "metadata": {
    "deletable": true,
    "editable": true
   },
   "source": [
    "### Exercise 1: Find common words in two lists\n",
    "* lst1 = [\"how\", \"are\", \"you\", \"doing\"]\n",
    "* lst2 = [\"here\", \"you\", \"are\"]\n",
    "* output: \"are\", \"you\""
   ]
  },
  {
   "cell_type": "code",
   "execution_count": 63,
   "metadata": {
    "collapsed": false,
    "deletable": true,
    "editable": true
   },
   "outputs": [
    {
     "name": "stdout",
     "output_type": "stream",
     "text": [
      "['how', 'are', 'you', 'doing']\n"
     ]
    }
   ],
   "source": [
    "lst1 = [\"how\", \"are\", \"you\", \"doing\"]\n",
    "lst2 = [\"here\", \"you\", \"are\"]\n",
    "print(lst1 and lst2)\n",
    "\n",
    "# \"and\" returns either the first or the second operand, \n",
    "# based on their truth value. \n",
    "# If the first operand is considered false, it is returned, \n",
    "# otherwise the other operand is returned."
   ]
  },
  {
   "cell_type": "code",
   "execution_count": 53,
   "metadata": {
    "collapsed": false,
    "deletable": true,
    "editable": true
   },
   "outputs": [
    {
     "name": "stdout",
     "output_type": "stream",
     "text": [
      "are\n",
      "you\n"
     ]
    }
   ],
   "source": [
    "lst1 = [\"how\", \"are\", \"you\", \"doing\"]\n",
    "lst2 = [\"here\", \"you\", \"are\"]\n",
    "for i in lst1:\n",
    "    if i in lst2:\n",
    "        print (i)"
   ]
  },
  {
   "cell_type": "markdown",
   "metadata": {
    "deletable": true,
    "editable": true
   },
   "source": [
    "### Exercise 2: divisors\n",
    "* Ask for a given number, and then print out a list of its divisors.\n",
    "* Input: 15\n",
    "* Output: 1, 3, 5, 15"
   ]
  },
  {
   "cell_type": "code",
   "execution_count": 55,
   "metadata": {
    "collapsed": false,
    "deletable": true,
    "editable": true
   },
   "outputs": [
    {
     "name": "stdout",
     "output_type": "stream",
     "text": [
      "Give me a number: 15\n",
      "1\n",
      "3\n",
      "5\n",
      "15\n"
     ]
    }
   ],
   "source": [
    "n = int(input(\"Give me a number: \"))\n",
    "for i in range(1, n+1):\n",
    "    if n%i == 0: # if 15%1 == 0: print 1; if 15%2 == 0, print 2; if 15%3 ==0, print 3     \n",
    "        print(i)\n",
    "    "
   ]
  },
  {
   "cell_type": "markdown",
   "metadata": {
    "deletable": true,
    "editable": true
   },
   "source": [
    "### Exercise 3: divide & multiply\n",
    "* Write a program to find numbers which could be evenly divided by 3 and are also multiples of 7, between 1000 and 3000 (both sides inclusive)."
   ]
  },
  {
   "cell_type": "code",
   "execution_count": 68,
   "metadata": {
    "collapsed": false,
    "deletable": true,
    "editable": true
   },
   "outputs": [
    {
     "name": "stdout",
     "output_type": "stream",
     "text": [
      "[1008, 1029, 1050, 1071, 1092, 1113, 1134, 1155, 1176, 1197, 1218, 1239, 1260, 1281, 1302, 1323, 1344, 1365, 1386, 1407, 1428, 1449, 1470, 1491, 1512, 1533, 1554, 1575, 1596, 1617, 1638, 1659, 1680, 1701, 1722, 1743, 1764, 1785, 1806, 1827, 1848, 1869, 1890, 1911, 1932, 1953, 1974, 1995, 2016, 2037, 2058, 2079, 2100, 2121, 2142, 2163, 2184, 2205, 2226, 2247, 2268, 2289, 2310, 2331, 2352, 2373, 2394, 2415, 2436, 2457, 2478, 2499, 2520, 2541, 2562, 2583, 2604, 2625, 2646, 2667, 2688, 2709, 2730, 2751, 2772, 2793, 2814, 2835, 2856, 2877, 2898, 2919, 2940, 2961, 2982]\n",
      "[1008, 1029, 1050, 1071, 1092, 1113, 1134, 1155, 1176, 1197, 1218, 1239, 1260, 1281, 1302, 1323, 1344, 1365, 1386, 1407, 1428, 1449, 1470, 1491, 1512, 1533, 1554, 1575, 1596, 1617, 1638, 1659, 1680, 1701, 1722, 1743, 1764, 1785, 1806, 1827, 1848, 1869, 1890, 1911, 1932, 1953, 1974, 1995, 2016, 2037, 2058, 2079, 2100, 2121, 2142, 2163, 2184, 2205, 2226, 2247, 2268, 2289, 2310, 2331, 2352, 2373, 2394, 2415, 2436, 2457, 2478, 2499, 2520, 2541, 2562, 2583, 2604, 2625, 2646, 2667, 2688, 2709, 2730, 2751, 2772, 2793, 2814, 2835, 2856, 2877, 2898, 2919, 2940, 2961, 2982]\n"
     ]
    }
   ],
   "source": [
    "stack = []\n",
    "for i in range(1000,3001):\n",
    "    if i%3 == 0 and i%7 ==0:\n",
    "        stack.append(i)\n",
    "print(stack)\n",
    "\n",
    "# we can also use list comprehension\n",
    "stack2 = [i for i in range(1000, 3001) if i%3 == 0 and i%7 ==0]\n",
    "print(stack2)"
   ]
  },
  {
   "cell_type": "markdown",
   "metadata": {
    "deletable": true,
    "editable": true
   },
   "source": [
    "### Exercise 4: even & odd\n",
    "* Write a program to count the number of even numbers and odd numbers from a sequence."
   ]
  },
  {
   "cell_type": "code",
   "execution_count": 69,
   "metadata": {
    "collapsed": false,
    "deletable": true,
    "editable": true
   },
   "outputs": [
    {
     "name": "stdout",
     "output_type": "stream",
     "text": [
      "5 5\n"
     ]
    }
   ],
   "source": [
    "stack_even = []\n",
    "stack_odd = []\n",
    "for i in range(10):\n",
    "    if i%2 == 0:\n",
    "        stack_even.append(i)\n",
    "    else:\n",
    "        stack_odd.append(i)\n",
    "print(len(stack_even), len(stack_odd))\n",
    "     "
   ]
  },
  {
   "cell_type": "code",
   "execution_count": 72,
   "metadata": {
    "collapsed": false,
    "deletable": true,
    "editable": true
   },
   "outputs": [
    {
     "name": "stdout",
     "output_type": "stream",
     "text": [
      "5 5\n"
     ]
    }
   ],
   "source": [
    "odd = 0\n",
    "even = 0\n",
    "for i in range(10):\n",
    "    if i%2 == 0:\n",
    "        even += 1\n",
    "    else:\n",
    "        odd += 1\n",
    "print(odd, even)"
   ]
  },
  {
   "cell_type": "markdown",
   "metadata": {
    "deletable": true,
    "editable": true
   },
   "source": [
    "### Homework 1: print \"X\" instead of \"s\"\n",
    "* Suppose you are given a string s = \"a brown fox jumps over the lazy dogs\"\n",
    "* Write a program to print out this string:\n",
    "    - when the character is \"s\", print \"X\" instead.\n",
    "    - when the character is everything else, just print that character.\n",
    "    - Your output will be \"a brown fox jumpX over the lazy dogX\". "
   ]
  },
  {
   "cell_type": "markdown",
   "metadata": {
    "deletable": true,
    "editable": true
   },
   "source": [
    "### Homework 2: factorial\n",
    "* Write a program which can compute the factorial of a given number.\n",
    "* Input: 5\n",
    "* Output: 120"
   ]
  },
  {
   "cell_type": "markdown",
   "metadata": {},
   "source": [
    "### Homework 3: print certain numbers\n",
    "* Write a Python program that prints all the numbers from 0 to 10 except 5 and 10.\n",
    "* Input: all the numbers from 0 to 10\n",
    "* Output: 0, 1, 2, 3, 4, 6, 7, 8, 9"
   ]
  },
  {
   "cell_type": "markdown",
   "metadata": {
    "collapsed": true,
    "deletable": true,
    "editable": true
   },
   "source": [
    "### Homework 4: sort\n",
    "* Write a program that accepts a comma separated sequence of words as input and prints the words in a comma-separated sequence after sorting them alphabetically.\n",
    "* Suppose the following input is supplied to the program: \"the, brown, fox, jumps, over, the, lazy, dog\"\n",
    "* Then, the output should be: \"brown, dog, fox, jumps, lazy, over, the, the\"\n",
    "* This homework does not need a loop. It's just a review of conditionals"
   ]
  },
  {
   "cell_type": "markdown",
   "metadata": {
    "deletable": true,
    "editable": true
   },
   "source": [
    "### Homework 5: leap year\n",
    "* Write a python program to decide if a year is a leap year.\n",
    "* A leap year is exactly divisible by 4 except for century years (years ending with 00). The century year is a leap year only if it is perfectly divisible by 400. For example,\n",
    "    - 2017 is not a leap year\n",
    "    - 1900 is not a leap year\n",
    "    - 2012 is a leap year\n",
    "    - 2000 is a leap year\n",
    "    \n",
    "* This homework also does not need a loop. Just conditionals."
   ]
  },
  {
   "cell_type": "code",
   "execution_count": null,
   "metadata": {
    "collapsed": true
   },
   "outputs": [],
   "source": []
  }
 ],
 "metadata": {
  "kernelspec": {
   "display_name": "Python 3",
   "language": "python",
   "name": "python3"
  },
  "language_info": {
   "codemirror_mode": {
    "name": "ipython",
    "version": 3
   },
   "file_extension": ".py",
   "mimetype": "text/x-python",
   "name": "python",
   "nbconvert_exporter": "python",
   "pygments_lexer": "ipython3",
   "version": "3.5.2"
  }
 },
 "nbformat": 4,
 "nbformat_minor": 2
}
