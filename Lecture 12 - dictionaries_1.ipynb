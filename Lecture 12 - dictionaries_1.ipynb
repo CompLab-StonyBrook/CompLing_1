{
 "cells": [
  {
   "cell_type": "markdown",
   "metadata": {
    "deletable": true,
    "editable": true
   },
   "source": [
    "## Dictionaries\n",
    "* What's the difference between lists and dictionaries? \n",
    "* A list is an ordered sequence of objects, whereas dictionaries are unordered sets. \n",
    "* But the main difference is that items in dictionaries are accessed via keys and not via their position.\n",
    "\n",
    "* A dictionary consists of (key, value) pairs, such that each possible key appears <span style=\"color:red\">at most once</span> in the collection. \n",
    "* Any key of the dictionary is associated (or mapped) to a value. \n",
    "* The values of a dictionary can be any Python data type. "
   ]
  },
  {
   "cell_type": "code",
   "execution_count": null,
   "metadata": {
    "collapsed": false,
    "deletable": true,
    "editable": true
   },
   "outputs": [],
   "source": [
    "en_de = {\"red\" : \"rot\", \"green\" : \"grün\", \"blue\" : \"blau\", \"yellow\":\"gelb\"}\n",
    "print(en_de)"
   ]
  },
  {
   "cell_type": "code",
   "execution_count": null,
   "metadata": {
    "collapsed": false,
    "deletable": true,
    "editable": true
   },
   "outputs": [],
   "source": [
    "for key in en_de.keys():\n",
    "    print(key)"
   ]
  },
  {
   "cell_type": "code",
   "execution_count": null,
   "metadata": {
    "collapsed": false,
    "deletable": true,
    "editable": true
   },
   "outputs": [],
   "source": [
    "for value in en_de.values():\n",
    "    print(value)"
   ]
  },
  {
   "cell_type": "code",
   "execution_count": null,
   "metadata": {
    "collapsed": false,
    "deletable": true,
    "editable": true
   },
   "outputs": [],
   "source": [
    "for key, value in en_de.items():\n",
    "    print(key, value)"
   ]
  },
  {
   "cell_type": "code",
   "execution_count": null,
   "metadata": {
    "collapsed": false,
    "deletable": true,
    "editable": true
   },
   "outputs": [],
   "source": [
    "print(bool(\"black\" in en_de))\n",
    "print(bool(\"rot\" in en_de)) # x in dict checks if a key x exists in the dictionary. This method does not check if a certain value exists or not. \n",
    "print(bool(\"red\" in en_de))"
   ]
  },
  {
   "cell_type": "markdown",
   "metadata": {
    "deletable": true,
    "editable": true
   },
   "source": [
    "### Exercise 1: \n",
    "* Write a Python script to check if a given key already exists in a dictionary."
   ]
  },
  {
   "cell_type": "code",
   "execution_count": null,
   "metadata": {
    "collapsed": false,
    "deletable": true,
    "editable": true
   },
   "outputs": [],
   "source": [
    "d = {1:894,2:-54,3:1345}\n",
    "def is_key_present(k):\n",
    "    if k in d:\n",
    "        print(\"This key already exists.\")\n",
    "    else:\n",
    "        print(\"This key does not exist.\")\n",
    "is_key_present(5)"
   ]
  },
  {
   "cell_type": "markdown",
   "metadata": {
    "deletable": true,
    "editable": true
   },
   "source": [
    "### Exercise 2:\n",
    "* Write a Python program to sum all the values in a dictionary.\n",
    "* d = {'data1':894,'data2':-54,'data3':1345}"
   ]
  },
  {
   "cell_type": "code",
   "execution_count": null,
   "metadata": {
    "collapsed": false,
    "deletable": true,
    "editable": true
   },
   "outputs": [],
   "source": [
    "d = {'data1':894,'data2':-54,'data3':1345}\n",
    "sumN = 0\n",
    "for value in d.values():\n",
    "    sumN += value\n",
    "print(sumN)"
   ]
  },
  {
   "cell_type": "code",
   "execution_count": null,
   "metadata": {
    "collapsed": false,
    "deletable": true,
    "editable": true
   },
   "outputs": [],
   "source": [
    "d = {'data1':894,'data2':-54,'data3':1345}\n",
    "stack = []\n",
    "for v in d.values():\n",
    "    stack.append(v)\n",
    "print(sum(stack))\n",
    "\n",
    "print(sum(v for v in d.values()))"
   ]
  },
  {
   "cell_type": "markdown",
   "metadata": {
    "deletable": true,
    "editable": true
   },
   "source": [
    "* Add an item into the dictionary"
   ]
  },
  {
   "cell_type": "code",
   "execution_count": null,
   "metadata": {
    "collapsed": false,
    "deletable": true,
    "editable": true
   },
   "outputs": [],
   "source": [
    "en_de[\"pink\"] = \"rosa\" # dict[key] = value\n",
    "en_de"
   ]
  },
  {
   "cell_type": "markdown",
   "metadata": {
    "deletable": true,
    "editable": true
   },
   "source": [
    "* Merge the contents of dictionary D2 into dictionary D1"
   ]
  },
  {
   "cell_type": "code",
   "execution_count": null,
   "metadata": {
    "collapsed": false,
    "deletable": true,
    "editable": true
   },
   "outputs": [],
   "source": [
    "en_de.update({\"lilac\":\"lila\", \"black\":\"schwarz\"})\n",
    "en_de"
   ]
  },
  {
   "cell_type": "markdown",
   "metadata": {
    "deletable": true,
    "editable": true
   },
   "source": [
    "### Exercise 3: \n",
    "* Write a Python script to concatenate following dictionaries to create a new one.\n",
    "* Sample Dictionary : \n",
    "    - dic1={1:10, 2:20} \n",
    "    - dic2={3:30, 4:40} \n",
    "    - dic3={5:50,6:60}\n",
    "* Expected Result : {1: 10, 2: 20, 3: 30, 4: 40, 5: 50, 6: 60}"
   ]
  },
  {
   "cell_type": "code",
   "execution_count": null,
   "metadata": {
    "collapsed": false,
    "deletable": true,
    "editable": true
   },
   "outputs": [],
   "source": [
    "dic1={1:10, 2:20}\n",
    "dic2={3:30, 4:40}\n",
    "dic3={5:50,6:60}\n",
    "dic1.update(dic2)\n",
    "dic1.update(dic3)\n",
    "print(dic1)\n"
   ]
  },
  {
   "cell_type": "code",
   "execution_count": null,
   "metadata": {
    "collapsed": false,
    "deletable": true,
    "editable": true
   },
   "outputs": [],
   "source": [
    "dic1={1:10, 2:20}\n",
    "dic2={3:30, 4:40}\n",
    "dic3={5:50,6:60}\n",
    "d = {}\n",
    "for dic in (dic1, dic2, dic3):\n",
    "    d.update(dic)\n",
    "print(d)"
   ]
  },
  {
   "cell_type": "markdown",
   "metadata": {
    "deletable": true,
    "editable": true
   },
   "source": [
    "* Access to a value using a key"
   ]
  },
  {
   "cell_type": "code",
   "execution_count": null,
   "metadata": {
    "collapsed": false,
    "deletable": true,
    "editable": true
   },
   "outputs": [],
   "source": [
    "print(en_de[\"red\"])"
   ]
  },
  {
   "cell_type": "markdown",
   "metadata": {
    "deletable": true,
    "editable": true
   },
   "source": [
    "* What happens when the key is not in the dictionary?"
   ]
  },
  {
   "cell_type": "code",
   "execution_count": null,
   "metadata": {
    "collapsed": false,
    "deletable": true,
    "editable": true
   },
   "outputs": [],
   "source": [
    "print(en_de[\"brown\"])"
   ]
  },
  {
   "cell_type": "code",
   "execution_count": null,
   "metadata": {
    "collapsed": false,
    "deletable": true,
    "editable": true
   },
   "outputs": [],
   "source": [
    "print(en_de.get(\"brown\"))"
   ]
  },
  {
   "cell_type": "markdown",
   "metadata": {
    "deletable": true,
    "editable": true
   },
   "source": [
    "### Exercise 4\n",
    "*  Write a Python script to sort (ascending and descending) a dictionary by value"
   ]
  },
  {
   "cell_type": "code",
   "execution_count": null,
   "metadata": {
    "collapsed": false,
    "deletable": true,
    "editable": true
   },
   "outputs": [],
   "source": [
    "d = {2: \"a\", 4: \"v\", 3: \"d\", 1: \"e\", 5: \"m\"}\n",
    "for w in sorted(d, key=d.get, reverse = False): # reverse = False is the default value\n",
    "    print (w, d[w])"
   ]
  },
  {
   "cell_type": "code",
   "execution_count": null,
   "metadata": {
    "collapsed": false,
    "deletable": true,
    "editable": true
   },
   "outputs": [],
   "source": [
    "# How do we create a list that contains numbers 1 to 15?\n",
    "print([n for n in range(1, 16)])\n",
    "# How do we get the square of numbers 1 to 15?\n",
    "print([n**2 for n in range(1, 16)])"
   ]
  },
  {
   "cell_type": "markdown",
   "metadata": {
    "deletable": true,
    "editable": true
   },
   "source": [
    "### Exercise 5\n",
    "* Write a Python script to print a dictionary where the keys are numbers between 1 and 15 (both included) and the values are square of keys. "
   ]
  },
  {
   "cell_type": "code",
   "execution_count": null,
   "metadata": {
    "collapsed": false,
    "deletable": true,
    "editable": true
   },
   "outputs": [],
   "source": [
    "d = {}\n",
    "for n in range(1, 16):\n",
    "    d[n] = n**2 # add an item to the dictionary. dictionary[key] = value\n",
    "print(d)\n",
    "\n",
    "print({n:n**2 for n in range(1, 16)}) \n",
    "# dictionary comprehension {key:value for ...}"
   ]
  },
  {
   "cell_type": "markdown",
   "metadata": {
    "deletable": true,
    "editable": true
   },
   "source": [
    "#### Operation: delete an item in the dictionary\n",
    "* del d[k] --- deletes the key k together with his value"
   ]
  },
  {
   "cell_type": "code",
   "execution_count": null,
   "metadata": {
    "collapsed": false,
    "deletable": true,
    "editable": true
   },
   "outputs": [],
   "source": [
    "del en_de[\"red\"]\n",
    "en_de"
   ]
  },
  {
   "cell_type": "markdown",
   "metadata": {
    "deletable": true,
    "editable": true
   },
   "source": [
    "### Turn lists into dictionaries"
   ]
  },
  {
   "cell_type": "code",
   "execution_count": null,
   "metadata": {
    "collapsed": false,
    "deletable": true,
    "editable": true
   },
   "outputs": [],
   "source": [
    "en = [\"blue\", \"green\", \"lilac\", \"red\", \"yellow\", \"pink\"]\n",
    "de = [\"blau\", \"grün\", \"lila\", \"rot\", \"gelb\", \"rosa\"]\n",
    "en_de = dict(zip(en, de))\n",
    "en_de_lst = list(zip(en, de))\n",
    "en_de_zip = zip(en, de)\n",
    "print(en_de)\n",
    "print(en_de_lst)\n",
    "print(en_de_zip)"
   ]
  },
  {
   "cell_type": "markdown",
   "metadata": {
    "deletable": true,
    "editable": true
   },
   "source": [
    "### Turn dictionaries into lists"
   ]
  },
  {
   "cell_type": "code",
   "execution_count": null,
   "metadata": {
    "collapsed": false,
    "deletable": true,
    "editable": true
   },
   "outputs": [],
   "source": [
    "en_de = {'lilac': 'lila', 'yellow': 'gelb', 'green': 'grün', 'red': 'rot', 'blue': 'blau', 'pink': 'rosa'}\n",
    "keys = list(en_de.keys())\n",
    "print(keys)\n",
    "values = list(en_de.values())\n",
    "print(values)\n",
    "items = list(en_de.items())\n",
    "print(items)"
   ]
  },
  {
   "cell_type": "markdown",
   "metadata": {
    "deletable": true,
    "editable": true
   },
   "source": [
    "### Exercise 6:\n",
    "* Write a Python program to remove duplicates from Dictionary"
   ]
  },
  {
   "cell_type": "code",
   "execution_count": null,
   "metadata": {
    "collapsed": false,
    "deletable": true,
    "editable": true
   },
   "outputs": [],
   "source": [
    "en_de = {'red': 'rot', 'blue': 'blau', 'pink': 'rosa', 'Blue': 'blau'}\n",
    "result = {}\n",
    "\n",
    "for key,value in en_de.items():\n",
    "    if value not in result.values():\n",
    "        result[key] = value\n",
    "print(result)"
   ]
  },
  {
   "cell_type": "markdown",
   "metadata": {
    "deletable": true,
    "editable": true
   },
   "source": [
    "### Exercise 7:\n",
    "* Write a Python program to create a dictionary from a string."
   ]
  },
  {
   "cell_type": "code",
   "execution_count": null,
   "metadata": {
    "collapsed": false,
    "deletable": true,
    "editable": true
   },
   "outputs": [],
   "source": [
    "dic_list = [i for i in enumerate([\"John\", \"likes\", \"Mary\"])]\n",
    "print(dic_list)"
   ]
  },
  {
   "cell_type": "code",
   "execution_count": null,
   "metadata": {
    "collapsed": false,
    "deletable": true,
    "editable": true
   },
   "outputs": [],
   "source": [
    "dic_list = [i for i in enumerate(\"JupyterNotebook\")]\n",
    "print(dic_list)"
   ]
  },
  {
   "cell_type": "code",
   "execution_count": null,
   "metadata": {
    "collapsed": false,
    "deletable": true,
    "editable": true
   },
   "outputs": [],
   "source": [
    "def s_to_d(s):\n",
    "    dic_list = [i for i in enumerate(s)]\n",
    "    return dict(dic_list)\n",
    "s_to_d(\"JupyterNotebook\")"
   ]
  },
  {
   "cell_type": "markdown",
   "metadata": {
    "collapsed": true,
    "deletable": true,
    "editable": true
   },
   "source": [
    "### Exercise 8: roman to integer\n",
    "* Given a roman numeral, convert it to an integer.\n",
    "\n",
    "|Symbol|I|V|X|L|C|D|M|\n",
    "|---|---|---|---|---|---|---|\n",
    "|Value|1|5|10|50|100|500|1,000|\n",
    "\n",
    "* Input: MDIC\n",
    "* Output: 1599"
   ]
  },
  {
   "cell_type": "code",
   "execution_count": null,
   "metadata": {
    "collapsed": false,
    "deletable": true,
    "editable": true
   },
   "outputs": [],
   "source": [
    "def romanToInt(s):\n",
    "    roman = {'M': 1000,'D': 500 ,'C': 100,'L': 50,'X': 10,'V': 5,'I': 1}\n",
    "    z = 0\n",
    "    for i in range(1, len(s)):\n",
    "        if roman[s[i-1]] < roman[s[i]]:\n",
    "            z -= roman[s[i-1]]\n",
    "        else:\n",
    "            z += roman[s[i-1]]\n",
    "    print(z + roman[s[-1]])\n",
    "romanToInt(\"MDIC\")"
   ]
  },
  {
   "cell_type": "markdown",
   "metadata": {
    "deletable": true,
    "editable": true
   },
   "source": [
    "### Exercise 9: Two Sum\n",
    "* Given an array of integers, return indices of the two numbers such that they add up to a specific target.\n",
    "* You may assume that each input would have exactly one solution, and you may not use the same element twice.\n",
    "* Given nums = [1, 2, 3, 7, 11, 15], target = 9, because nums[1] + nums[3] = 2 + 7 = 9, return [1, 3]."
   ]
  },
  {
   "cell_type": "code",
   "execution_count": null,
   "metadata": {
    "collapsed": false,
    "deletable": true,
    "editable": true
   },
   "outputs": [],
   "source": [
    "def get_two_sum(nums, target):\n",
    "    if len(nums) <= 1:\n",
    "        return False\n",
    "    d = {}\n",
    "    for i in range(len(nums)):\n",
    "        if nums[i] in d:\n",
    "            print(d)\n",
    "            return [d[nums[i]], i]\n",
    "        else:\n",
    "            d[target - nums[i]] = i\n",
    "    \n",
    "print(get_two_sum([1, 2, 3, 7, 11, 15], 9))\n",
    "        "
   ]
  },
  {
   "cell_type": "markdown",
   "metadata": {
    "collapsed": true,
    "deletable": true,
    "editable": true
   },
   "source": [
    "### Homework 2:\n",
    "* Write a Python program to create and display all combinations of letters, selecting each letter from a different key in a dictionary.\n",
    "* Sample data : {'1':['a','b'], '2':['c','d']}\n",
    "* Expected Output: \n",
    "* ac\n",
    "* ad\n",
    "* bc\n",
    "* bd"
   ]
  },
  {
   "cell_type": "code",
   "execution_count": null,
   "metadata": {
    "collapsed": false,
    "deletable": true,
    "editable": true
   },
   "outputs": [],
   "source": [
    "def get_combo(d):\n",
    "    values = list(d.values())\n",
    "    print(values)\n",
    "    n = 0\n",
    "    xyz = [x+y+z for x in values[n] for y in values[n+1] for z in values[n+2]]\n",
    "    print(xyz)\n",
    "\n",
    "    \n",
    "get_combo({'1':['a','b'], '2':['c','d'], '3':['e','f']})"
   ]
  },
  {
   "cell_type": "code",
   "execution_count": null,
   "metadata": {
    "collapsed": false,
    "deletable": true,
    "editable": true
   },
   "outputs": [],
   "source": [
    "def get_combo(d):\n",
    "    values = [d[k] for k in sorted(d.keys())]\n",
    "    print(values)\n",
    "    \n",
    "    for i in range(1, len(values)):\n",
    "        for j in values[i-1]:\n",
    "            for x in values[i]:\n",
    "                print(j+x)\n",
    "    \n",
    "get_combo({'1':['a','b'], '2':['c','d']})"
   ]
  },
  {
   "cell_type": "code",
   "execution_count": null,
   "metadata": {
    "collapsed": false,
    "deletable": true,
    "editable": true
   },
   "outputs": [],
   "source": [
    "import itertools \n",
    "def get_combo_2(d):\n",
    "    for combo in itertools.product(*[d[k] for k in sorted(d.keys())]):\n",
    "        print(''.join(combo))\n",
    "get_combo_2({'1':['a','b'], '2':['c','d'], '3':['e','f']})"
   ]
  },
  {
   "cell_type": "markdown",
   "metadata": {
    "collapsed": true,
    "deletable": true,
    "editable": true
   },
   "source": [
    "### Exercise 10\n",
    "* Write a function to find the longest common prefix string amongst a list of strings.\n",
    "* For example, lst = [\"leet\", \"leed\", \"lee\"]\n",
    "* the longest common prefix string is \"lee\""
   ]
  },
  {
   "cell_type": "code",
   "execution_count": null,
   "metadata": {
    "collapsed": false,
    "deletable": true,
    "editable": true
   },
   "outputs": [],
   "source": [
    "lst = [\"leet\", \"leed\", \"leep\"] \n",
    "for i, string in enumerate(zip(*lst)):\n",
    "    print(i, string)\n",
    "    \n",
    "lst2 = [\"a\", \"lee\", \"leept\"]\n",
    "print(min(lst2))"
   ]
  },
  {
   "cell_type": "code",
   "execution_count": null,
   "metadata": {
    "collapsed": false,
    "deletable": true,
    "editable": true
   },
   "outputs": [],
   "source": [
    "def get_longest_common_prefix(lst):\n",
    "    if len(lst) == 0:\n",
    "        return \"\"\n",
    "    for i, string in enumerate(zip(*lst)):\n",
    "        print(i, string)\n",
    "        if len(set(string)) > 1:\n",
    "            return lst[0][:i]\n",
    "            \n",
    "    return min(lst)\n",
    "print(get_longest_common_prefix([\"lee\", \"leep\", \"leept\"]))"
   ]
  },
  {
   "cell_type": "markdown",
   "metadata": {
    "deletable": true,
    "editable": true
   },
   "source": [
    "# Lambda operator\n",
    "* The general syntax of a lambda function: \n",
    "* lambda argument_list: expression "
   ]
  },
  {
   "cell_type": "code",
   "execution_count": null,
   "metadata": {
    "collapsed": false,
    "deletable": true,
    "editable": true
   },
   "outputs": [],
   "source": [
    "sumN = lambda x, y : x * y\n",
    "print(sumN(3, 4))"
   ]
  },
  {
   "cell_type": "markdown",
   "metadata": {
    "deletable": true,
    "editable": true
   },
   "source": [
    "# map() function\n",
    "* the advantage of the lambda operator can be seen when it is used in combination with the map() function. \n",
    "* map() is a function which takes two arguments: \n",
    "* r = map(func, seq)\n",
    "* map() applies the function func to all the elements of the sequence seq."
   ]
  },
  {
   "cell_type": "code",
   "execution_count": null,
   "metadata": {
    "collapsed": false,
    "deletable": true,
    "editable": true
   },
   "outputs": [],
   "source": [
    "def get_squared(lst):\n",
    "    squared = []\n",
    "    for i in lst:\n",
    "        squared.append(i**2)\n",
    "    return squared\n",
    "print(get_squared([1, 2, 3, 4, 5]))"
   ]
  },
  {
   "cell_type": "code",
   "execution_count": null,
   "metadata": {
    "collapsed": false,
    "deletable": true,
    "editable": true
   },
   "outputs": [],
   "source": [
    "def get_squared(lst):\n",
    "    return [i**2 for i in lst]\n",
    "print(get_squared([1, 2, 3, 4, 5]))"
   ]
  },
  {
   "cell_type": "code",
   "execution_count": null,
   "metadata": {
    "collapsed": false,
    "deletable": true,
    "editable": true
   },
   "outputs": [],
   "source": [
    "items = [1, 2, 3, 4, 5]\n",
    "list(map(lambda x : x**2, items))"
   ]
  },
  {
   "cell_type": "markdown",
   "metadata": {
    "deletable": true,
    "editable": true
   },
   "source": [
    "* For a series of numbers, we want to get the results of multiplication and addition, so we have one item: a series of numbers, and two functions: multiplcation and addtion. We can easily do this with map()."
   ]
  },
  {
   "cell_type": "code",
   "execution_count": null,
   "metadata": {
    "collapsed": false,
    "deletable": true,
    "editable": true
   },
   "outputs": [],
   "source": [
    "def multiply(x):\n",
    "    return (x*x)\n",
    "def add(x):\n",
    "    return (x+x)\n",
    "\n",
    "funcs = (multiply, add)\n",
    "for i in range(5):\n",
    "    value = list(map(lambda x: x(i), funcs))\n",
    "    print(value)"
   ]
  },
  {
   "cell_type": "markdown",
   "metadata": {
    "deletable": true,
    "editable": true
   },
   "source": [
    "# filtering\n",
    "* filter(function, sequence) \n",
    "* The function filters out all the elements of a sequence \"sequence\", for which the function \"function\" returns True."
   ]
  },
  {
   "cell_type": "code",
   "execution_count": null,
   "metadata": {
    "collapsed": false,
    "deletable": true,
    "editable": true
   },
   "outputs": [],
   "source": [
    "number_list = range(-5, 5)\n",
    "less_than_zero = list(filter(lambda x: x < 0, number_list))\n",
    "print(less_than_zero)"
   ]
  },
  {
   "cell_type": "code",
   "execution_count": null,
   "metadata": {
    "collapsed": false,
    "deletable": true,
    "editable": true
   },
   "outputs": [],
   "source": [
    "fibonacci = [0,1,1,2,3,5,8,13,21,34,55]\n",
    "even_numbers = list(filter(lambda x: x % 2==0, fibonacci))\n",
    "print(even_numbers)"
   ]
  },
  {
   "cell_type": "markdown",
   "metadata": {
    "deletable": true,
    "editable": true
   },
   "source": [
    "* How do we get the list of odd fibonacci numbers?"
   ]
  },
  {
   "cell_type": "code",
   "execution_count": null,
   "metadata": {
    "collapsed": false,
    "deletable": true,
    "editable": true
   },
   "outputs": [],
   "source": [
    "print(bool(0))"
   ]
  },
  {
   "cell_type": "code",
   "execution_count": null,
   "metadata": {
    "collapsed": false,
    "deletable": true,
    "editable": true
   },
   "outputs": [],
   "source": [
    "fibonacci = [0,1,1,2,3,5,8,13,21,34,55]\n",
    "odd_numbers = list(filter(lambda x: x % 2, fibonacci))\n",
    "print(odd_numbers)"
   ]
  },
  {
   "cell_type": "markdown",
   "metadata": {
    "deletable": true,
    "editable": true
   },
   "source": [
    "# reduce\n",
    "* applies a rolling computation to sequential pairs of values in a list"
   ]
  },
  {
   "cell_type": "code",
   "execution_count": null,
   "metadata": {
    "collapsed": false,
    "deletable": true,
    "editable": true
   },
   "outputs": [],
   "source": [
    "product = 1\n",
    "for nums in range(1,11):\n",
    "    product *= nums\n",
    "print(product)"
   ]
  },
  {
   "cell_type": "code",
   "execution_count": null,
   "metadata": {
    "collapsed": false,
    "deletable": true,
    "editable": true
   },
   "outputs": [],
   "source": [
    "import functools\n",
    "functools.reduce(lambda x,y: x*y, list(range(1,11)))"
   ]
  },
  {
   "cell_type": "code",
   "execution_count": null,
   "metadata": {
    "collapsed": false,
    "deletable": true,
    "editable": true
   },
   "outputs": [],
   "source": [
    "import functools\n",
    "functools.reduce(lambda x,y: x+y, [47,11,42,13])"
   ]
  },
  {
   "cell_type": "code",
   "execution_count": null,
   "metadata": {
    "collapsed": true,
    "deletable": true,
    "editable": true
   },
   "outputs": [],
   "source": [
    "from functools import reduce\n",
    "product = reduce((lambda x, y: x * y), [1, 2, 3, 4])"
   ]
  },
  {
   "cell_type": "code",
   "execution_count": null,
   "metadata": {
    "collapsed": false,
    "deletable": true,
    "editable": true
   },
   "outputs": [],
   "source": [
    "# Determining the maximum of a list of numerical values by using reduce:\n",
    "from functools import reduce\n",
    "f = lambda a,b: a if (a > b) else b\n",
    "reduce(f, [47,11,42,102,13])"
   ]
  },
  {
   "cell_type": "markdown",
   "metadata": {
    "deletable": true,
    "editable": true
   },
   "source": [
    "### Exercise:"
   ]
  },
  {
   "cell_type": "code",
   "execution_count": null,
   "metadata": {
    "collapsed": false,
    "deletable": true,
    "editable": true
   },
   "outputs": [],
   "source": [
    "# Calculating the sum of the numbers from 1 to 100:\n",
    "from functools import reduce\n",
    "reduce(lambda a, b: a+b, range(101))"
   ]
  },
  {
   "cell_type": "code",
   "execution_count": null,
   "metadata": {
    "collapsed": false,
    "deletable": true,
    "editable": true
   },
   "outputs": [],
   "source": [
    "import random\n",
    "\n",
    "print(random.randint(1, 21))"
   ]
  },
  {
   "cell_type": "code",
   "execution_count": null,
   "metadata": {
    "collapsed": false,
    "deletable": true,
    "editable": true
   },
   "outputs": [],
   "source": [
    "n1 = random.randint(1, 6)\n",
    "n2 = random.randint(1, 6)\n",
    "\n",
    "print(n1, n2, n1*n2)\n",
    "\n"
   ]
  },
  {
   "cell_type": "code",
   "execution_count": null,
   "metadata": {
    "collapsed": false,
    "deletable": true,
    "editable": true
   },
   "outputs": [],
   "source": [
    "# When we roll two dices, some combinations are more frequent than others. \n",
    "# The more frequent combinations should be on bingo board than the less frequent ones.\n",
    "# we get the most frequent combinations using Counter.  \n",
    "from collections import Counter\n",
    "stack = []\n",
    "for n1 in range(1, 7):\n",
    "    for n2 in range(1,7):\n",
    "        stack.append(n1*n2)\n",
    "print(Counter(stack))\n",
    "\n",
    "print(Counter([n1*n2 for n1 in range(1, 7) for n2 in range(1,7)]))\n",
    "\n",
    "# A 3-by-3 bingo board can have 8 bingo rows. \n",
    "# Cells on the bingo board have different probabilities in making up a bingo row.\n",
    "# For example, the top left corner cell has a chance of 3/8, and the center cell on the board has a chance of 4/8.\n",
    "\n",
    "res = 0\n",
    "for n in range(1, 37):\n",
    "    res += n\n",
    "print(res/36)\n",
    "    "
   ]
  },
  {
   "cell_type": "code",
   "execution_count": null,
   "metadata": {
    "collapsed": false,
    "deletable": true,
    "editable": true
   },
   "outputs": [],
   "source": [
    "n = 0\n",
    "\n",
    "stack = []\n",
    "while n < 1000000:\n",
    "    n1 = random.randint(1, 6)\n",
    "    n2 = random.randint(1, 6)\n",
    "    res = n1*n2\n",
    "    stack.append(res)\n",
    "    n+=1\n",
    "print((Counter(stack)))"
   ]
  },
  {
   "cell_type": "markdown",
   "metadata": {
    "deletable": true,
    "editable": true
   },
   "source": [
    "### Exercise: find the longest substring in a given string. \n",
    "* \"pwwkew\"\n",
    "* \"wke\""
   ]
  },
  {
   "cell_type": "code",
   "execution_count": null,
   "metadata": {
    "collapsed": false,
    "deletable": true,
    "editable": true
   },
   "outputs": [],
   "source": [
    "def get_longest_substring(s):\n",
    "    start = maxLen = 0\n",
    "    dic = {}\n",
    "    for i in range(len(s)):\n",
    "        if s[i] in dic:\n",
    "            start = dic[s[i]]+1\n",
    "        else:\n",
    "            maxLen = max(maxLen, i+1-start)\n",
    "        dic[s[i]] = i\n",
    "\n",
    "    return maxLen\n",
    "print(get_longest_substring(\"pwwkew\"))"
   ]
  },
  {
   "cell_type": "code",
   "execution_count": 2,
   "metadata": {
    "collapsed": false,
    "deletable": true,
    "editable": true
   },
   "outputs": [
    {
     "name": "stdout",
     "output_type": "stream",
     "text": [
      "[[6, 9], [6, 14, 1], [11, 4, 6], [9, 6], [1, 9, 14], [9, 6], [6, 9], [4, 9, 11]]\n"
     ]
    }
   ],
   "source": [
    "from itertools import product\n",
    "def get_moves(positions):\n",
    "    x, y = positions\n",
    "    moves = list(product([x-1, x+1],[y-2, y+2])) + list(product([x-2,x+2],[y-1,y+1]))\n",
    "    moves = [(x,y) for x,y in moves if x >= 0 and y >= 0 and x < 4 and y < 4]\n",
    "    return moves\n",
    "           \n",
    "def get_board():\n",
    "    board = [[0 for x in range(4)] for x in range(4)]\n",
    "    for i in range(4):\n",
    "        board[0][i] = i\n",
    "        board[1][i] = i+4\n",
    "        board[2][i] = i+8\n",
    "        board[3][i] = i+12\n",
    "    return board\n",
    "\n",
    "def memoize(f):\n",
    "    memo = {}\n",
    "    def helper(x):\n",
    "        if x not in memo:            \n",
    "            memo[x] = f(x)\n",
    "        return memo[x]\n",
    "    return helper\n",
    "\n",
    "def get_multiples(n):\n",
    "    if n == 0:\n",
    "        return [(0,0)]\n",
    "    elif n == 1:\n",
    "        return get_moves((0,0))\n",
    "    elif n == 2:\n",
    "        #stack = []\n",
    "        #for i in get_multiples(n-1):\n",
    "        #    stack.append(get_moves(i))\n",
    "        #return stack\n",
    "        return [get_moves(i) for i in get_multiples(n-1)]\n",
    "    else:\n",
    "        #stack = []\n",
    "        #for j in range(len(get_multiples(n-1))):\n",
    "        #    for i in get_multiples(n-1)[j]:\n",
    "        #        stack.append(get_moves(i))\n",
    "        #return stack\n",
    "        return [get_moves(i) for j in range(len(get_multiples(n-1))) for i in get_multiples(n-1)[j]]\n",
    "    \n",
    "get_multiples = memoize(get_multiples)\n",
    "\n",
    "def get_landing_numbers(n):\n",
    "    if n == 1:\n",
    "        stack1 = []\n",
    "        for i in get_multiples(n):\n",
    "            stack1.append(get_board()[i[0]][i[1]])\n",
    "        return stack1\n",
    "    \n",
    "    else:\n",
    "        return [[get_board()[i[0]][i[1]] for i in get_multiples(n)[j]] for j in range(len(get_multiples(n)))]\n",
    "get_landing_numbers = memoize(get_landing_numbers)\n",
    "\n",
    "def get_list(n):\n",
    "    if n == 1:\n",
    "        return get_landing_numbers(n)\n",
    "    elif n == 2:\n",
    "        stack1 = [i for i in get_landing_numbers(n-1)]\n",
    "        stack2 = [j for j in get_landing_numbers(n)]\n",
    "        return list(zip(stack1, stack2))\n",
    "    else:\n",
    "        stack3 = []\n",
    "        for i in get_landing_numbers(n-1):\n",
    "            stack3.extend(i)\n",
    "        stack2 = [j for j in get_landing_numbers(n)]\n",
    "        return list(zip(stack3, stack2))\n",
    "\n",
    "get_list = memoize(get_list)\n",
    "\n",
    "def get_random_sum(n):\n",
    "    if n == 1:\n",
    "        return get_list(n).pop()\n",
    "    else:\n",
    "        res = get_list(n).pop()[1].pop()\n",
    "        return res + get_random_sum(n-1)   \n",
    "get_random_sum = memoize(get_random_sum)\n",
    "\n",
    "def get_mean(n):\n",
    "    return get_random_sum(n)/n\n",
    "\n",
    "def get_square_sum(n):\n",
    "    if n == 1:\n",
    "        return 0\n",
    "    elif n == 2:\n",
    "        res1 = (get_list(n).pop()[1].pop() - get_mean(n))**2\n",
    "        res2 = (get_list(n-1).pop() - get_mean(n))**2\n",
    "        return res1+res2   \n",
    "    else:\n",
    "        for i in range(3, n+1):\n",
    "            res = (get_list(i).pop()[1].pop() - get_mean(n))**2\n",
    "        return res + get_square_sum(n-1)  \n",
    "\n",
    "get_square_sum = memoize(get_square_sum)\n",
    "\n",
    "def get_sd(n):\n",
    "    return get_square_sum(n)/n\n",
    "#print(get_board())\n",
    "#print(get_moves((0,0)))\n",
    "#print(get_landing_numbers(1))\n",
    "#print(get_landing_numbers(2))\n",
    "#print(get_landing_numbers(16))\n",
    "print(get_landing_numbers(3))\n",
    "#print(get_multiples(16))\n",
    "#print(get_list(1))\n",
    "#print(get_list(3))\n",
    "#print(get_list(4))\n",
    "#print(get_random_sum(2))\n",
    "#print(get_mean(16))\n",
    "#print(get_sd(16))"
   ]
  },
  {
   "cell_type": "markdown",
   "metadata": {
    "collapsed": true,
    "deletable": true,
    "editable": true
   },
   "source": [
    "## print(1.875%13)"
   ]
  },
  {
   "cell_type": "code",
   "execution_count": 2,
   "metadata": {
    "collapsed": false,
    "deletable": true,
    "editable": true
   },
   "outputs": [
    {
     "data": {
      "text/plain": [
       "2"
      ]
     },
     "execution_count": 2,
     "metadata": {},
     "output_type": "execute_result"
    }
   ],
   "source": [
    "class Solution:\n",
    "    def mySqrt(self, x):\n",
    "        l, r = 0, x\n",
    "        while l <= r:\n",
    "            mid = l + (r-l)//2\n",
    "            if mid * mid <= x < (mid+1)*(mid+1):\n",
    "                return mid\n",
    "            elif x < mid * mid:\n",
    "                r = mid\n",
    "            else:\n",
    "                l = mid + 1\n",
    "                \n",
    "Solution().mySqrt(5)"
   ]
  },
  {
   "cell_type": "code",
   "execution_count": null,
   "metadata": {
    "collapsed": true
   },
   "outputs": [],
   "source": []
  }
 ],
 "metadata": {
  "kernelspec": {
   "display_name": "Python 3",
   "language": "python",
   "name": "python3"
  },
  "language_info": {
   "codemirror_mode": {
    "name": "ipython",
    "version": 3
   },
   "file_extension": ".py",
   "mimetype": "text/x-python",
   "name": "python",
   "nbconvert_exporter": "python",
   "pygments_lexer": "ipython3",
   "version": "3.5.2"
  }
 },
 "nbformat": 4,
 "nbformat_minor": 2
}
