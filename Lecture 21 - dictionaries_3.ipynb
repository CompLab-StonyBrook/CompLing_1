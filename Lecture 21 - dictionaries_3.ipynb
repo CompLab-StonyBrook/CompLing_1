{
 "cells": [
  {
   "cell_type": "markdown",
   "metadata": {},
   "source": [
    "### Homework 1:\n",
    "* Write a Python program to remove duplicates from Dictionary"
   ]
  },
  {
   "cell_type": "code",
   "execution_count": 2,
   "metadata": {
    "collapsed": false
   },
   "outputs": [
    {
     "name": "stdout",
     "output_type": "stream",
     "text": [
      "{'pink': 'rosa', 'Blue': 'blau', 'red': 'rot'}\n"
     ]
    }
   ],
   "source": [
    "en_de = {'red': 'rot', 'blue': 'blau', 'pink': 'rosa', 'Blue': 'blau'}\n",
    "result = {}\n",
    "\n",
    "for key,value in en_de.items():\n",
    "    if value not in result.values():\n",
    "        result[key] = value\n",
    "print(result)"
   ]
  },
  {
   "cell_type": "markdown",
   "metadata": {
    "collapsed": true,
    "deletable": true,
    "editable": true
   },
   "source": [
    "### Homework 2:\n",
    "* Write a Python program to create and display all combinations of letters, selecting each letter from a different key in a dictionary.\n",
    "* Sample data : {'1':['a','b'], '2':['c','d']}\n",
    "* Expected Output: \n",
    "* ac\n",
    "* ad\n",
    "* bc\n",
    "* bd"
   ]
  },
  {
   "cell_type": "code",
   "execution_count": 215,
   "metadata": {
    "collapsed": false,
    "deletable": true,
    "editable": true
   },
   "outputs": [
    {
     "name": "stdout",
     "output_type": "stream",
     "text": [
      "[['a', 'b'], ['e', 'f'], ['c', 'd']]\n",
      "['aec', 'aed', 'afc', 'afd', 'bec', 'bed', 'bfc', 'bfd']\n"
     ]
    }
   ],
   "source": [
    "def get_combo(d):\n",
    "    values = list(d.values())\n",
    "    print(values)\n",
    "    n = 0\n",
    "    xyz = [x+y+z for x in values[n] for y in values[n+1] for z in values[n+2]]\n",
    "    print(xyz)\n",
    "\n",
    "    \n",
    "get_combo({'1':['a','b'], '2':['c','d'], '3':['e','f']})"
   ]
  },
  {
   "cell_type": "code",
   "execution_count": 216,
   "metadata": {
    "collapsed": false,
    "deletable": true,
    "editable": true
   },
   "outputs": [
    {
     "name": "stdout",
     "output_type": "stream",
     "text": [
      "[['a', 'b'], ['c', 'd']]\n",
      "ac\n",
      "ad\n",
      "bc\n",
      "bd\n"
     ]
    }
   ],
   "source": [
    "def get_combo(d):\n",
    "    values = [d[k] for k in sorted(d.keys())]\n",
    "    print(values)\n",
    "    \n",
    "    for i in range(1, len(values)):\n",
    "        for j in values[i-1]:\n",
    "            for x in values[i]:\n",
    "                print(j+x)\n",
    "    \n",
    "get_combo({'1':['a','b'], '2':['c','d']})"
   ]
  },
  {
   "cell_type": "code",
   "execution_count": 218,
   "metadata": {
    "collapsed": false,
    "deletable": true,
    "editable": true
   },
   "outputs": [
    {
     "name": "stdout",
     "output_type": "stream",
     "text": [
      "ace\n",
      "acf\n",
      "ade\n",
      "adf\n",
      "bce\n",
      "bcf\n",
      "bde\n",
      "bdf\n"
     ]
    }
   ],
   "source": [
    "import itertools \n",
    "def get_combo_2(d):\n",
    "    for combo in itertools.product(*[d[k] for k in sorted(d.keys())]):\n",
    "        print(''.join(combo))\n",
    "get_combo_2({'1':['a','b'], '2':['c','d'], '3':['e','f']})"
   ]
  },
  {
   "cell_type": "markdown",
   "metadata": {
    "collapsed": true,
    "deletable": true,
    "editable": true
   },
   "source": [
    "### Exercise 10\n",
    "* Write a function to find the longest common prefix string amongst a list of strings.\n",
    "* For example, lst = [\"leet\", \"leed\", \"lee\"]\n",
    "* the longest common prefix string is \"lee\""
   ]
  },
  {
   "cell_type": "code",
   "execution_count": 262,
   "metadata": {
    "collapsed": false,
    "deletable": true,
    "editable": true
   },
   "outputs": [
    {
     "name": "stdout",
     "output_type": "stream",
     "text": [
      "0 ('l', 'l', 'l')\n",
      "1 ('e', 'e', 'e')\n",
      "2 ('e', 'e', 'e')\n",
      "3 ('t', 'd', 'p')\n",
      "a\n"
     ]
    }
   ],
   "source": [
    "lst = [\"leet\", \"leed\", \"leep\"] \n",
    "for i, string in enumerate(zip(*lst)):\n",
    "    print(i, string)\n",
    "    \n",
    "lst2 = [\"a\", \"lee\", \"leept\"]\n",
    "print(min(lst2))"
   ]
  },
  {
   "cell_type": "code",
   "execution_count": 278,
   "metadata": {
    "collapsed": false,
    "deletable": true,
    "editable": true
   },
   "outputs": [
    {
     "name": "stdout",
     "output_type": "stream",
     "text": [
      "0 ('l', 'l', 'l')\n",
      "1 ('e', 'e', 'e')\n",
      "2 ('e', 'e', 'e')\n",
      "3 ('d', 'p', 'p')\n",
      "lee\n"
     ]
    }
   ],
   "source": [
    "def get_longest_common_prefix(lst):\n",
    "    if len(lst) == 0:\n",
    "        return \"\"\n",
    "    for i, string in enumerate(zip(*lst)):\n",
    "        print(i, string)\n",
    "        if len(set(string)) > 1:\n",
    "            return lst[0][:i]\n",
    "            \n",
    "    return min(lst)\n",
    "print(get_longest_common_prefix([\"lee\", \"leep\", \"leept\"]))"
   ]
  },
  {
   "cell_type": "markdown",
   "metadata": {
    "deletable": true,
    "editable": true
   },
   "source": [
    "# Lambda operator\n",
    "* The general syntax of a lambda function: \n",
    "* lambda argument_list: expression "
   ]
  },
  {
   "cell_type": "code",
   "execution_count": 279,
   "metadata": {
    "collapsed": false,
    "deletable": true,
    "editable": true
   },
   "outputs": [
    {
     "name": "stdout",
     "output_type": "stream",
     "text": [
      "12\n"
     ]
    }
   ],
   "source": [
    "sumN = lambda x, y : x * y\n",
    "print(sumN(3, 4))"
   ]
  },
  {
   "cell_type": "markdown",
   "metadata": {
    "deletable": true,
    "editable": true
   },
   "source": [
    "# map() function\n",
    "* the advantage of the lambda operator can be seen when it is used in combination with the map() function. \n",
    "* map() is a function which takes two arguments: \n",
    "* r = map(func, seq)\n",
    "* map() applies the function func to all the elements of the sequence seq."
   ]
  },
  {
   "cell_type": "code",
   "execution_count": 280,
   "metadata": {
    "collapsed": false,
    "deletable": true,
    "editable": true
   },
   "outputs": [
    {
     "name": "stdout",
     "output_type": "stream",
     "text": [
      "[1, 4, 9, 16, 25]\n"
     ]
    }
   ],
   "source": [
    "def get_squared(lst):\n",
    "    squared = []\n",
    "    for i in lst:\n",
    "        squared.append(i**2)\n",
    "    return squared\n",
    "print(get_squared([1, 2, 3, 4, 5]))"
   ]
  },
  {
   "cell_type": "code",
   "execution_count": 155,
   "metadata": {
    "collapsed": false,
    "deletable": true,
    "editable": true
   },
   "outputs": [
    {
     "name": "stdout",
     "output_type": "stream",
     "text": [
      "[1, 4, 9, 16, 25]\n"
     ]
    }
   ],
   "source": [
    "def get_squared(lst):\n",
    "    return [i**2 for i in lst]\n",
    "print(get_squared([1, 2, 3, 4, 5]))"
   ]
  },
  {
   "cell_type": "code",
   "execution_count": 282,
   "metadata": {
    "collapsed": false,
    "deletable": true,
    "editable": true
   },
   "outputs": [
    {
     "data": {
      "text/plain": [
       "[1, 4, 9, 16, 25]"
      ]
     },
     "execution_count": 282,
     "metadata": {},
     "output_type": "execute_result"
    }
   ],
   "source": [
    "items = [1, 2, 3, 4, 5]\n",
    "list(map(lambda x : x**2, items))"
   ]
  },
  {
   "cell_type": "markdown",
   "metadata": {
    "deletable": true,
    "editable": true
   },
   "source": [
    "* For a series of numbers, we want to get the results of multiplication and addition, so we have one item: a series of numbers, and two functions: multiplcation and addtion. We can easily do this with map()."
   ]
  },
  {
   "cell_type": "code",
   "execution_count": 156,
   "metadata": {
    "collapsed": false,
    "deletable": true,
    "editable": true
   },
   "outputs": [
    {
     "name": "stdout",
     "output_type": "stream",
     "text": [
      "[0, 0]\n",
      "[1, 2]\n",
      "[4, 4]\n",
      "[9, 6]\n",
      "[16, 8]\n"
     ]
    }
   ],
   "source": [
    "def multiply(x):\n",
    "    return (x*x)\n",
    "def add(x):\n",
    "    return (x+x)\n",
    "\n",
    "funcs = (multiply, add)\n",
    "for i in range(5):\n",
    "    value = list(map(lambda x: x(i), funcs))\n",
    "    print(value)"
   ]
  },
  {
   "cell_type": "markdown",
   "metadata": {
    "deletable": true,
    "editable": true
   },
   "source": [
    "# filtering\n",
    "* filter(function, sequence) \n",
    "* The function filters out all the elements of a sequence \"sequence\", for which the function \"function\" returns True."
   ]
  },
  {
   "cell_type": "code",
   "execution_count": 285,
   "metadata": {
    "collapsed": false,
    "deletable": true,
    "editable": true
   },
   "outputs": [
    {
     "name": "stdout",
     "output_type": "stream",
     "text": [
      "[-5, -4, -3, -2, -1]\n"
     ]
    }
   ],
   "source": [
    "number_list = range(-5, 5)\n",
    "less_than_zero = list(filter(lambda x: x < 0, number_list))\n",
    "print(less_than_zero)"
   ]
  },
  {
   "cell_type": "code",
   "execution_count": 48,
   "metadata": {
    "collapsed": false,
    "deletable": true,
    "editable": true
   },
   "outputs": [
    {
     "name": "stdout",
     "output_type": "stream",
     "text": [
      "[0, 2, 8, 34]\n"
     ]
    }
   ],
   "source": [
    "fibonacci = [0,1,1,2,3,5,8,13,21,34,55]\n",
    "even_numbers = list(filter(lambda x: x % 2==0, fibonacci))\n",
    "print(even_numbers)"
   ]
  },
  {
   "cell_type": "markdown",
   "metadata": {
    "deletable": true,
    "editable": true
   },
   "source": [
    "* How do we get the list of odd fibonacci numbers?"
   ]
  },
  {
   "cell_type": "code",
   "execution_count": 294,
   "metadata": {
    "collapsed": false,
    "deletable": true,
    "editable": true
   },
   "outputs": [
    {
     "name": "stdout",
     "output_type": "stream",
     "text": [
      "False\n"
     ]
    }
   ],
   "source": [
    "print(bool(0))"
   ]
  },
  {
   "cell_type": "code",
   "execution_count": 296,
   "metadata": {
    "collapsed": false,
    "deletable": true,
    "editable": true
   },
   "outputs": [
    {
     "name": "stdout",
     "output_type": "stream",
     "text": [
      "[1, 1, 3, 5, 13, 21, 55]\n"
     ]
    }
   ],
   "source": [
    "fibonacci = [0,1,1,2,3,5,8,13,21,34,55]\n",
    "odd_numbers = list(filter(lambda x: x % 2, fibonacci))\n",
    "print(odd_numbers)"
   ]
  },
  {
   "cell_type": "markdown",
   "metadata": {},
   "source": [
    "### Homework 1: roman to integer\n",
    "* Given a roman numeral, convert it to an integer.\n",
    "\n",
    "|Symbol|I|V|X|L|C|D|M|\n",
    "|---|---|---|---|---|---|---|\n",
    "|Value|1|5|10|50|100|500|1,000|\n",
    "\n",
    "* Input: MDIC\n",
    "* Output: 1599"
   ]
  },
  {
   "cell_type": "markdown",
   "metadata": {},
   "source": [
    "### Homework 2: Two Sum\n",
    "* Given an array of integers, return indices of the two numbers such that they add up to a specific target.\n",
    "* You may assume that each input would have exactly one solution, and you may not use the same element twice.\n",
    "* Given nums = [1, 2, 3, 7, 11, 15], target = 9, because nums[1] + nums[3] = 2 + 7 = 9, return [1, 3]."
   ]
  },
  {
   "cell_type": "code",
   "execution_count": null,
   "metadata": {
    "collapsed": true
   },
   "outputs": [],
   "source": []
  }
 ],
 "metadata": {
  "kernelspec": {
   "display_name": "Python 3",
   "language": "python",
   "name": "python3"
  },
  "language_info": {
   "codemirror_mode": {
    "name": "ipython",
    "version": 3
   },
   "file_extension": ".py",
   "mimetype": "text/x-python",
   "name": "python",
   "nbconvert_exporter": "python",
   "pygments_lexer": "ipython3",
   "version": "3.5.2"
  }
 },
 "nbformat": 4,
 "nbformat_minor": 2
}
