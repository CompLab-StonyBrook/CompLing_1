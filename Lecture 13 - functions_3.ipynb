{
 "cells": [
  {
   "cell_type": "markdown",
   "metadata": {
    "deletable": true,
    "editable": true
   },
   "source": [
    "### We have already seen a lot of pre-written functions:\n",
    "* print(), input(), str(), log2(), ...\n",
    "\n",
    "### Let's learn how to write our own functions."
   ]
  },
  {
   "cell_type": "markdown",
   "metadata": {
    "deletable": true,
    "editable": true
   },
   "source": [
    "### Motivation for functions\n",
    "* The basic idea of a function is that you write a sequence of statements and give that sequence a name.\n",
    "* Then, when you need to repeat the code you can simply call the name of the function instead of writing the same code again.\n",
    "* It will reduce code duplication"
   ]
  },
  {
   "cell_type": "markdown",
   "metadata": {
    "deletable": true,
    "editable": true
   },
   "source": [
    "### How functions work\n",
    "* The part of the program that creates a function is called a function definition.\n",
    "* When a function is used in a program, we say that the definition is called.\n",
    "* A function must be defined before being used.\n",
    "* A single function definition may be called at many different points of a program."
   ]
  },
  {
   "cell_type": "markdown",
   "metadata": {
    "deletable": true,
    "editable": true
   },
   "source": [
    "### How to create a function\n",
    "* A primitive function\n",
    "    - the cell below\n",
    "* Note\n",
    "    - Don't forget the keyword \"def\"\n",
    "    - Don't forget the colon\n",
    "    - Use consistent indentation"
   ]
  },
  {
   "cell_type": "code",
   "execution_count": null,
   "metadata": {
    "collapsed": true,
    "deletable": true,
    "editable": true
   },
   "outputs": [],
   "source": [
    "def <function_name>():\n",
    "     <statement>\n",
    "     ...\n",
    "     <statement>"
   ]
  },
  {
   "cell_type": "markdown",
   "metadata": {
    "deletable": true,
    "editable": true
   },
   "source": [
    "### How to call a function\n",
    "* Write the function name followed by parentheses: `<function_name`>()\n",
    "* You can call the function within your program or in a shell."
   ]
  },
  {
   "cell_type": "markdown",
   "metadata": {
    "deletable": true,
    "editable": true
   },
   "source": [
    "### Example 1: find the even numbers in a given list of numbers\n",
    "* The point of functions is usually to take in inputs and return some value. \n",
    "* The return statement is used when a function is ready to return a value to its caller\n",
    "* The return statement causes your function to exit. Everything after the first return statement is unreachable. \n",
    "* As a result, there is only one return statement within a function."
   ]
  },
  {
   "cell_type": "code",
   "execution_count": null,
   "metadata": {
    "collapsed": false,
    "deletable": true,
    "editable": true
   },
   "outputs": [],
   "source": [
    "def doPrint():\n",
    "    #print (\"Hello\"),\n",
    "    return \"Hello\"\n",
    "    #print (\"Goodbye\"),\n",
    "    return \"Goodbye\"\n",
    "\n",
    "print (doPrint())"
   ]
  },
  {
   "cell_type": "code",
   "execution_count": null,
   "metadata": {
    "collapsed": false,
    "deletable": true,
    "editable": true
   },
   "outputs": [],
   "source": [
    "def find_even_numbers(n):\n",
    "    #stack = []\n",
    "    #for i in range(10):\n",
    "    #    if i%2 == 0:\n",
    "    #        stack.append(i)\n",
    "    #return stack\n",
    "    return [i for i in range(n) if i%2 == 0] # when you print a value out in a function, you exhaust that value\n",
    "print(find_even_numbers(20))\n",
    "print(find_even_numbers(10))"
   ]
  },
  {
   "cell_type": "markdown",
   "metadata": {
    "deletable": true,
    "editable": true
   },
   "source": [
    "### A function can take inputs from its caller and returns outputs to the caller.\n",
    "* Terminology\n",
    "    - Input = Argument = Parameter\n",
    "        - An argument is the actual value that is passed to the function when it is called. \n",
    "        - A parameter refers to the variables that are used in the function declaration/definition to represent those arguments that were send to the function during the function call.\n",
    "    - Output = (Return) Value"
   ]
  },
  {
   "cell_type": "markdown",
   "metadata": {
    "deletable": true,
    "editable": true
   },
   "source": [
    "* Pass a range value as argument"
   ]
  },
  {
   "cell_type": "code",
   "execution_count": null,
   "metadata": {
    "collapsed": false,
    "deletable": true,
    "editable": true
   },
   "outputs": [],
   "source": [
    "def find_even_numbers(num):\n",
    "    stack = []\n",
    "    for i in range(num):\n",
    "        if i%2 == 0:\n",
    "            stack.append(i)\n",
    "    return stack\n",
    "print(find_even_numbers(10))"
   ]
  },
  {
   "cell_type": "markdown",
   "metadata": {
    "deletable": true,
    "editable": true
   },
   "source": [
    "* Pass a list as argument "
   ]
  },
  {
   "cell_type": "code",
   "execution_count": null,
   "metadata": {
    "collapsed": false,
    "deletable": true,
    "editable": true
   },
   "outputs": [],
   "source": [
    "def find_even_numbers(lst):\n",
    "    #stack = []\n",
    "    #for i in lst:\n",
    "    #    if i%2 == 0:\n",
    "    #        stack.append(i)\n",
    "    #return stack\n",
    "    return [i for i in lst if i%2 == 0]\n",
    "print(find_even_numbers([0, 1, 2, 3, 4, 5, 6, 7, 8, 9]))"
   ]
  },
  {
   "cell_type": "markdown",
   "metadata": {
    "deletable": true,
    "editable": true
   },
   "source": [
    "### Exercise 1: divisors\n",
    "* Write a Python function to find all divisors of a certain given number\n",
    "* Your output should be a list containing all divisors"
   ]
  },
  {
   "cell_type": "code",
   "execution_count": null,
   "metadata": {
    "collapsed": false,
    "deletable": true,
    "editable": true
   },
   "outputs": [],
   "source": [
    "def get_divisors():\n",
    "    num = int(input(\"Give me a number: \"))\n",
    "    #stack = []\n",
    "    #for i in range(1, num+1):\n",
    "    #    if num % i == 0:\n",
    "    #        stack.append(i)\n",
    "    #return stack\n",
    "    return [i for i in range(1, num+1) if num%i == 0]\n",
    "print(get_divisors())"
   ]
  },
  {
   "cell_type": "markdown",
   "metadata": {
    "deletable": true,
    "editable": true
   },
   "source": [
    "### Exercise  2: sum\n",
    "* Calculate the sum of two numbers using a Python function\n",
    "* Note: a python function can take more than one parameter"
   ]
  },
  {
   "cell_type": "code",
   "execution_count": null,
   "metadata": {
    "collapsed": false,
    "deletable": true,
    "editable": true
   },
   "outputs": [],
   "source": [
    "def get_sum(a, b):\n",
    "    return a + b\n",
    "print(get_sum(10, 5))"
   ]
  },
  {
   "cell_type": "markdown",
   "metadata": {
    "deletable": true,
    "editable": true
   },
   "source": [
    "### A program can contain multiple functions."
   ]
  },
  {
   "cell_type": "code",
   "execution_count": null,
   "metadata": {
    "collapsed": true,
    "deletable": true,
    "editable": true
   },
   "outputs": [],
   "source": [
    "def <function1>():\n",
    "     ......\n",
    "def <function2>():\n",
    "     ...<function1>()...\n",
    "def main():\n",
    "     ...<function2>()...\n",
    "main()"
   ]
  },
  {
   "cell_type": "markdown",
   "metadata": {
    "deletable": true,
    "editable": true
   },
   "source": [
    "### Example 2:  multiple functions\n",
    "* Suppose you want to add two random numbers up, get the square of this number, and multiply the result with the original two numbers.\n",
    "* Write a python program automate this for you. "
   ]
  },
  {
   "cell_type": "code",
   "execution_count": null,
   "metadata": {
    "collapsed": false,
    "deletable": true,
    "editable": true
   },
   "outputs": [],
   "source": [
    "def get_sum(a, b):\n",
    "    return a+b\n",
    "def get_square(a, b):\n",
    "    return get_sum(a, b)**2\n",
    "def get_multiplication(a, b):\n",
    "    return get_square(a, b)*a*b\n",
    "\n",
    "print(get_multiplication(2, 3))\n",
    "\n",
    "print(((2+3)**2)*2*3)\n",
    "get_square(2, 3)*2*3\n",
    "get_sum(2, 3)**2\n",
    "2+3\n",
    "((2+3)**2)*2*3    "
   ]
  },
  {
   "cell_type": "markdown",
   "metadata": {
    "deletable": true,
    "editable": true
   },
   "source": [
    "### Variable scope in functions\n",
    "* Look at the following program and guess what the printed out result is"
   ]
  },
  {
   "cell_type": "code",
   "execution_count": null,
   "metadata": {
    "collapsed": false,
    "deletable": true,
    "editable": true
   },
   "outputs": [],
   "source": [
    "def add_one(x): \n",
    "    x = x + 1\n",
    "def main(): \n",
    "    x = 2\n",
    "    add_one(x)\n",
    "    print(x)\n",
    "main()"
   ]
  },
  {
   "cell_type": "markdown",
   "metadata": {
    "deletable": true,
    "editable": true
   },
   "source": [
    "* What about now?"
   ]
  },
  {
   "cell_type": "code",
   "execution_count": null,
   "metadata": {
    "collapsed": false,
    "deletable": true,
    "editable": true
   },
   "outputs": [],
   "source": [
    "def add_one(x): \n",
    "    x = x + 1\n",
    "def main(): \n",
    "    x = 2\n",
    "    x = add_one(1)\n",
    "    print(x)\n",
    "main()"
   ]
  },
  {
   "cell_type": "markdown",
   "metadata": {
    "deletable": true,
    "editable": true
   },
   "source": [
    "* Any update on the variable in the function is <span style=\"color:red\">invisible</span> outside of the function.\n",
    "    - Variables assigned inside a function can only be seen by the code within the function.\n",
    "    - They do not clash with variables outside the function even if they have the same names.\n",
    "* Scope refers to the places in a program where a given variable may be referenced.\n",
    "    - If a variable is assigned inside a def, it is <span style = \"color:red\">local</span> to that function.\n",
    "    - If a variable is assigned outside all defs, it is <span style  = \"color:red\">global</span> to the entire file.\n",
    "* How do we change the above code so we can print out 3?\n",
    "    - Hint: use <span style = \"color:green\">return</span>"
   ]
  },
  {
   "cell_type": "code",
   "execution_count": null,
   "metadata": {
    "collapsed": false,
    "deletable": true,
    "editable": true
   },
   "outputs": [],
   "source": [
    "def add_one(x): \n",
    "    x = x + 1\n",
    "    return x\n",
    "def main(): \n",
    "    x = 2\n",
    "    x = add_one(x)\n",
    "    return x\n",
    "print(main())"
   ]
  },
  {
   "cell_type": "markdown",
   "metadata": {
    "deletable": true,
    "editable": true
   },
   "source": [
    "* Another example: variable scope"
   ]
  },
  {
   "cell_type": "code",
   "execution_count": null,
   "metadata": {
    "collapsed": false,
    "deletable": true,
    "editable": true
   },
   "outputs": [],
   "source": [
    "def f():\n",
    "    print(s)\n",
    "s = \"Python\"\n",
    "f()"
   ]
  },
  {
   "cell_type": "code",
   "execution_count": null,
   "metadata": {
    "collapsed": false,
    "deletable": true,
    "editable": true
   },
   "outputs": [],
   "source": [
    "def f():\n",
    "    s = \"Perl\"\n",
    "    print(s)\n",
    "s = \"Python\"\n",
    "f()\n",
    "print(s)"
   ]
  },
  {
   "cell_type": "code",
   "execution_count": null,
   "metadata": {
    "collapsed": false,
    "deletable": true,
    "editable": true
   },
   "outputs": [],
   "source": [
    "s = \"Python\"\n",
    "def f():\n",
    "    print(s)\n",
    "f()"
   ]
  },
  {
   "cell_type": "code",
   "execution_count": 5,
   "metadata": {
    "collapsed": false,
    "deletable": true,
    "editable": true
   },
   "outputs": [
    {
     "ename": "UnboundLocalError",
     "evalue": "local variable 's' referenced before assignment",
     "output_type": "error",
     "traceback": [
      "\u001b[0;31m---------------------------------------------------------------------------\u001b[0m",
      "\u001b[0;31mUnboundLocalError\u001b[0m                         Traceback (most recent call last)",
      "\u001b[0;32m<ipython-input-5-2f9b6ef3b11f>\u001b[0m in \u001b[0;36m<module>\u001b[0;34m()\u001b[0m\n\u001b[1;32m      4\u001b[0m     \u001b[0mprint\u001b[0m\u001b[0;34m(\u001b[0m\u001b[0ms\u001b[0m\u001b[0;34m)\u001b[0m\u001b[0;34m\u001b[0m\u001b[0m\n\u001b[1;32m      5\u001b[0m \u001b[0ms\u001b[0m \u001b[0;34m=\u001b[0m \u001b[0;34m\"Python\"\u001b[0m\u001b[0;34m\u001b[0m\u001b[0m\n\u001b[0;32m----> 6\u001b[0;31m \u001b[0mf\u001b[0m\u001b[0;34m(\u001b[0m\u001b[0;34m)\u001b[0m\u001b[0;34m\u001b[0m\u001b[0m\n\u001b[0m\u001b[1;32m      7\u001b[0m \u001b[0mprint\u001b[0m\u001b[0;34m(\u001b[0m\u001b[0ms\u001b[0m\u001b[0;34m)\u001b[0m\u001b[0;34m\u001b[0m\u001b[0m\n",
      "\u001b[0;32m<ipython-input-5-2f9b6ef3b11f>\u001b[0m in \u001b[0;36mf\u001b[0;34m()\u001b[0m\n\u001b[1;32m      1\u001b[0m \u001b[0;32mdef\u001b[0m \u001b[0mf\u001b[0m\u001b[0;34m(\u001b[0m\u001b[0;34m)\u001b[0m\u001b[0;34m:\u001b[0m\u001b[0;34m\u001b[0m\u001b[0m\n\u001b[0;32m----> 2\u001b[0;31m     \u001b[0mprint\u001b[0m \u001b[0;34m(\u001b[0m\u001b[0ms\u001b[0m\u001b[0;34m)\u001b[0m\u001b[0;34m\u001b[0m\u001b[0m\n\u001b[0m\u001b[1;32m      3\u001b[0m     \u001b[0ms\u001b[0m \u001b[0;34m=\u001b[0m \u001b[0;34m\"Perl\"\u001b[0m\u001b[0;34m\u001b[0m\u001b[0m\n\u001b[1;32m      4\u001b[0m     \u001b[0mprint\u001b[0m\u001b[0;34m(\u001b[0m\u001b[0ms\u001b[0m\u001b[0;34m)\u001b[0m\u001b[0;34m\u001b[0m\u001b[0m\n\u001b[1;32m      5\u001b[0m \u001b[0ms\u001b[0m \u001b[0;34m=\u001b[0m \u001b[0;34m\"Python\"\u001b[0m\u001b[0;34m\u001b[0m\u001b[0m\n",
      "\u001b[0;31mUnboundLocalError\u001b[0m: local variable 's' referenced before assignment"
     ]
    }
   ],
   "source": [
    "def f():\n",
    "    print (s)\n",
    "    s = \"Perl\"\n",
    "    print(s)\n",
    "s = \"Python\"\n",
    "f()\n",
    "print(s)"
   ]
  },
  {
   "cell_type": "code",
   "execution_count": 6,
   "metadata": {
    "collapsed": false,
    "deletable": true,
    "editable": true
   },
   "outputs": [
    {
     "name": "stdout",
     "output_type": "stream",
     "text": [
      "Python\n",
      "Perl\n",
      "Perl\n"
     ]
    }
   ],
   "source": [
    "def f():\n",
    "    global s\n",
    "    print(s)\n",
    "    s = \"Perl\"\n",
    "    print(s)\n",
    "s = \"Python\"\n",
    "f()\n",
    "print(s)"
   ]
  },
  {
   "cell_type": "markdown",
   "metadata": {
    "deletable": true,
    "editable": true
   },
   "source": [
    "* We made the variable s global inside of the script. Therefore anything we do to s inside of the function body of f is done to the global variable s outside of f."
   ]
  },
  {
   "cell_type": "markdown",
   "metadata": {
    "deletable": true,
    "editable": true
   },
   "source": [
    "### Homework 1: no duplicates\n",
    "* Write a Python function that takes a list and returns a new list with unique elements of the first list.\n",
    "* Sample List : [1,2,3,3,3,3,4,5]\n",
    "* Unique List : [1, 2, 3, 4, 5]"
   ]
  },
  {
   "cell_type": "code",
   "execution_count": 5,
   "metadata": {
    "collapsed": false
   },
   "outputs": [
    {
     "name": "stdout",
     "output_type": "stream",
     "text": [
      "[1, 2, 3, 4, 5]\n"
     ]
    }
   ],
   "source": [
    "lst = [1,2,3,3,3,3,4,5]\n",
    "print(list(set(lst)))"
   ]
  },
  {
   "cell_type": "markdown",
   "metadata": {
    "deletable": true,
    "editable": true
   },
   "source": [
    "### Homework 2: Goldbach conjecture\n",
    "* The Goldbach conjecture asserts that every even number is the sum of two prime numbers. Write a program that gets a number from the user, checks to make sure that it is even, and then finds two prime numbers that add up to the number.\n",
    "* We can recycle our function for checking prime numbers"
   ]
  },
  {
   "cell_type": "code",
   "execution_count": 3,
   "metadata": {
    "collapsed": false,
    "deletable": true,
    "editable": true
   },
   "outputs": [
    {
     "name": "stdout",
     "output_type": "stream",
     "text": [
      "Please give me a number: 14\n"
     ]
    },
    {
     "data": {
      "text/plain": [
       "(3, 11)"
      ]
     },
     "execution_count": 3,
     "metadata": {},
     "output_type": "execute_result"
    }
   ],
   "source": [
    "def is_prime(n):\n",
    "    if n == 0:\n",
    "        return False\n",
    "    elif n == 1:\n",
    "        return False\n",
    "    elif n == 2:\n",
    "        return True\n",
    "    else:\n",
    "        for i in range(2, n):\n",
    "            if n%i == 0:\n",
    "                return False\n",
    "        return True\n",
    "    \n",
    "def get_even(num):\n",
    "    if num%2 == 0:\n",
    "        return True\n",
    "    else:\n",
    "        return False\n",
    "\n",
    "def goldbach():\n",
    "    n = int(input(\"Please give me a number: \"))\n",
    "    if not get_even(n):\n",
    "        print(\"Please give me a even number.\")\n",
    "    else:\n",
    "        for i in range(n+1):\n",
    "            if is_prime(i):\n",
    "                if is_prime(n-i):\n",
    "                    return (i, n-i)\n",
    "goldbach()"
   ]
  },
  {
   "cell_type": "markdown",
   "metadata": {
    "deletable": true,
    "editable": true
   },
   "source": [
    "### Homework 3: double the investment \n",
    "* Write a program that uses a while loop to determine how long it takes for an investment to double at a given interest rate. \n",
    "* The input will be an annualized interest rate, and the output is the number of years it takes an investment to double. \n",
    "* You can set any value as the initial investment and the interest rate"
   ]
  },
  {
   "cell_type": "code",
   "execution_count": 15,
   "metadata": {
    "collapsed": false,
    "deletable": true,
    "editable": true
   },
   "outputs": [
    {
     "data": {
      "text/plain": [
       "15"
      ]
     },
     "execution_count": 15,
     "metadata": {},
     "output_type": "execute_result"
    }
   ],
   "source": [
    "def get_year(interest_rate, investment):\n",
    "    years = 0\n",
    "    revenue = investment\n",
    "    while revenue < investment*2:\n",
    "        revenue += revenue*interest_rate\n",
    "        years+=1\n",
    "    return years\n",
    "get_year(0.05, 10000)\n"
   ]
  },
  {
   "cell_type": "code",
   "execution_count": null,
   "metadata": {
    "collapsed": true
   },
   "outputs": [],
   "source": []
  }
 ],
 "metadata": {
  "kernelspec": {
   "display_name": "Python 3",
   "language": "python",
   "name": "python3"
  },
  "language_info": {
   "codemirror_mode": {
    "name": "ipython",
    "version": 3
   },
   "file_extension": ".py",
   "mimetype": "text/x-python",
   "name": "python",
   "nbconvert_exporter": "python",
   "pygments_lexer": "ipython3",
   "version": "3.5.2"
  }
 },
 "nbformat": 4,
 "nbformat_minor": 2
}
