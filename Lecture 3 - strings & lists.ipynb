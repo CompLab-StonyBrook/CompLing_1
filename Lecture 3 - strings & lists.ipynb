{
 "cells": [
  {
   "cell_type": "markdown",
   "metadata": {
    "deletable": true,
    "editable": true
   },
   "source": [
    "# Exercises on Strings"
   ]
  },
  {
   "cell_type": "markdown",
   "metadata": {
    "deletable": true,
    "editable": true
   },
   "source": [
    "### 0. Accept a filename from the user and print the extension of that.\n",
    "* Input: xyz.py\n",
    "* Expected output: py"
   ]
  },
  {
   "cell_type": "code",
   "execution_count": null,
   "metadata": {
    "collapsed": false
   },
   "outputs": [],
   "source": [
    "s = input(\"Give me a file name with extension: \")\n",
    "lst = s.split(\".\")\n",
    "print(lst[-1])"
   ]
  },
  {
   "cell_type": "code",
   "execution_count": null,
   "metadata": {
    "collapsed": false
   },
   "outputs": [],
   "source": [
    "# Note the type of your input!\n",
    "n = int(input(\"Give me an integer: \"))\n",
    "print(type(n))"
   ]
  },
  {
   "cell_type": "markdown",
   "metadata": {
    "deletable": true,
    "editable": true
   },
   "source": [
    "### 1.Get a new string from a given string where all occurrences of its first character have been changed to '|', except the first character itself.\n",
    "\n",
    "   For example:\n",
    "   \n",
    "   s = \"google\"\n",
    "   \n",
    "   Expected output: \"goo|le\""
   ]
  },
  {
   "cell_type": "code",
   "execution_count": 1,
   "metadata": {
    "collapsed": false
   },
   "outputs": [
    {
     "name": "stdout",
     "output_type": "stream",
     "text": [
      "goo|le\n"
     ]
    }
   ],
   "source": [
    "s = \"google\"\n",
    "s1 = s[0]\n",
    "s2 = s[1:]\n",
    "s3 = s2.replace(s1, \"|\")\n",
    "print(s1+s3)"
   ]
  },
  {
   "cell_type": "markdown",
   "metadata": {
    "deletable": true,
    "editable": true
   },
   "source": [
    "### 2.Get a single string from two given strings, separated by a space and swap the first two characters of each string.\n",
    "\n",
    "For example:\n",
    "\n",
    "s1 = \"Microsoft\"\n",
    "\n",
    "s2 = \"Engine\"\n",
    "\n",
    "Expected output: \"Eicrosoft Mngine\""
   ]
  },
  {
   "cell_type": "code",
   "execution_count": 2,
   "metadata": {
    "collapsed": false
   },
   "outputs": [
    {
     "name": "stdout",
     "output_type": "stream",
     "text": [
      "Eicrosoft Mngine\n"
     ]
    }
   ],
   "source": [
    "s1 = \"Microsoft\"\n",
    "s2 = \"Engine\"\n",
    "s3 = s2[0]+s1[1:]\n",
    "s4 = s1[0]+s2[1:]\n",
    "print(s3+\" \"+s4)"
   ]
  },
  {
   "cell_type": "markdown",
   "metadata": {
    "deletable": true,
    "editable": true
   },
   "source": [
    "### 3.Write a Python program that accepts an integer (n) and computes the value of n+nn+nnn.\n"
   ]
  },
  {
   "cell_type": "code",
   "execution_count": 3,
   "metadata": {
    "collapsed": false
   },
   "outputs": [
    {
     "name": "stdout",
     "output_type": "stream",
     "text": [
      "Give me a number please: 5\n",
      "615\n"
     ]
    }
   ],
   "source": [
    "x = input(\"Give me a number please: \")\n",
    "xx = x*2\n",
    "xxx = x*3\n",
    "res = int(x)+int(xx)+int(xxx)\n",
    "print(res)"
   ]
  },
  {
   "cell_type": "markdown",
   "metadata": {
    "deletable": true,
    "editable": true
   },
   "source": [
    "# Advanced materials: Counter"
   ]
  },
  {
   "cell_type": "code",
   "execution_count": null,
   "metadata": {
    "collapsed": true,
    "deletable": true,
    "editable": true
   },
   "outputs": [],
   "source": [
    "import collections\n",
    "c2 = collections.Counter('google')\n",
    "#once the counter is populated, its values can be retrieved by dictionary API.\n",
    "print(c2)"
   ]
  },
  {
   "cell_type": "markdown",
   "metadata": {
    "deletable": true,
    "editable": true
   },
   "source": [
    "# Sequential data type: List in python\n",
    "\n",
    "### A list is a sequence of objects in any data types.\n",
    "\n",
    "* The main properties of Python lists are:\n",
    "  - They are ordered --> elements of a list can be accessed by an index\n",
    "  - The contain arbitrary objects\n",
    "  - They are arbitrarily nestable, i.e. they can contain other lists as sublists\n",
    "  - They are mutable, i.e. the elements of a list can be changed\n",
    "      - Strings are not mutable!!!\n",
    "  \n",
    "### Let's explore these properties!"
   ]
  },
  {
   "cell_type": "code",
   "execution_count": 4,
   "metadata": {
    "collapsed": false,
    "deletable": true,
    "editable": true
   },
   "outputs": [
    {
     "name": "stdout",
     "output_type": "stream",
     "text": [
      "[0, 1]\n"
     ]
    }
   ],
   "source": [
    "lst_int = [0, 1, 2, 3, 4, 5, 6, 7, 8, 9]\n",
    "print(lst_int[0:2])"
   ]
  },
  {
   "cell_type": "code",
   "execution_count": 6,
   "metadata": {
    "collapsed": false,
    "deletable": true,
    "editable": true
   },
   "outputs": [
    {
     "name": "stdout",
     "output_type": "stream",
     "text": [
      "over\n"
     ]
    }
   ],
   "source": [
    "lst_str = [\"the\", \"brown\", \"fox\", \"jumped\", \"over\", \"the\", \"lazy\", \"fox\"]\n",
    "print(lst_str[4])"
   ]
  },
  {
   "cell_type": "code",
   "execution_count": 7,
   "metadata": {
    "collapsed": false,
    "deletable": true,
    "editable": true
   },
   "outputs": [
    {
     "name": "stdout",
     "output_type": "stream",
     "text": [
      "[True, False, True, True, False]\n"
     ]
    }
   ],
   "source": [
    "lst_boo = [True, False, True, True, False]\n",
    "print(lst_boo)"
   ]
  },
  {
   "cell_type": "code",
   "execution_count": 8,
   "metadata": {
    "collapsed": false,
    "deletable": true,
    "editable": true
   },
   "outputs": [
    {
     "name": "stdout",
     "output_type": "stream",
     "text": [
      "True\n"
     ]
    }
   ],
   "source": [
    "lst_mix = [\"the\", 1, True, \"3\", \"fox\"]\n",
    "print(lst_mix[2])"
   ]
  },
  {
   "cell_type": "code",
   "execution_count": 9,
   "metadata": {
    "collapsed": false,
    "deletable": true,
    "editable": true
   },
   "outputs": [
    {
     "name": "stdout",
     "output_type": "stream",
     "text": [
      "the\n"
     ]
    }
   ],
   "source": [
    "lst_nested = [[1, 2, 3],[\"the\", \"brown\", \"fox\"],[True, False, False]]\n",
    "print(lst_nested[1][0])"
   ]
  },
  {
   "cell_type": "code",
   "execution_count": 10,
   "metadata": {
    "collapsed": false,
    "deletable": true,
    "editable": true
   },
   "outputs": [
    {
     "name": "stdout",
     "output_type": "stream",
     "text": [
      "[0, 1, 2, 3, 4, 5, 6, 7, 8, 9]\n",
      "toy\n",
      "boy\n"
     ]
    }
   ],
   "source": [
    "lst_int = [0,1, 2, 3, 6, 5, 6, 7, 8, 9]\n",
    "lst_int[4] = 4\n",
    "print(lst_int)\n",
    "str = \"toy\"\n",
    "#str[0] = \"b\"\n",
    "#print(str[0])\n",
    "\n",
    "str = \"toy\"\n",
    "str2 = str.replace(\"t\", \"b\")\n",
    "print(str)\n",
    "print(str2)"
   ]
  },
  {
   "cell_type": "markdown",
   "metadata": {
    "deletable": true,
    "editable": true
   },
   "source": [
    "### List operations 1\n",
    "* indexing\n",
    "* slicing\n",
    "* len()\n",
    "* concatenation\n",
    "* repetition"
   ]
  },
  {
   "cell_type": "code",
   "execution_count": 11,
   "metadata": {
    "collapsed": false,
    "deletable": true,
    "editable": true
   },
   "outputs": [
    {
     "name": "stdout",
     "output_type": "stream",
     "text": [
      "3\n",
      "4\n"
     ]
    },
    {
     "data": {
      "text/plain": [
       "['the', 0, 1, 'boy', True, 'who', 'wears', 'a', 'hat']"
      ]
     },
     "execution_count": 11,
     "metadata": {},
     "output_type": "execute_result"
    }
   ],
   "source": [
    "lst1 = [\"the\", 0, 1, \"boy\", True]\n",
    "lst1[1]\n",
    "lst1[1:3]\n",
    "lst2 = [\"who\", \"wears\", \"a\", \"hat\"]\n",
    "string = \"who\"\n",
    "print(len(string))\n",
    "print(len(lst2))\n",
    "lst3 = lst1 + lst2\n",
    "lst3"
   ]
  },
  {
   "cell_type": "code",
   "execution_count": 14,
   "metadata": {
    "collapsed": false,
    "deletable": true,
    "editable": true
   },
   "outputs": [
    {
     "name": "stdout",
     "output_type": "stream",
     "text": [
      "thethethe\n",
      "[1, 2, 3, 1, 2, 3, 1, 2, 3]\n",
      "[['a', 'b', 'c'], ['a', 'b', 'c'], ['a', 'b', 'c'], ['a', 'b', 'c']]\n",
      "[['p', 'b', 'c'], ['p', 'b', 'c'], ['p', 'b', 'c'], ['p', 'b', 'c']]\n"
     ]
    }
   ],
   "source": [
    "# Repetition could be tricky\n",
    "str_exp = \"the\"\n",
    "str_exp_rep = str_exp*3\n",
    "print(str_exp_rep)\n",
    "\n",
    "lst_exp = [1, 2, 3]\n",
    "lst_exp_rep = lst_exp*3\n",
    "print(lst_exp_rep)\n",
    "\n",
    "#It seems repetition works like concatenation with strings and flat lists\n",
    "#However, things get tricky when we have nested lists\n",
    "lst_x = [\"a\",\"b\",\"c\"]\n",
    "lst_y = [lst_x] * 4\n",
    "lst_z = lst_x * 4\n",
    "print(lst_y)\n",
    "lst_y[0][0] = \"p\"\n",
    "print(lst_y)\n",
    "\n",
    "# The reason is that the repetition operator \"* 4\" creates 4 references to the lst_x, \n",
    "# so it's clear that every element of lst_y is changed, if we apply a new value to lst_y[0][0]. "
   ]
  },
  {
   "cell_type": "markdown",
   "metadata": {
    "deletable": true,
    "editable": true
   },
   "source": [
    "### List operations 2\n",
    "* count\n",
    "* append\n",
    "* remove\n",
    "* delete\n",
    "* pop\n",
    "* insert\n",
    "* reverse\n",
    "* sort"
   ]
  },
  {
   "cell_type": "code",
   "execution_count": 15,
   "metadata": {
    "collapsed": false,
    "deletable": true,
    "editable": true
   },
   "outputs": [
    {
     "name": "stdout",
     "output_type": "stream",
     "text": [
      "1\n"
     ]
    }
   ],
   "source": [
    "# Return the number of times X appears in the list.\n",
    "lst = [\"t\", \"o\", \"y\"]\n",
    "res = lst.count(\"o\")\n",
    "print(res)"
   ]
  },
  {
   "cell_type": "code",
   "execution_count": 16,
   "metadata": {
    "collapsed": false,
    "deletable": true,
    "editable": true
   },
   "outputs": [
    {
     "name": "stdout",
     "output_type": "stream",
     "text": [
      "['t', 'o', 'y']\n",
      "['t', 'o', 'y', 's']\n"
     ]
    }
   ],
   "source": [
    "# The append operation adds one given item at the end of the list.\n",
    "lst2 = lst[:]\n",
    "print(lst2)\n",
    "var = \"s\"\n",
    "lst.append(var)\n",
    "print(lst)"
   ]
  },
  {
   "cell_type": "code",
   "execution_count": 17,
   "metadata": {
    "collapsed": false,
    "deletable": true,
    "editable": true
   },
   "outputs": [
    {
     "data": {
      "text/plain": [
       "['t', 's']"
      ]
     },
     "execution_count": 17,
     "metadata": {},
     "output_type": "execute_result"
    }
   ],
   "source": [
    "# The remove operation removes a given value.\n",
    "lst.remove(\"o\")\n",
    "lst.remove(\"y\")\n",
    "lst"
   ]
  },
  {
   "cell_type": "code",
   "execution_count": 18,
   "metadata": {
    "collapsed": false,
    "deletable": true,
    "editable": true
   },
   "outputs": [
    {
     "data": {
      "text/plain": [
       "['t']"
      ]
     },
     "execution_count": 18,
     "metadata": {},
     "output_type": "execute_result"
    }
   ],
   "source": [
    "# The del operation removes an item by its index, so it is possible to delete a “slice” of the list.\n",
    "del lst[1:]\n",
    "lst"
   ]
  },
  {
   "cell_type": "code",
   "execution_count": 19,
   "metadata": {
    "collapsed": false,
    "deletable": true,
    "editable": true
   },
   "outputs": [
    {
     "name": "stdout",
     "output_type": "stream",
     "text": [
      "y\n"
     ]
    }
   ],
   "source": [
    "# The operation of pop is to pop out the last. item from a list when the list is used as a stack. \n",
    "#Unlike del, pop returns the value that it popped off the list.\n",
    "lst = [\"t\", \"o\", \"y\"]\n",
    "x = lst.pop()\n",
    "print(x)"
   ]
  },
  {
   "cell_type": "code",
   "execution_count": 20,
   "metadata": {
    "collapsed": false,
    "deletable": true,
    "editable": true
   },
   "outputs": [
    {
     "data": {
      "text/plain": [
       "'t|r|o|y'"
      ]
     },
     "execution_count": 20,
     "metadata": {},
     "output_type": "execute_result"
    }
   ],
   "source": [
    "lst = [\"t\", \"o\", \"y\"]\n",
    "lst.insert(1, \"r\")\n",
    "lst\n",
    "# expected = \"troy\"\n",
    "# delimiter.join(list_name)\n",
    "\"|\".join(lst)"
   ]
  },
  {
   "cell_type": "code",
   "execution_count": 21,
   "metadata": {
    "collapsed": false,
    "deletable": true,
    "editable": true
   },
   "outputs": [
    {
     "data": {
      "text/plain": [
       "['b', 'n', 'o', 'r', 'w']"
      ]
     },
     "execution_count": 21,
     "metadata": {},
     "output_type": "execute_result"
    }
   ],
   "source": [
    "string = \"brown\"\n",
    "lst = list(string)\n",
    "lst.sort()\n",
    "lst"
   ]
  },
  {
   "cell_type": "code",
   "execution_count": 22,
   "metadata": {
    "collapsed": false,
    "deletable": true,
    "editable": true
   },
   "outputs": [
    {
     "data": {
      "text/plain": [
       "[1, 2, 3, 4, 6, 9]"
      ]
     },
     "execution_count": 22,
     "metadata": {},
     "output_type": "execute_result"
    }
   ],
   "source": [
    "lst_int = [3, 4, 2, 1, 6, 9]\n",
    "lst_int.sort()\n",
    "lst_int"
   ]
  },
  {
   "cell_type": "markdown",
   "metadata": {
    "deletable": true,
    "editable": true
   },
   "source": [
    "# Exercises on Lists"
   ]
  },
  {
   "cell_type": "markdown",
   "metadata": {
    "deletable": true,
    "editable": true
   },
   "source": [
    "### 1 \n",
    "* Write a program that counts the number of words in a given sentence\n",
    "* E.g. sentence = \"Alice was beginning to get very tired of sitting by her sister on the bank, and of having nothing to do: once or twice she had peeped into the book her sister was reading, but it had no pictures or conversations in it, 'and what is the use of a book,' thought Alice 'without pictures or conversation?'\""
   ]
  },
  {
   "cell_type": "code",
   "execution_count": null,
   "metadata": {
    "collapsed": false
   },
   "outputs": [],
   "source": []
  },
  {
   "cell_type": "markdown",
   "metadata": {
    "deletable": true,
    "editable": true
   },
   "source": [
    "### 2\n",
    "* Write a program that allows the user to transfer a random phrase into its acronym.\n",
    "* e.g. phrase = “random access memory”, output = “RAM”"
   ]
  },
  {
   "cell_type": "code",
   "execution_count": null,
   "metadata": {
    "collapsed": true
   },
   "outputs": [],
   "source": []
  }
 ],
 "metadata": {
  "kernelspec": {
   "display_name": "Python 3",
   "language": "python",
   "name": "python3"
  },
  "language_info": {
   "codemirror_mode": {
    "name": "ipython",
    "version": 3
   },
   "file_extension": ".py",
   "mimetype": "text/x-python",
   "name": "python",
   "nbconvert_exporter": "python",
   "pygments_lexer": "ipython3",
   "version": "3.5.2"
  }
 },
 "nbformat": 4,
 "nbformat_minor": 2
}
