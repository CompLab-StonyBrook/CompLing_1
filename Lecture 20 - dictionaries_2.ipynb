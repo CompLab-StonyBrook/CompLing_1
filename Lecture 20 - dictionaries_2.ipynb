{
 "cells": [
  {
   "cell_type": "markdown",
   "metadata": {
    "deletable": true,
    "editable": true
   },
   "source": [
    "## Dictionaries\n",
    "* What's the difference between lists and dictionaries? \n",
    "* A list is an ordered sequence of objects, whereas dictionaries are unordered sets. \n",
    "* But the main difference is that items in dictionaries are accessed via keys and not via their position.\n",
    "\n",
    "* A dictionary consists of (key, value) pairs, such that each possible key appears <span style=\"color:red\">at most once</span> in the collection. \n",
    "* Any key of the dictionary is associated (or mapped) to a value. \n",
    "* The values of a dictionary can be any Python data type. "
   ]
  },
  {
   "cell_type": "code",
   "execution_count": 63,
   "metadata": {
    "collapsed": false,
    "deletable": true,
    "editable": true
   },
   "outputs": [
    {
     "name": "stdout",
     "output_type": "stream",
     "text": [
      "{'yellow': 'gelb', 'blue': 'blau', 'red': 'rot', 'green': 'grün'}\n"
     ]
    }
   ],
   "source": [
    "en_de = {\"red\" : \"rot\", \"green\" : \"grün\", \"blue\" : \"blau\", \"yellow\":\"gelb\"}\n",
    "print(en_de)"
   ]
  },
  {
   "cell_type": "code",
   "execution_count": 33,
   "metadata": {
    "collapsed": false,
    "deletable": true,
    "editable": true
   },
   "outputs": [
    {
     "name": "stdout",
     "output_type": "stream",
     "text": [
      "yellow\n",
      "blue\n",
      "red\n",
      "green\n"
     ]
    }
   ],
   "source": [
    "for key in en_de.keys():\n",
    "    print(key)"
   ]
  },
  {
   "cell_type": "code",
   "execution_count": 24,
   "metadata": {
    "collapsed": false,
    "deletable": true,
    "editable": true
   },
   "outputs": [
    {
     "name": "stdout",
     "output_type": "stream",
     "text": [
      "gelb\n",
      "blau\n",
      "rot\n",
      "grün\n"
     ]
    }
   ],
   "source": [
    "for value in en_de.values():\n",
    "    print(value)"
   ]
  },
  {
   "cell_type": "code",
   "execution_count": 34,
   "metadata": {
    "collapsed": false,
    "deletable": true,
    "editable": true
   },
   "outputs": [
    {
     "name": "stdout",
     "output_type": "stream",
     "text": [
      "yellow gelb\n",
      "blue blau\n",
      "red rot\n",
      "green grün\n"
     ]
    }
   ],
   "source": [
    "for key, value in en_de.items():\n",
    "    print(key, value)"
   ]
  },
  {
   "cell_type": "code",
   "execution_count": 39,
   "metadata": {
    "collapsed": false,
    "deletable": true,
    "editable": true
   },
   "outputs": [
    {
     "name": "stdout",
     "output_type": "stream",
     "text": [
      "False\n",
      "False\n",
      "True\n"
     ]
    }
   ],
   "source": [
    "print(bool(\"black\" in en_de))\n",
    "print(bool(\"rot\" in en_de)) # x in dict checks if a key x exists in the dictionary. This method does not check if a certain value exists or not. \n",
    "print(bool(\"red\" in en_de))"
   ]
  },
  {
   "cell_type": "markdown",
   "metadata": {
    "deletable": true,
    "editable": true
   },
   "source": [
    "### Exercise 1: \n",
    "* Write a Python script to check if a given key already exists in a dictionary."
   ]
  },
  {
   "cell_type": "code",
   "execution_count": null,
   "metadata": {
    "collapsed": false,
    "deletable": true,
    "editable": true
   },
   "outputs": [],
   "source": [
    "d = {1:894,2:-54,3:1345}\n",
    "def is_key_present(k):\n",
    "    if k in d:\n",
    "        print(\"This key already exists.\")\n",
    "    else:\n",
    "        print(\"This key does not exist.\")\n",
    "is_key_present(5)"
   ]
  },
  {
   "cell_type": "markdown",
   "metadata": {
    "deletable": true,
    "editable": true
   },
   "source": [
    "### Exercise 2:\n",
    "* Write a Python program to sum all the values in a dictionary.\n",
    "* d = {'data1':894,'data2':-54,'data3':1345}"
   ]
  },
  {
   "cell_type": "code",
   "execution_count": 40,
   "metadata": {
    "collapsed": false,
    "deletable": true,
    "editable": true
   },
   "outputs": [
    {
     "name": "stdout",
     "output_type": "stream",
     "text": [
      "2185\n"
     ]
    }
   ],
   "source": [
    "d = {'data1':894,'data2':-54,'data3':1345}\n",
    "sumN = 0\n",
    "for value in d.values():\n",
    "    sumN += value\n",
    "print(sumN)"
   ]
  },
  {
   "cell_type": "code",
   "execution_count": 43,
   "metadata": {
    "collapsed": false,
    "deletable": true,
    "editable": true
   },
   "outputs": [
    {
     "name": "stdout",
     "output_type": "stream",
     "text": [
      "2185\n",
      "2185\n"
     ]
    }
   ],
   "source": [
    "d = {'data1':894,'data2':-54,'data3':1345}\n",
    "stack = []\n",
    "for v in d.values():\n",
    "    stack.append(v)\n",
    "print(sum(stack))\n",
    "\n",
    "print(sum(v for v in d.values()))"
   ]
  },
  {
   "cell_type": "markdown",
   "metadata": {
    "deletable": true,
    "editable": true
   },
   "source": [
    "* Add an item into the dictionary"
   ]
  },
  {
   "cell_type": "code",
   "execution_count": 44,
   "metadata": {
    "collapsed": false,
    "deletable": true,
    "editable": true
   },
   "outputs": [
    {
     "data": {
      "text/plain": [
       "{'blue': 'blau',\n",
       " 'green': 'grün',\n",
       " 'pink': 'rosa',\n",
       " 'red': 'rot',\n",
       " 'yellow': 'gelb'}"
      ]
     },
     "execution_count": 44,
     "metadata": {},
     "output_type": "execute_result"
    }
   ],
   "source": [
    "en_de[\"pink\"] = \"rosa\" # dict[key] = value\n",
    "en_de"
   ]
  },
  {
   "cell_type": "markdown",
   "metadata": {
    "deletable": true,
    "editable": true
   },
   "source": [
    "* Merge the contents of dictionary D2 into dictionary D1"
   ]
  },
  {
   "cell_type": "code",
   "execution_count": 5,
   "metadata": {
    "collapsed": false,
    "deletable": true,
    "editable": true
   },
   "outputs": [
    {
     "data": {
      "text/plain": [
       "{'Blue': 'blau',\n",
       " 'black': 'schwarz',\n",
       " 'blue': 'blau',\n",
       " 'lilac': 'lila',\n",
       " 'pink': 'rosa',\n",
       " 'red': 'rot'}"
      ]
     },
     "execution_count": 5,
     "metadata": {},
     "output_type": "execute_result"
    }
   ],
   "source": [
    "en_de.update({\"lilac\":\"lila\", \"black\":\"schwarz\"})\n",
    "en_de"
   ]
  },
  {
   "cell_type": "markdown",
   "metadata": {
    "deletable": true,
    "editable": true
   },
   "source": [
    "### Exercise 3: \n",
    "* Write a Python script to concatenate following dictionaries to create a new one.\n",
    "* Sample Dictionary : \n",
    "    - dic1={1:10, 2:20} \n",
    "    - dic2={3:30, 4:40} \n",
    "    - dic3={5:50,6:60}\n",
    "* Expected Result : {1: 10, 2: 20, 3: 30, 4: 40, 5: 50, 6: 60}"
   ]
  },
  {
   "cell_type": "code",
   "execution_count": 57,
   "metadata": {
    "collapsed": false,
    "deletable": true,
    "editable": true
   },
   "outputs": [
    {
     "name": "stdout",
     "output_type": "stream",
     "text": [
      "{1: 10, 2: 20, 3: 30, 4: 40, 5: 50, 6: 60}\n"
     ]
    }
   ],
   "source": [
    "dic1={1:10, 2:20}\n",
    "dic2={3:30, 4:40}\n",
    "dic3={5:50,6:60}\n",
    "dic1.update(dic2)\n",
    "dic1.update(dic3)\n",
    "print(dic1)\n"
   ]
  },
  {
   "cell_type": "code",
   "execution_count": 58,
   "metadata": {
    "collapsed": false,
    "deletable": true,
    "editable": true
   },
   "outputs": [
    {
     "name": "stdout",
     "output_type": "stream",
     "text": [
      "{1: 10, 2: 20, 3: 30, 4: 40, 5: 50, 6: 60}\n"
     ]
    }
   ],
   "source": [
    "dic1={1:10, 2:20}\n",
    "dic2={3:30, 4:40}\n",
    "dic3={5:50,6:60}\n",
    "d = {}\n",
    "for dic in (dic1, dic2, dic3):\n",
    "    d.update(dic)\n",
    "print(d)"
   ]
  },
  {
   "cell_type": "markdown",
   "metadata": {
    "deletable": true,
    "editable": true
   },
   "source": [
    "* Access to a value using a key"
   ]
  },
  {
   "cell_type": "code",
   "execution_count": 59,
   "metadata": {
    "collapsed": false,
    "deletable": true,
    "editable": true
   },
   "outputs": [
    {
     "name": "stdout",
     "output_type": "stream",
     "text": [
      "rot\n"
     ]
    }
   ],
   "source": [
    "print(en_de[\"red\"])"
   ]
  },
  {
   "cell_type": "markdown",
   "metadata": {
    "deletable": true,
    "editable": true
   },
   "source": [
    "* What happens when the key is not in the dictionary?"
   ]
  },
  {
   "cell_type": "code",
   "execution_count": 60,
   "metadata": {
    "collapsed": false,
    "deletable": true,
    "editable": true
   },
   "outputs": [
    {
     "ename": "KeyError",
     "evalue": "'brown'",
     "output_type": "error",
     "traceback": [
      "\u001b[0;31m---------------------------------------------------------------------------\u001b[0m",
      "\u001b[0;31mKeyError\u001b[0m                                  Traceback (most recent call last)",
      "\u001b[0;32m<ipython-input-60-446602d71d58>\u001b[0m in \u001b[0;36m<module>\u001b[0;34m()\u001b[0m\n\u001b[0;32m----> 1\u001b[0;31m \u001b[0mprint\u001b[0m\u001b[0;34m(\u001b[0m\u001b[0men_de\u001b[0m\u001b[0;34m[\u001b[0m\u001b[0;34m\"brown\"\u001b[0m\u001b[0;34m]\u001b[0m\u001b[0;34m)\u001b[0m\u001b[0;34m\u001b[0m\u001b[0m\n\u001b[0m",
      "\u001b[0;31mKeyError\u001b[0m: 'brown'"
     ]
    }
   ],
   "source": [
    "print(en_de[\"brown\"])"
   ]
  },
  {
   "cell_type": "code",
   "execution_count": 65,
   "metadata": {
    "collapsed": false,
    "deletable": true,
    "editable": true
   },
   "outputs": [
    {
     "name": "stdout",
     "output_type": "stream",
     "text": [
      "None\n"
     ]
    }
   ],
   "source": [
    "print(en_de.get(\"brown\"))"
   ]
  },
  {
   "cell_type": "markdown",
   "metadata": {
    "deletable": true,
    "editable": true
   },
   "source": [
    "### Exercise 4\n",
    "*  Write a Python script to sort (ascending and descending) a dictionary by value"
   ]
  },
  {
   "cell_type": "code",
   "execution_count": 75,
   "metadata": {
    "collapsed": false,
    "deletable": true,
    "editable": true
   },
   "outputs": [
    {
     "name": "stdout",
     "output_type": "stream",
     "text": [
      "2 a\n",
      "3 d\n",
      "1 e\n",
      "5 m\n",
      "4 v\n"
     ]
    }
   ],
   "source": [
    "d = {2: \"a\", 4: \"v\", 3: \"d\", 1: \"e\", 5: \"m\"}\n",
    "for w in sorted(d, key=d.get, reverse = False): # reverse = False is the default value\n",
    "    print (w, d[w])"
   ]
  },
  {
   "cell_type": "code",
   "execution_count": 77,
   "metadata": {
    "collapsed": false,
    "deletable": true,
    "editable": true
   },
   "outputs": [
    {
     "name": "stdout",
     "output_type": "stream",
     "text": [
      "[1, 2, 3, 4, 5, 6, 7, 8, 9, 10, 11, 12, 13, 14, 15]\n",
      "[1, 4, 9, 16, 25, 36, 49, 64, 81, 100, 121, 144, 169, 196, 225]\n"
     ]
    }
   ],
   "source": [
    "# How do we create a list that contains numbers 1 to 15?\n",
    "print([n for n in range(1, 16)])\n",
    "# How do we get the square of numbers 1 to 15?\n",
    "print([n**2 for n in range(1, 16)])"
   ]
  },
  {
   "cell_type": "markdown",
   "metadata": {
    "deletable": true,
    "editable": true
   },
   "source": [
    "### Exercise 5\n",
    "* Write a Python script to print a dictionary where the keys are numbers between 1 and 15 (both included) and the values are square of keys. "
   ]
  },
  {
   "cell_type": "code",
   "execution_count": 84,
   "metadata": {
    "collapsed": false,
    "deletable": true,
    "editable": true
   },
   "outputs": [
    {
     "name": "stdout",
     "output_type": "stream",
     "text": [
      "{1: 1, 2: 4, 3: 9, 4: 16, 5: 25, 6: 36, 7: 49, 8: 64, 9: 81, 10: 100, 11: 121, 12: 144, 13: 169, 14: 196, 15: 225}\n",
      "{1: 1, 2: 4, 3: 9, 4: 16, 5: 25, 6: 36, 7: 49, 8: 64, 9: 81, 10: 100, 11: 121, 12: 144, 13: 169, 14: 196, 15: 225}\n"
     ]
    }
   ],
   "source": [
    "d = {}\n",
    "for n in range(1, 16):\n",
    "    d[n] = n**2 # add an item to the dictionary. dictionary[key] = value\n",
    "print(d)\n",
    "\n",
    "print({n:n**2 for n in range(1, 16)}) \n",
    "# dictionary comprehension {key:value for ...}"
   ]
  },
  {
   "cell_type": "markdown",
   "metadata": {
    "deletable": true,
    "editable": true
   },
   "source": [
    "#### Operation: delete an item in the dictionary\n",
    "* del d[k] --- deletes the key k together with his value"
   ]
  },
  {
   "cell_type": "code",
   "execution_count": 85,
   "metadata": {
    "collapsed": false,
    "deletable": true,
    "editable": true
   },
   "outputs": [
    {
     "data": {
      "text/plain": [
       "{'blue': 'blau', 'green': 'grün', 'yellow': 'gelb'}"
      ]
     },
     "execution_count": 85,
     "metadata": {},
     "output_type": "execute_result"
    }
   ],
   "source": [
    "del en_de[\"red\"]\n",
    "en_de"
   ]
  },
  {
   "cell_type": "markdown",
   "metadata": {
    "deletable": true,
    "editable": true
   },
   "source": [
    "### Turn lists into dictionaries"
   ]
  },
  {
   "cell_type": "code",
   "execution_count": 89,
   "metadata": {
    "collapsed": false,
    "deletable": true,
    "editable": true
   },
   "outputs": [
    {
     "name": "stdout",
     "output_type": "stream",
     "text": [
      "{'blue': 'blau', 'lilac': 'lila', 'pink': 'rosa', 'yellow': 'gelb', 'green': 'grün', 'red': 'rot'}\n",
      "[('blue', 'blau'), ('green', 'grün'), ('lilac', 'lila'), ('red', 'rot'), ('yellow', 'gelb'), ('pink', 'rosa')]\n",
      "<zip object at 0x1045fb7c8>\n"
     ]
    }
   ],
   "source": [
    "en = [\"blue\", \"green\", \"lilac\", \"red\", \"yellow\", \"pink\"]\n",
    "de = [\"blau\", \"grün\", \"lila\", \"rot\", \"gelb\", \"rosa\"]\n",
    "en_de = dict(zip(en, de))\n",
    "en_de_lst = list(zip(en, de))\n",
    "en_de_zip = zip(en, de)\n",
    "print(en_de)\n",
    "print(en_de_lst)\n",
    "print(en_de_zip)"
   ]
  },
  {
   "cell_type": "markdown",
   "metadata": {
    "deletable": true,
    "editable": true
   },
   "source": [
    "### Turn dictionaries into lists"
   ]
  },
  {
   "cell_type": "code",
   "execution_count": 90,
   "metadata": {
    "collapsed": false,
    "deletable": true,
    "editable": true
   },
   "outputs": [
    {
     "name": "stdout",
     "output_type": "stream",
     "text": [
      "['blue', 'lilac', 'pink', 'yellow', 'green', 'red']\n",
      "['blau', 'lila', 'rosa', 'gelb', 'grün', 'rot']\n",
      "[('blue', 'blau'), ('lilac', 'lila'), ('pink', 'rosa'), ('yellow', 'gelb'), ('green', 'grün'), ('red', 'rot')]\n"
     ]
    }
   ],
   "source": [
    "en_de = {'lilac': 'lila', 'yellow': 'gelb', 'green': 'grün', 'red': 'rot', 'blue': 'blau', 'pink': 'rosa'}\n",
    "keys = list(en_de.keys())\n",
    "print(keys)\n",
    "values = list(en_de.values())\n",
    "print(values)\n",
    "items = list(en_de.items())\n",
    "print(items)"
   ]
  },
  {
   "cell_type": "markdown",
   "metadata": {
    "deletable": true,
    "editable": true
   },
   "source": [
    "### Exercise 6:\n",
    "* Write a Python program to create a dictionary from a string."
   ]
  },
  {
   "cell_type": "code",
   "execution_count": 95,
   "metadata": {
    "collapsed": false,
    "deletable": true,
    "editable": true
   },
   "outputs": [
    {
     "name": "stdout",
     "output_type": "stream",
     "text": [
      "[(0, 'John'), (1, 'likes'), (2, 'Mary')]\n"
     ]
    }
   ],
   "source": [
    "dic_list = [i for i in enumerate([\"John\", \"likes\", \"Mary\"])]\n",
    "print(dic_list)"
   ]
  },
  {
   "cell_type": "code",
   "execution_count": 91,
   "metadata": {
    "collapsed": false,
    "deletable": true,
    "editable": true
   },
   "outputs": [
    {
     "name": "stdout",
     "output_type": "stream",
     "text": [
      "[(0, 'J'), (1, 'u'), (2, 'p'), (3, 'y'), (4, 't'), (5, 'e'), (6, 'r'), (7, 'N'), (8, 'o'), (9, 't'), (10, 'e'), (11, 'b'), (12, 'o'), (13, 'o'), (14, 'k')]\n"
     ]
    }
   ],
   "source": [
    "dic_list = [i for i in enumerate(\"JupyterNotebook\")]\n",
    "print(dic_list)"
   ]
  },
  {
   "cell_type": "code",
   "execution_count": 92,
   "metadata": {
    "collapsed": false,
    "deletable": true,
    "editable": true
   },
   "outputs": [
    {
     "data": {
      "text/plain": [
       "{0: 'J',\n",
       " 1: 'u',\n",
       " 2: 'p',\n",
       " 3: 'y',\n",
       " 4: 't',\n",
       " 5: 'e',\n",
       " 6: 'r',\n",
       " 7: 'N',\n",
       " 8: 'o',\n",
       " 9: 't',\n",
       " 10: 'e',\n",
       " 11: 'b',\n",
       " 12: 'o',\n",
       " 13: 'o',\n",
       " 14: 'k'}"
      ]
     },
     "execution_count": 92,
     "metadata": {},
     "output_type": "execute_result"
    }
   ],
   "source": [
    "def s_to_d(s):\n",
    "    dic_list = [i for i in enumerate(s)]\n",
    "    return dict(dic_list)\n",
    "s_to_d(\"JupyterNotebook\")"
   ]
  },
  {
   "cell_type": "markdown",
   "metadata": {
    "collapsed": true,
    "deletable": true,
    "editable": true
   },
   "source": [
    "### Homework 1:\n",
    "* Write a Python program to remove duplicates from Dictionary\n",
    "* For example, in the dictionary below, we have two values of \"blau\", and one of them should be removed\n",
    "* en_de = {'red': 'rot', 'blue': 'blau', 'pink': 'rosa', 'Blue': 'blau'}\n",
    "* result = {'Blue': 'blau', 'pink': 'rosa', 'red': 'rot'}"
   ]
  },
  {
   "cell_type": "markdown",
   "metadata": {},
   "source": [
    "### Homework 2:\n",
    "* Write a Python program to create and display all combinations of letters, selecting each letter from a different key in a dictionary.\n",
    "* Sample data : {'1':['a','b'], '2':['c','d']}\n",
    "* Expected Output: \n",
    "* ac\n",
    "* ad\n",
    "* bc\n",
    "* bd"
   ]
  }
 ],
 "metadata": {
  "kernelspec": {
   "display_name": "Python 3",
   "language": "python",
   "name": "python3"
  },
  "language_info": {
   "codemirror_mode": {
    "name": "ipython",
    "version": 3
   },
   "file_extension": ".py",
   "mimetype": "text/x-python",
   "name": "python",
   "nbconvert_exporter": "python",
   "pygments_lexer": "ipython3",
   "version": "3.5.2"
  }
 },
 "nbformat": 4,
 "nbformat_minor": 2
}
