{
 "cells": [
  {
   "cell_type": "markdown",
   "metadata": {
    "deletable": true,
    "editable": true
   },
   "source": [
    "### Homework 1: roman to integer\n",
    "* Given a roman numeral, convert it to an integer.\n",
    "\n",
    "|Symbol|I|V|X|L|C|D|M|\n",
    "|---|---|---|---|---|---|---|\n",
    "|Value|1|5|10|50|100|500|1,000|\n",
    "\n",
    "* Input: MDIC\n",
    "* Output: 1599"
   ]
  },
  {
   "cell_type": "markdown",
   "metadata": {
    "deletable": true,
    "editable": true
   },
   "source": [
    "#### Hints:\n",
    "* What is the pattern for roman letters to convert to integers?\n",
    "* What if two items are the same?"
   ]
  },
  {
   "cell_type": "code",
   "execution_count": 6,
   "metadata": {
    "collapsed": false,
    "deletable": true,
    "editable": true
   },
   "outputs": [
    {
     "name": "stdout",
     "output_type": "stream",
     "text": [
      "395\n"
     ]
    }
   ],
   "source": [
    "def roman_to_integer(r):\n",
    "    dic = {\"I\":1, \"V\":5, \"X\":10, \"L\":50, \"C\":100, \"D\":500, \"M\":1000}\n",
    "    res = 0\n",
    "    for n in range(1, len(r)):\n",
    "        if dic[r[n-1]] < dic[r[n]]:\n",
    "            res += int(-dic[r[n-1]])\n",
    "        else:\n",
    "            res += int(dic[r[n-1]])\n",
    "    return res+dic[r[-1]]\n",
    "print(roman_to_integer(\"CCCXCV\"))        "
   ]
  },
  {
   "cell_type": "markdown",
   "metadata": {
    "deletable": true,
    "editable": true
   },
   "source": [
    "### Homework 2: Two Sum\n",
    "* Given an array of integers, return indices of the two numbers such that they add up to a specific target.\n",
    "* You may assume that each input would have exactly one solution, and you may not use the same element twice.\n",
    "* Given nums = [1, 2, 3, 7, 11, 15], target = 9, because nums[1] + nums[3] = 2 + 7 = 9, return [1, 3]."
   ]
  },
  {
   "cell_type": "code",
   "execution_count": 11,
   "metadata": {
    "collapsed": false,
    "deletable": true,
    "editable": true
   },
   "outputs": [
    {
     "name": "stdout",
     "output_type": "stream",
     "text": [
      "{8: 1}\n",
      "{8: 1, 7: 2}\n",
      "{8: 1, 6: 3, 7: 2}\n",
      "[1, 3]\n"
     ]
    }
   ],
   "source": [
    "# This function stores the actual two items (from the list) in dictionary, i.e. 7:2\n",
    "def get_two_sum(nums, target):\n",
    "    dic = {}\n",
    "    for i in nums:\n",
    "        if i not in dic:\n",
    "            dic[target-i] = i\n",
    "            print(dic)\n",
    "        else:\n",
    "            return sorted([nums.index(i), nums.index(target-i)])\n",
    "        \n",
    "print(get_two_sum([1, 2, 3, 7, 11, 15], 9))  "
   ]
  },
  {
   "cell_type": "code",
   "execution_count": 12,
   "metadata": {
    "collapsed": false,
    "deletable": true,
    "editable": true
   },
   "outputs": [
    {
     "name": "stdout",
     "output_type": "stream",
     "text": [
      "{8: 0}\n",
      "{8: 0, 7: 1}\n",
      "{8: 0, 6: 2, 7: 1}\n",
      "[1, 3]\n"
     ]
    }
   ],
   "source": [
    "# This function stores a number and its pair's index in dictionary, i.e. 7:1\n",
    "def get_two_sum(nums, target):\n",
    "    dic = {}\n",
    "    for i in range(len(nums)):\n",
    "        if nums[i] in dic:\n",
    "            return sorted([i, dic[nums[i]]])\n",
    "        else:\n",
    "            dic[target - nums[i]] = i\n",
    "            print(dic)\n",
    "print(get_two_sum([1, 2, 3, 7, 11, 15], 9))"
   ]
  },
  {
   "cell_type": "code",
   "execution_count": 79,
   "metadata": {
    "collapsed": false,
    "deletable": true,
    "editable": true
   },
   "outputs": [
    {
     "name": "stdout",
     "output_type": "stream",
     "text": [
      "[(2, 4), (2, 5), (3, 4), (3, 5)]\n"
     ]
    }
   ],
   "source": [
    "from itertools import product\n",
    "lst = [1, 2, 3, 4]\n",
    "x = list(product([2, 3], [4,5]))\n",
    "print(x)"
   ]
  },
  {
   "cell_type": "code",
   "execution_count": 17,
   "metadata": {
    "collapsed": false,
    "deletable": true,
    "editable": true
   },
   "outputs": [
    {
     "name": "stdout",
     "output_type": "stream",
     "text": [
      "[[0, 1, 2, 3], [0, 1, 2, 3], [0, 1, 2, 3], [0, 1, 2, 3]]\n"
     ]
    }
   ],
   "source": [
    "stack1 = []\n",
    "for i in range(4):\n",
    "    stack1.append(i)\n",
    "    stack2 = []\n",
    "    for j in range(4, 8):\n",
    "        stack2.append(stack1)\n",
    "print(stack2)\n",
    "        "
   ]
  },
  {
   "cell_type": "markdown",
   "metadata": {},
   "source": [
    "### Project 1\n",
    "* A knight in standard international chess is sitting on a board as follows\n",
    "\n",
    "| 0    | 1    | 2    | 3    |\n",
    "|-----:|-----:|-----:|-----:|\n",
    "| **4**    | **5**    | **6**    | **7**    |\n",
    "| **8**    | **9**    | **10**   | **11**   |\n",
    "| **12**   | **13**   | **14**   | **15**   |\n",
    "\n",
    "* The knight starts on square \"0\" and makes T jumps to other squares according to the allowable moves in Chess (so that at each space, it has between two to four valid moves). The knight chooses amongst the allowable moves at each jump uniformly at random and keeps track of the running sum S of keys on which it lands. \n",
    "\n",
    "* Questions:\n",
    "    - After T=10 moves, what is the mean of the quantity S?\n",
    "    - What is the standard deviation?"
   ]
  },
  {
   "cell_type": "markdown",
   "metadata": {},
   "source": [
    "### Steps:\n",
    "* build the chess board\n",
    "* simulate how knight moves on the chess board\n",
    "* map position values to actual values\n",
    "* randomness is handled by pop()"
   ]
  },
  {
   "cell_type": "code",
   "execution_count": null,
   "metadata": {
    "collapsed": true
   },
   "outputs": [],
   "source": []
  }
 ],
 "metadata": {
  "kernelspec": {
   "display_name": "Python 3",
   "language": "python",
   "name": "python3"
  },
  "language_info": {
   "codemirror_mode": {
    "name": "ipython",
    "version": 3
   },
   "file_extension": ".py",
   "mimetype": "text/x-python",
   "name": "python",
   "nbconvert_exporter": "python",
   "pygments_lexer": "ipython3",
   "version": "3.5.2"
  }
 },
 "nbformat": 4,
 "nbformat_minor": 2
}
