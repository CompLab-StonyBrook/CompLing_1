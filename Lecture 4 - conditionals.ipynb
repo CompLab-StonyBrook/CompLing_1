{
 "cells": [
  {
   "cell_type": "markdown",
   "metadata": {
    "deletable": true,
    "editable": true
   },
   "source": [
    "# Exercises on Lists"
   ]
  },
  {
   "cell_type": "markdown",
   "metadata": {
    "deletable": true,
    "editable": true
   },
   "source": [
    "### 1 \n",
    "* Write a program that counts the number of words in a given sentence\n",
    "* E.g. sentence = \"Alice was beginning to get very tired of sitting by her sister on the bank, and of having nothing to do: once or twice she had peeped into the book her sister was reading, but it had no pictures or conversations in it, 'and what is the use of a book,' thought Alice 'without pictures or conversation?'\""
   ]
  },
  {
   "cell_type": "code",
   "execution_count": null,
   "metadata": {
    "collapsed": false,
    "deletable": true,
    "editable": true
   },
   "outputs": [],
   "source": [
    "sentence = \"\"\"Alice was beginning to get very tired of sitting by her sister on the bank, \n",
    "and of having nothing to do: once or twice she had peeped into the book her sister was reading,\n",
    "but it had no pictures or conversations in it, 'and what is the use of a book,' thought Alice \n",
    "'without pictures or conversation?'\"\"\"\n",
    "lst = sentence.split()\n",
    "print(len(lst))"
   ]
  },
  {
   "cell_type": "markdown",
   "metadata": {
    "deletable": true,
    "editable": true
   },
   "source": [
    "### 2\n",
    "* Write a program that allows the user to transfer a random phrase into its acronym.\n",
    "* e.g. phrase = “random access memory”, output = “RAM”"
   ]
  },
  {
   "cell_type": "code",
   "execution_count": null,
   "metadata": {
    "collapsed": false,
    "deletable": true,
    "editable": true
   },
   "outputs": [],
   "source": [
    "phrase = \"random access memory\"\n",
    "lst = phrase.split()\n",
    "#output: [\"random\", \"access\", \"memory\"]\n",
    "# ram\n",
    "# lst[:] creates a copy of lst\n",
    "# lst[:] == lst\n",
    "print (lst[:] != lst)\n",
    "print (lst[:] == lst)\n",
    "\n",
    "print(lst[:][0])\n",
    "output = lst[0][0] + lst[1][0] + lst[2][0]\n",
    "output = output.upper()\n",
    "print(output)"
   ]
  },
  {
   "cell_type": "code",
   "execution_count": null,
   "metadata": {
    "collapsed": false,
    "deletable": true,
    "editable": true,
    "scrolled": true
   },
   "outputs": [],
   "source": [
    "phrase = \"random access memory\"\n",
    "lst = phrase.split() # we split our string into a list\n",
    "print(\"\".join(item[0].upper() for item in lst))\n",
    "\n",
    "stack = [] # we create an empty stack \n",
    "for item in lst: # we write a for loop to iterate the list; the variable name in the for loop\n",
    "                 # is self-contained, so we can name it anything we want. \n",
    "    stack.append(item[0]) # we append the first character of each item in the list to an empty list.\n",
    "print(\"\".join(stack).upper()) # we join the items in our new list into a string, and change the string to upper case."
   ]
  },
  {
   "cell_type": "markdown",
   "metadata": {
    "deletable": true,
    "editable": true
   },
   "source": [
    "# Range\n",
    "* Range is a sequence type object in Python that represents a series of successive integers.\n",
    "* You can use a built-in function range() to generate a range object.\n",
    "* Syntax: range([stop])\n",
    "* Semantics: it generates a sequence of integers from 0 up to (but not including) the value of stop."
   ]
  },
  {
   "cell_type": "code",
   "execution_count": null,
   "metadata": {
    "collapsed": false,
    "deletable": true,
    "editable": true
   },
   "outputs": [],
   "source": [
    "print(range(5))"
   ]
  },
  {
   "cell_type": "markdown",
   "metadata": {
    "deletable": true,
    "editable": true
   },
   "source": [
    "* However, the range() function yields a range object.\n",
    "* To store the elements in a range, we could use list()."
   ]
  },
  {
   "cell_type": "code",
   "execution_count": null,
   "metadata": {
    "collapsed": false,
    "deletable": true,
    "editable": true
   },
   "outputs": [],
   "source": [
    "print(list(range(5)))"
   ]
  },
  {
   "cell_type": "markdown",
   "metadata": {
    "deletable": true,
    "editable": true
   },
   "source": [
    "* Syntax: range([start], [stop])\n",
    "* Semantics: If you pass in two arguments, the first is taken as the (inclusive) lower bound and the second as the (exclusive) upper bound."
   ]
  },
  {
   "cell_type": "code",
   "execution_count": null,
   "metadata": {
    "collapsed": false,
    "deletable": true,
    "editable": true
   },
   "outputs": [],
   "source": [
    "print(list(range(5, 10)))"
   ]
  },
  {
   "cell_type": "markdown",
   "metadata": {
    "deletable": true,
    "editable": true
   },
   "source": [
    "* Syntax:range([start], [stop], [step])\n",
    "* Semantics: An optional third argument adds the step to each successive integer in the result."
   ]
  },
  {
   "cell_type": "code",
   "execution_count": null,
   "metadata": {
    "collapsed": false,
    "deletable": true,
    "editable": true
   },
   "outputs": [],
   "source": [
    "print(list(range(1, 10, 2)))"
   ]
  },
  {
   "cell_type": "markdown",
   "metadata": {
    "deletable": true,
    "editable": true
   },
   "source": [
    "* What will be the result of the expression? \n",
    "    - range(3)\n",
    "    - range(-3)\n",
    "    - range(2, 5)\n",
    "    - range(5, 2)\n",
    "    - range(-3, 0)\n",
    "    - range(-5, -1, 2)\n",
    "    - range(5, 0, -1)\n",
    "    - range(5, 0, 0)"
   ]
  },
  {
   "cell_type": "markdown",
   "metadata": {
    "deletable": true,
    "editable": true
   },
   "source": [
    "* How to represent the following using range()? \n",
    "    - even integers between 0 and 10\n",
    "    - odd integers between 0 and 10\n",
    "    - integers from 10 to 0, backward"
   ]
  },
  {
   "cell_type": "code",
   "execution_count": null,
   "metadata": {
    "collapsed": false,
    "deletable": true,
    "editable": true
   },
   "outputs": [],
   "source": [
    "print(list(range(3)))\n",
    "print(list(range(-3))) # the default start value for range is 0; the default step value is 1\n",
    "print(list(range(2, 5))) \n",
    "print(list(range(5, 2))) # the value must increase if the step is positive\n",
    "print(list(range(-3,0))) # we can specify a start value smaller than 0\n",
    "print(list(range(-5, -1, 2))) \n",
    "print(list(range(5,0,-1))) # we can also have negative steps, which take a decreasing range\n",
    "print(list(range(5, 0, 0))) # the default step cannot be set to 0"
   ]
  },
  {
   "cell_type": "markdown",
   "metadata": {
    "deletable": true,
    "editable": true
   },
   "source": [
    "# Conditionals"
   ]
  },
  {
   "cell_type": "markdown",
   "metadata": {
    "deletable": true,
    "editable": true
   },
   "source": [
    "## simple decision\n",
    "* if and only if the condition is met, execute the block of statements"
   ]
  },
  {
   "cell_type": "code",
   "execution_count": null,
   "metadata": {
    "collapsed": false,
    "deletable": true,
    "editable": true
   },
   "outputs": [],
   "source": [
    "if <condition>:\n",
    "     <statement>\n",
    "     ...\n",
    "     <statement>"
   ]
  },
  {
   "cell_type": "code",
   "execution_count": null,
   "metadata": {
    "collapsed": false,
    "deletable": true,
    "editable": true
   },
   "outputs": [],
   "source": [
    "passcode = input(\"Say the right thing and you shall pass!\")\n",
    "if passcode == \"Open Sesame\":\n",
    "    print(\"Now you may proceed!\")\n",
    "    print(\"Congratulations!\")"
   ]
  },
  {
   "cell_type": "markdown",
   "metadata": {
    "deletable": true,
    "editable": true
   },
   "source": [
    "## Two-way decision:\n",
    "* if and only if the condition meets, execute the block of statements 1\n",
    "* otherwise execute the block of statements 2"
   ]
  },
  {
   "cell_type": "code",
   "execution_count": null,
   "metadata": {
    "collapsed": false,
    "deletable": true,
    "editable": true
   },
   "outputs": [],
   "source": [
    "if <condition>:\n",
    "     <statements 1>\n",
    "else:\n",
    "     <statements 2>"
   ]
  },
  {
   "cell_type": "code",
   "execution_count": null,
   "metadata": {
    "collapsed": false,
    "deletable": true,
    "editable": true
   },
   "outputs": [],
   "source": [
    "passcode = input(\"Say the right thing and you shall pass! \")\n",
    "if passcode == \"Open Sesame\":\n",
    "    print(\"Now you may proceed!\")\n",
    "else:\n",
    "    print(\"Wrong code!\")"
   ]
  },
  {
   "cell_type": "markdown",
   "metadata": {
    "deletable": true,
    "editable": true
   },
   "source": [
    "## Another example: if vs. elif"
   ]
  },
  {
   "cell_type": "code",
   "execution_count": null,
   "metadata": {
    "collapsed": false,
    "deletable": true,
    "editable": true
   },
   "outputs": [],
   "source": [
    "person = input(\"What is your nationality? \")\n",
    "if person == \"French\" or \"french\": # a if clause checks a boolean value \n",
    "    # Importantly, \"french\" is a value always True, so the next line will always gets printed out.\n",
    "    print(\"Préférez-vous parler français?\")"
   ]
  },
  {
   "cell_type": "code",
   "execution_count": null,
   "metadata": {
    "collapsed": false,
    "deletable": true,
    "editable": true
   },
   "outputs": [],
   "source": [
    "person = input(\"What is your nationality? \")\n",
    "if person == \"French\" or person == \"french\":\n",
    "    print(\"Préférez-vous parler français?\")"
   ]
  },
  {
   "cell_type": "code",
   "execution_count": null,
   "metadata": {
    "collapsed": false,
    "deletable": true,
    "editable": true
   },
   "outputs": [],
   "source": [
    "person = input(\"What is your nationality? \")\n",
    "if person == \"French\":\n",
    "    print(\"Préférez-vous parler français?\")\n",
    "if person == \"German\":\n",
    "    print(\"Wollen Sie lieber Deutsch sprechen?\")"
   ]
  },
  {
   "cell_type": "markdown",
   "metadata": {
    "deletable": true,
    "editable": true
   },
   "source": [
    "* The expression is only checked after \"elif\", if the expression in the previous \"elif'' or \"if\" was \"false''."
   ]
  },
  {
   "cell_type": "code",
   "execution_count": null,
   "metadata": {
    "collapsed": false,
    "deletable": true,
    "editable": true
   },
   "outputs": [],
   "source": [
    "person = input(\"What is your nationality? \")\n",
    "if person == \"French\":\n",
    "    print(\"Préférez-vous parler français?\")\n",
    "elif person == \"German\":\n",
    "    print(\"Wollen Sie lieber Deutsch sprechen?\")\n",
    "else:\n",
    "    print(\"So I suppose we can speak English to each other.\")"
   ]
  },
  {
   "cell_type": "markdown",
   "metadata": {
    "deletable": true,
    "editable": true
   },
   "source": [
    "* There can be more than one elif condition too."
   ]
  },
  {
   "cell_type": "code",
   "execution_count": null,
   "metadata": {
    "collapsed": false,
    "deletable": true,
    "editable": true
   },
   "outputs": [],
   "source": [
    "person = input(\"What is your nationality? \")\n",
    "if person == \"French\":\n",
    "    print(\"Préférez-vous parler français?\")\n",
    "elif person == \"German\":\n",
    "    print(\"Wollen Sie lieber Deutsch sprechen?\")\n",
    "elif person == \"Italian\":\n",
    "    print(\"Preferisci parlare italiano?\")\n",
    "else:\n",
    "    print(\"Can we speak English to each other?\")"
   ]
  },
  {
   "cell_type": "code",
   "execution_count": null,
   "metadata": {
    "collapsed": false,
    "deletable": true,
    "editable": true
   },
   "outputs": [],
   "source": [
    "person = input(\"What is your nationality? \")\n",
    "if person == \"French\":\n",
    "    print(\"Préférez-vous parler français?\")\n",
    "elif person == \"German\":\n",
    "    print(\"Wollen Sie lieber Deutsch sprechen?\")\n",
    "elif person == \"Italian\":\n",
    "    print(\"Preferisci parlare italiano?\")\n",
    "else:\n",
    "    language = input(\"Do you speak English? \")\n",
    "    if language == \"Yes\":\n",
    "        print(\"We can speak English to each other then!\")\n",
    "    else:\n",
    "        print(\"Please wait a second. Let me find you an assistant.\")"
   ]
  },
  {
   "cell_type": "markdown",
   "metadata": {
    "deletable": true,
    "editable": true
   },
   "source": [
    "* Compare if with elif again:"
   ]
  },
  {
   "cell_type": "code",
   "execution_count": null,
   "metadata": {
    "collapsed": false,
    "deletable": true,
    "editable": true
   },
   "outputs": [],
   "source": [
    "person = input(\"What is your nationality? \")\n",
    "if \"French\" in person: #False\n",
    "    if \"Dutch\" in person:\n",
    "        print(\"Préférez-vous parler français?\")\n",
    "        print(\"Dutch\")\n",
    "if \"German\" in person:\n",
    "    print(\"Wollen Sie lieber Deutsch sprechen?\")"
   ]
  },
  {
   "cell_type": "code",
   "execution_count": null,
   "metadata": {
    "collapsed": false,
    "deletable": true,
    "editable": true
   },
   "outputs": [],
   "source": [
    "person = input(\"What is your nationality? \")\n",
    "if \"French\" in person:\n",
    "    print(\"Préférez-vous parler français?\")\n",
    "elif \"German\" in person:\n",
    "    print(\"Wollen Sie lieber Deutsch sprechen?\")"
   ]
  },
  {
   "cell_type": "markdown",
   "metadata": {
    "deletable": true,
    "editable": true
   },
   "source": [
    "# Exercise 1: palindrome\n",
    "Ask the user for a string and print out whether this string is a palindrome or not. (A palindrome is a string that reads the same forwards and backwards.)"
   ]
  },
  {
   "cell_type": "code",
   "execution_count": null,
   "metadata": {
    "collapsed": false,
    "deletable": true,
    "editable": true
   },
   "outputs": [],
   "source": []
  },
  {
   "cell_type": "markdown",
   "metadata": {
    "deletable": true,
    "editable": true
   },
   "source": [
    "# Exercise 2: cat years\n",
    "It is generally agreed that the first two years of a cat’s life are roughly equal to the first 25 of a human’s, and after this, each additional year is around four ‘cat years’. This means if your cat is six years old, their equivalent cat age in human years will be around 41.\n",
    "\n",
    "Please write a Python script which implements this \"cat years algorithm\""
   ]
  },
  {
   "cell_type": "code",
   "execution_count": null,
   "metadata": {
    "collapsed": false,
    "deletable": true,
    "editable": true
   },
   "outputs": [],
   "source": [
    "age = int(input(\"How old is your cat? \"))\n",
    "if age < 2:\n",
    "    print(\"Your cat is too young!\")\n",
    "elif age == 2:\n",
    "    print(\"Your cat is 25 years old in human years.\")\n",
    "else: \n",
    "    print(\"Your cat is \" + str(25 + (age-2)*4) + \" years old in human years.\")"
   ]
  }
 ],
 "metadata": {
  "kernelspec": {
   "display_name": "Python 3",
   "language": "python",
   "name": "python3"
  },
  "language_info": {
   "codemirror_mode": {
    "name": "ipython",
    "version": 3
   },
   "file_extension": ".py",
   "mimetype": "text/x-python",
   "name": "python",
   "nbconvert_exporter": "python",
   "pygments_lexer": "ipython3",
   "version": "3.5.2"
  }
 },
 "nbformat": 4,
 "nbformat_minor": 2
}
