{
 "cells": [
  {
   "cell_type": "markdown",
   "metadata": {
    "deletable": true,
    "editable": true
   },
   "source": [
    "### We have already seen a lot of pre-written functions:\n",
    "* print(), input(), str(), log2(), ...\n",
    "\n",
    "### Let's learn how to write our own functions."
   ]
  },
  {
   "cell_type": "markdown",
   "metadata": {
    "deletable": true,
    "editable": true
   },
   "source": [
    "### Motivation for functions\n",
    "* The basic idea of a function is that you write a sequence of statements and give that sequence a name.\n",
    "* Then, when you need to repeat the code you can simply call the name of the function instead of writing the same code again.\n",
    "* It will reduce code duplication"
   ]
  },
  {
   "cell_type": "markdown",
   "metadata": {
    "deletable": true,
    "editable": true
   },
   "source": [
    "### How functions work\n",
    "* The part of the program that creates a function is called a function definition.\n",
    "* When a function is used in a program, we say that the definition is called.\n",
    "* A function must be defined before being used.\n",
    "* A single function definition may be called at many different points of a program."
   ]
  },
  {
   "cell_type": "markdown",
   "metadata": {
    "deletable": true,
    "editable": true
   },
   "source": [
    "### How to create a function\n",
    "* A primitive function\n",
    "    - the cell below\n",
    "* Note\n",
    "    - Don't forget the keyword \"def\"\n",
    "    - Don't forget the colon\n",
    "    - Use consistent indentation"
   ]
  },
  {
   "cell_type": "code",
   "execution_count": null,
   "metadata": {
    "collapsed": true,
    "deletable": true,
    "editable": true
   },
   "outputs": [],
   "source": [
    "def <function_name>():\n",
    "     <statement>\n",
    "     ...\n",
    "     <statement>"
   ]
  },
  {
   "cell_type": "markdown",
   "metadata": {
    "deletable": true,
    "editable": true
   },
   "source": [
    "### How to call a function\n",
    "* Write the function name followed by parentheses: `<function_name`>()\n",
    "* You can call the function within your program or in a shell."
   ]
  },
  {
   "cell_type": "markdown",
   "metadata": {
    "deletable": true,
    "editable": true
   },
   "source": [
    "### Example 1: find the even numbers in a given list of numbers\n",
    "* The point of functions is usually to take in inputs and return some value. \n",
    "* The return statement is used when a function is ready to return a value to its caller\n",
    "* The return statement causes your function to exit. Everything after the first return statement is unreachable. \n",
    "* As a result, there is only one return statement within a function."
   ]
  },
  {
   "cell_type": "code",
   "execution_count": 3,
   "metadata": {
    "collapsed": false,
    "deletable": true,
    "editable": true
   },
   "outputs": [
    {
     "name": "stdout",
     "output_type": "stream",
     "text": [
      "Hello\n"
     ]
    }
   ],
   "source": [
    "def doPrint():\n",
    "    #print (\"Hello\"),\n",
    "    return \"Hello\"\n",
    "    #print (\"Goodbye\"),\n",
    "    return \"Goodbye\"\n",
    "\n",
    "print (doPrint())"
   ]
  },
  {
   "cell_type": "code",
   "execution_count": 13,
   "metadata": {
    "collapsed": false,
    "deletable": true,
    "editable": true
   },
   "outputs": [
    {
     "name": "stdout",
     "output_type": "stream",
     "text": [
      "[0, 2, 4, 6, 8, 10, 12, 14, 16, 18]\n",
      "[0, 2, 4, 6, 8]\n"
     ]
    }
   ],
   "source": [
    "def find_even_numbers(n):\n",
    "    #stack = []\n",
    "    #for i in range(10):\n",
    "    #    if i%2 == 0:\n",
    "    #        stack.append(i)\n",
    "    #return stack\n",
    "    return [i for i in range(n) if i%2 == 0] # when you print a value out in a function, you exhaust that value\n",
    "print(find_even_numbers(20))\n",
    "print(find_even_numbers(10))"
   ]
  },
  {
   "cell_type": "markdown",
   "metadata": {
    "deletable": true,
    "editable": true
   },
   "source": [
    "### A function can take inputs from its caller and returns outputs to the caller.\n",
    "* Terminology\n",
    "    - Input = Argument = Parameter\n",
    "        - An argument is the actual value that is passed to the function when it is called. \n",
    "        - A parameter refers to the variables that are used in the function declaration/definition to represent those arguments that were send to the function during the function call.\n",
    "    - Output = (Return) Value"
   ]
  },
  {
   "cell_type": "markdown",
   "metadata": {
    "deletable": true,
    "editable": true
   },
   "source": [
    "* Pass a range value as argument"
   ]
  },
  {
   "cell_type": "code",
   "execution_count": 14,
   "metadata": {
    "collapsed": false,
    "deletable": true,
    "editable": true
   },
   "outputs": [
    {
     "name": "stdout",
     "output_type": "stream",
     "text": [
      "[0, 2, 4, 6, 8]\n"
     ]
    }
   ],
   "source": [
    "def find_even_numbers(num):\n",
    "    stack = []\n",
    "    for i in range(num):\n",
    "        if i%2 == 0:\n",
    "            stack.append(i)\n",
    "    return stack\n",
    "print(find_even_numbers(10))"
   ]
  },
  {
   "cell_type": "markdown",
   "metadata": {
    "deletable": true,
    "editable": true
   },
   "source": [
    "* Pass a list as argument "
   ]
  },
  {
   "cell_type": "code",
   "execution_count": 17,
   "metadata": {
    "collapsed": false,
    "deletable": true,
    "editable": true
   },
   "outputs": [
    {
     "name": "stdout",
     "output_type": "stream",
     "text": [
      "[0, 2, 4, 6, 8]\n"
     ]
    }
   ],
   "source": [
    "def find_even_numbers(lst):\n",
    "    #stack = []\n",
    "    #for i in lst:\n",
    "    #    if i%2 == 0:\n",
    "    #        stack.append(i)\n",
    "    #return stack\n",
    "    return [i for i in lst if i%2 == 0]\n",
    "print(find_even_numbers([0, 1, 2, 3, 4, 5, 6, 7, 8, 9]))"
   ]
  },
  {
   "cell_type": "markdown",
   "metadata": {
    "deletable": true,
    "editable": true
   },
   "source": [
    "### Exercise 1: divisors\n",
    "* Write a Python function to find all divisors of a certain given number\n",
    "* Your output should be a list containing all divisors"
   ]
  },
  {
   "cell_type": "code",
   "execution_count": 1,
   "metadata": {
    "collapsed": false,
    "deletable": true,
    "editable": true
   },
   "outputs": [
    {
     "name": "stdout",
     "output_type": "stream",
     "text": [
      "Give me a number: 15\n",
      "[1, 3, 5, 15]\n"
     ]
    }
   ],
   "source": [
    "def get_divisors():\n",
    "    num = int(input(\"Give me a number: \"))\n",
    "    #stack = []\n",
    "    #for i in range(1, num+1):\n",
    "    #    if num % i == 0:\n",
    "    #        stack.append(i)\n",
    "    #return stack\n",
    "    return [i for i in range(1, num+1) if num%i == 0]\n",
    "print(get_divisors())"
   ]
  },
  {
   "cell_type": "markdown",
   "metadata": {
    "deletable": true,
    "editable": true
   },
   "source": [
    "### Homework 1 (easy)\n",
    "* If we list all the natural numbers below 10 that are multiples of 3 or 5, we get 3, 5, 6 and 9. The sum of these multiples is 23.\n",
    "\n",
    "* Find the sum of all the multiples of 3 or 5 below 1000\n",
    "* The answer is 233168"
   ]
  },
  {
   "cell_type": "markdown",
   "metadata": {
    "deletable": true,
    "editable": true
   },
   "source": [
    "### Homework 2 (medium)\n",
    "* A palindromic number reads the same both ways. The largest palindrome made from the product of two 2-digit numbers is 9009 = 91 × 99.\n",
    "\n",
    "* Find the largest palindrome made from the product of two 3-digit numbers.\n",
    "* The answer is 906609"
   ]
  },
  {
   "cell_type": "markdown",
   "metadata": {
    "deletable": true,
    "editable": true
   },
   "source": [
    "### Homework 3 (easy)\n",
    "* The sum of the squares of the first ten natural numbers is, $1^2 + 2^2 + ... + 10^2 = 385$\n",
    "* The square of the sum of the first ten natural numbers is, $(1 + 2 + ... + 10)^2 = $55$^2 = 3025$\n",
    "* Hence the difference between the sum of the squares of the first ten natural numbers and the square of the sum is 3025 − 385 = 2640.\n",
    "\n",
    "* Find the difference between the sum of the squares of the first one hundred natural numbers and the square of the sum."
   ]
  },
  {
   "cell_type": "markdown",
   "metadata": {
    "deletable": true,
    "editable": true
   },
   "source": [
    "### Homework 4 (easy)\n",
    "* The series, 11 + 22 + 33 + ... + 1010 = \n",
    "* Find the last ten digits of the series, 11 + 22 + 33 + ... + 10001000.\n",
    "* The answer is "
   ]
  },
  {
   "cell_type": "code",
   "execution_count": 16,
   "metadata": {
    "collapsed": false
   },
   "outputs": [
    {
     "name": "stdout",
     "output_type": "stream",
     "text": [
      "['11', '22', '33', '44', '55', '66', '77', '88', '99', '1010']\n",
      "1505\n"
     ]
    }
   ],
   "source": [
    "def get_nums():\n",
    "    stack = []\n",
    "    for i in range(1, 11):\n",
    "        stack.append(str(i)+str(i))\n",
    "    return stack\n",
    "print(get_nums())\n",
    "\n",
    "def main():\n",
    "    sumN = 0\n",
    "    for i in get_nums():\n",
    "        sumN += int(i)\n",
    "    return sumN\n",
    "print(main())"
   ]
  },
  {
   "cell_type": "markdown",
   "metadata": {
    "deletable": true,
    "editable": true
   },
   "source": [
    "### Homework 5 (medium)\n",
    "* Write a Python function that takes a number as a parameter and check the number is prime or not."
   ]
  },
  {
   "cell_type": "markdown",
   "metadata": {
    "deletable": true,
    "editable": true
   },
   "source": [
    "### Homework 6 (hard)\n",
    "* 2520 is the smallest number that can be divided by each of the numbers from 1 to 10 without any remainder.\n",
    "\n",
    "* What is the smallest positive number that is evenly divisible by all of the numbers from 1 to 20?\n",
    "* This question asks for the least common multiple. \n",
    "* The answer is 232792560"
   ]
  },
  {
   "cell_type": "markdown",
   "metadata": {
    "deletable": true,
    "editable": true
   },
   "source": []
  },
  {
   "cell_type": "code",
   "execution_count": null,
   "metadata": {
    "collapsed": true,
    "deletable": true,
    "editable": true
   },
   "outputs": [],
   "source": []
  }
 ],
 "metadata": {
  "kernelspec": {
   "display_name": "Python 3",
   "language": "python",
   "name": "python3"
  },
  "language_info": {
   "codemirror_mode": {
    "name": "ipython",
    "version": 3
   },
   "file_extension": ".py",
   "mimetype": "text/x-python",
   "name": "python",
   "nbconvert_exporter": "python",
   "pygments_lexer": "ipython3",
   "version": "3.5.2"
  }
 },
 "nbformat": 4,
 "nbformat_minor": 2
}
