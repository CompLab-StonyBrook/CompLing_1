{
 "cells": [
  {
   "cell_type": "markdown",
   "metadata": {
    "deletable": true,
    "editable": true
   },
   "source": [
    "### Project 1\n",
    "* A knight in standard international chess is sitting on a board as follows\n",
    "\n",
    "| 0    | 1    | 2    | 3    |\n",
    "|-----:|-----:|-----:|-----:|\n",
    "| **4**    | **5**    | **6**    | **7**    |\n",
    "| **8**    | **9**    | **10**   | **11**   |\n",
    "| **12**   | **13**   | **14**   | **15**   |\n",
    "\n",
    "* The knight starts on square \"0\" and makes T jumps to other squares according to the allowable moves in Chess (so that at each space, it has between two to four valid moves). The knight chooses amongst the allowable moves at each jump uniformly at random and keeps track of the running sum S of keys on which it lands. \n",
    "\n",
    "* Questions:\n",
    "    - After T=10 moves, what is the mean of the quantity S?\n",
    "    - What is the standard deviation?"
   ]
  },
  {
   "cell_type": "markdown",
   "metadata": {
    "deletable": true,
    "editable": true
   },
   "source": [
    "### Steps:\n",
    "* build the chess board\n",
    "* simulate how knight moves on the chess board\n",
    "* map position values to actual values\n",
    "* randomness is handled by pop()"
   ]
  },
  {
   "cell_type": "code",
   "execution_count": 2,
   "metadata": {
    "collapsed": false,
    "deletable": true,
    "editable": true
   },
   "outputs": [
    {
     "name": "stdout",
     "output_type": "stream",
     "text": [
      "{(1, 'b'), (1, 'a'), (3, 'b'), (3, 'a'), (2, 'a'), (2, 'b')}\n"
     ]
    }
   ],
   "source": [
    "# product can cross two datatypes, any datatypes, which also don't need to be the same.\n",
    "from itertools import product\n",
    "x = {1, 2, 3}\n",
    "y = \"ab\"\n",
    "prod = set(product(x, y))\n",
    "print(prod)"
   ]
  },
  {
   "cell_type": "code",
   "execution_count": 3,
   "metadata": {
    "collapsed": false,
    "deletable": true,
    "editable": true
   },
   "outputs": [
    {
     "name": "stdout",
     "output_type": "stream",
     "text": [
      "[1, 2, 3, 4, 5, 6, 7, 8]\n"
     ]
    }
   ],
   "source": [
    "lst1 = [1, 2, 3, 4]\n",
    "lst2 = [5, 6, 7, 8]\n",
    "print(lst1+lst2)"
   ]
  },
  {
   "cell_type": "code",
   "execution_count": 4,
   "metadata": {
    "collapsed": false,
    "deletable": true,
    "editable": true
   },
   "outputs": [
    {
     "name": "stdout",
     "output_type": "stream",
     "text": [
      "[(1, 2), (2, 1)]\n"
     ]
    }
   ],
   "source": [
    "from itertools import product\n",
    "def get_moves(positions):\n",
    "    x, y = positions\n",
    "    moves = list(product([x-1, x+1],[y-2, y+2])) + list(product([x-2,x+2],[y-1,y+1]))\n",
    "    moves = [(m,n) for m,n in moves if m >= 0 and n >= 0 and m < 4 and n < 4]\n",
    "    return moves\n",
    "\n",
    "print(get_moves((0,0)))"
   ]
  },
  {
   "cell_type": "code",
   "execution_count": 5,
   "metadata": {
    "collapsed": false,
    "deletable": true,
    "editable": true
   },
   "outputs": [
    {
     "data": {
      "text/plain": [
       "[[0, 0, 0, 0], [0, 0, 0, 0], [0, 0, 0, 0], [0, 0, 0, 0]]"
      ]
     },
     "execution_count": 5,
     "metadata": {},
     "output_type": "execute_result"
    }
   ],
   "source": [
    "#This function tears apart the list comprehension in get_board(), to show how the board is created in detail.\n",
    "def get_zero_board():\n",
    "    stack1 = []\n",
    "    for x in range(4):\n",
    "        stack1.append(0)\n",
    "        stack2 = []\n",
    "        for y in range(4):\n",
    "            stack2.append(stack1)\n",
    "    return stack2\n",
    "get_zero_board()"
   ]
  },
  {
   "cell_type": "code",
   "execution_count": 6,
   "metadata": {
    "collapsed": false,
    "deletable": true,
    "editable": true
   },
   "outputs": [
    {
     "name": "stdout",
     "output_type": "stream",
     "text": [
      "[[0, 1, 2, 3], [4, 5, 6, 7], [8, 9, 10, 11], [12, 13, 14, 15]]\n"
     ]
    }
   ],
   "source": [
    "def get_board():\n",
    "    board = [[0 for x in range(4)] for x in range(4)]\n",
    "    for i in range(4):\n",
    "        board[0][i] = i\n",
    "        board[1][i] = i+4\n",
    "        board[2][i] = i+8\n",
    "        board[3][i] = i+12\n",
    "    return board\n",
    "\n",
    "print(get_board())"
   ]
  },
  {
   "cell_type": "code",
   "execution_count": 7,
   "metadata": {
    "collapsed": false,
    "deletable": true,
    "editable": true
   },
   "outputs": [
    {
     "ename": "NameError",
     "evalue": "name 'n' is not defined",
     "output_type": "error",
     "traceback": [
      "\u001b[0;31m---------------------------------------------------------------------------\u001b[0m",
      "\u001b[0;31mNameError\u001b[0m                                 Traceback (most recent call last)",
      "\u001b[0;32m<ipython-input-7-bbbf934f0793>\u001b[0m in \u001b[0;36m<module>\u001b[0;34m()\u001b[0m\n\u001b[1;32m      2\u001b[0m \u001b[0;34m\u001b[0m\u001b[0m\n\u001b[1;32m      3\u001b[0m \u001b[0mstack1\u001b[0m \u001b[0;34m=\u001b[0m \u001b[0;34m[\u001b[0m\u001b[0;34m]\u001b[0m\u001b[0;34m\u001b[0m\u001b[0m\n\u001b[0;32m----> 4\u001b[0;31m \u001b[0;32mfor\u001b[0m \u001b[0mj\u001b[0m \u001b[0;32min\u001b[0m \u001b[0mrange\u001b[0m\u001b[0;34m(\u001b[0m\u001b[0mlen\u001b[0m\u001b[0;34m(\u001b[0m\u001b[0mget_multiples\u001b[0m\u001b[0;34m(\u001b[0m\u001b[0mn\u001b[0m\u001b[0;34m-\u001b[0m\u001b[0;36m1\u001b[0m\u001b[0;34m)\u001b[0m\u001b[0;34m)\u001b[0m\u001b[0;34m)\u001b[0m\u001b[0;34m:\u001b[0m\u001b[0;34m\u001b[0m\u001b[0m\n\u001b[0m\u001b[1;32m      5\u001b[0m     \u001b[0mstack1\u001b[0m\u001b[0;34m.\u001b[0m\u001b[0mappend\u001b[0m\u001b[0;34m(\u001b[0m\u001b[0mget_moves\u001b[0m\u001b[0;34m(\u001b[0m\u001b[0mi\u001b[0m\u001b[0;34m)\u001b[0m\u001b[0;34m)\u001b[0m\u001b[0;34m\u001b[0m\u001b[0m\n\u001b[1;32m      6\u001b[0m     \u001b[0mstack2\u001b[0m \u001b[0;34m=\u001b[0m \u001b[0;34m[\u001b[0m\u001b[0;34m]\u001b[0m\u001b[0;34m\u001b[0m\u001b[0m\n",
      "\u001b[0;31mNameError\u001b[0m: name 'n' is not defined"
     ]
    }
   ],
   "source": [
    "#[get_moves(i) for j in range(len(get_multiples(n-1))) for i in get_multiples(n-1)[j]]\n",
    "\n",
    "stack1 = []\n",
    "for j in range(len(get_multiples(n-1))):\n",
    "    stack1.append(get_moves(i))\n",
    "    stack2 = []\n",
    "    for i in get_multiples(n-1)[j]:\n",
    "        stack2.append(stack1)"
   ]
  },
  {
   "cell_type": "code",
   "execution_count": null,
   "metadata": {
    "collapsed": true,
    "deletable": true,
    "editable": true
   },
   "outputs": [],
   "source": [
    "n == 2\n",
    "get_moves(i) for i in get_multiples(1) ==\n",
    "get_moves(i) for i in get_moves((0,0)) == \n",
    "get_moves(i) for i in [(1, 2), (2, 1)]\n",
    "\n",
    "n == 3\n",
    "[get_moves(i) for j in range(len(get_multiples(2))) for i in get_multiples(2)[j]] ==\n",
    "[get_moves(i) for j in range(2) for i in [[(0, 0), (2, 0), (3, 1), (3, 3)], [(1, 3), (3, 3), (0, 0), (0, 2)]][j]]==\n",
    "[get_moves(i) for 0 in range(2) for i in [[(0, 0), (2, 0), (3, 1), (3, 3)], [(1, 3), (3, 3), (0, 0), (0, 2)]][0]] == \n",
    "[get_moves(i) for 0 in range(2) for i in [(0, 0), (2, 0), (3, 1), (3, 3)]\n",
    "[get_moves(0) [(0, 0)]\n",
    "\n"
   ]
  },
  {
   "cell_type": "code",
   "execution_count": 34,
   "metadata": {
    "collapsed": false
   },
   "outputs": [
    {
     "name": "stdout",
     "output_type": "stream",
     "text": [
      "[[(0, 0), (2, 0), (3, 1), (3, 3)], [(1, 3), (3, 3), (0, 0), (0, 2)]]\n"
     ]
    }
   ],
   "source": [
    "#this function returns all possible positions after N run. \n",
    "#each embedded list means possible positions for a specific position.\n",
    "def get_multiples(n):\n",
    "    if n == 0:\n",
    "        return [(0,0)]\n",
    "    elif n == 1:\n",
    "        return get_moves((0,0))\n",
    "    elif n == 2: \n",
    "        return [get_moves(i) for i in get_multiples(n-1)]\n",
    "    else:\n",
    "        return [get_moves(i) for j in range(len(get_multiples(n-1))) for i in get_multiples(n-1)[j]]\n",
    "\n",
    "print(get_multiples(2))"
   ]
  },
  {
   "cell_type": "code",
   "execution_count": 47,
   "metadata": {
    "collapsed": false,
    "deletable": true,
    "editable": true
   },
   "outputs": [
    {
     "name": "stdout",
     "output_type": "stream",
     "text": [
      "[[0, 8, 13, 15], [7, 15, 0, 2]]\n"
     ]
    }
   ],
   "source": [
    "def get_landing_numbers(n):\n",
    "    if n == 1:\n",
    "        stack1 = []\n",
    "        for i in get_multiples(n):\n",
    "            stack1.append(get_board()[i[0]][i[1]]) # get_board()[1][2]\n",
    "        return stack1\n",
    "    \n",
    "    else:\n",
    "        #return [[get_board()[i[0]][i[1]] for i in get_multiples(n)[j]] for j in range(len(get_multiples(n)))]\n",
    "    \n",
    "        stack2 = []\n",
    "        for j in range(len(get_multiples(n))):\n",
    "            stack3 = []\n",
    "            for i in get_multiples(n)[j]:\n",
    "                stack3.append(get_board()[i[0]][i[1]])\n",
    "            stack2.append(stack3)\n",
    "        return stack2\n",
    "            \n",
    "print(get_landing_numbers(2))"
   ]
  },
  {
   "cell_type": "code",
   "execution_count": 71,
   "metadata": {
    "collapsed": false
   },
   "outputs": [
    {
     "name": "stdout",
     "output_type": "stream",
     "text": [
      "[1, 2, 3, 4, 5, 6, 7, 8, 9, 10]\n",
      "[1, 2, 3, 4, 5]\n"
     ]
    }
   ],
   "source": [
    "lst_x = [1, 2, 3, 4, 5]\n",
    "lst_x1 = [6, 7, 8, 9, 10]\n",
    "lst_x.extend(lst_x1)\n",
    "print(lst_x)\n",
    "\n",
    "x = [1, 2, 3]\n",
    "x.extend([4, 5])\n",
    "print (x)"
   ]
  },
  {
   "cell_type": "code",
   "execution_count": 79,
   "metadata": {
    "collapsed": false,
    "deletable": true,
    "editable": true
   },
   "outputs": [
    {
     "name": "stdout",
     "output_type": "stream",
     "text": [
      "[0, 8, 13, 15, 7, 15, 0, 2]\n",
      "[(0, [6, 9]), (8, [6, 14, 1]), (13, [11, 4, 6]), (15, [9, 6]), (7, [1, 9, 14]), (15, [9, 6]), (0, [6, 9]), (2, [4, 9, 11])]\n"
     ]
    }
   ],
   "source": [
    "def get_list(n):\n",
    "    if n == 1:\n",
    "        return get_landing_numbers(n)\n",
    "    elif n == 2:\n",
    "        stack1 = [i for i in get_landing_numbers(n-1)]\n",
    "        stack2 = [j for j in get_landing_numbers(n)]\n",
    "        return list(zip(stack1, stack2))\n",
    "    else:\n",
    "        stack3 = []\n",
    "        for i in get_landing_numbers(n-1):\n",
    "            stack3.extend(i)\n",
    "        print(stack3)\n",
    "        stack2 = [j for j in get_landing_numbers(n)]\n",
    "        return list(zip(stack3, stack2))\n",
    "\n",
    "print(get_list(3))"
   ]
  },
  {
   "cell_type": "code",
   "execution_count": 84,
   "metadata": {
    "collapsed": true
   },
   "outputs": [],
   "source": [
    "def memoize(f):\n",
    "    memo = {}\n",
    "    def helper(x):\n",
    "        if x not in memo:            \n",
    "            memo[x] = f(x)\n",
    "        return memo[x]\n",
    "    return helper"
   ]
  },
  {
   "cell_type": "code",
   "execution_count": 85,
   "metadata": {
    "collapsed": false,
    "deletable": true,
    "editable": true
   },
   "outputs": [
    {
     "name": "stdout",
     "output_type": "stream",
     "text": [
      "[0, 8, 13, 15, 7, 15, 0, 2, 0, 8, 13, 15, 8, 5, 7, 7, 8, 10, 5, 13, 2, 2, 10, 13, 0, 8, 13, 15, 7, 15, 0, 2, 0, 8, 13, 15, 7, 8, 10, 7, 15, 0, 2, 8, 5, 7, 7, 15, 0, 2, 0, 8, 13, 15, 0, 8, 13, 15, 7, 15, 0, 2, 2, 10, 13, 7, 15, 0, 2, 5, 13, 2]\n",
      "[6, 9, 6, 14, 1, 11, 4, 6, 9, 6, 1, 9, 14, 9, 6, 6, 9, 4, 9, 11]\n",
      "[0, 8, 13, 15, 7, 15, 0, 2]\n",
      "7.0\n"
     ]
    }
   ],
   "source": [
    "# (2, [4, 9, 11])\n",
    "\n",
    "def get_random_sum(n):\n",
    "    if n == 1:\n",
    "        return get_list(n).pop()\n",
    "    else:\n",
    "        res = get_list(n).pop()[1].pop()\n",
    "        return res + get_random_sum(n-1)   \n",
    "\n",
    "get_random_sum = memoize(get_random_sum)\n",
    "def get_mean(n):\n",
    "    return get_random_sum(n)/n\n",
    "\n",
    "get_mean = memoize(get_mean)\n",
    "\n",
    "print(get_mean(5))"
   ]
  },
  {
   "cell_type": "code",
   "execution_count": 86,
   "metadata": {
    "collapsed": false,
    "deletable": true,
    "editable": true
   },
   "outputs": [
    {
     "name": "stdout",
     "output_type": "stream",
     "text": [
      "7.0\n",
      "[0, 8, 13, 15, 7, 15, 0, 2, 0, 8, 13, 15, 8, 5, 7, 7, 8, 10, 5, 13, 2, 2, 10, 13, 0, 8, 13, 15, 7, 15, 0, 2, 0, 8, 13, 15, 7, 8, 10, 7, 15, 0, 2, 8, 5, 7, 7, 15, 0, 2, 0, 8, 13, 15, 0, 8, 13, 15, 7, 15, 0, 2, 2, 10, 13, 7, 15, 0, 2, 5, 13, 2]\n",
      "[0, 8, 13, 15, 7, 15, 0, 2, 0, 8, 13, 15, 8, 5, 7, 7, 8, 10, 5, 13, 2, 2, 10, 13, 0, 8, 13, 15, 7, 15, 0, 2, 0, 8, 13, 15, 7, 8, 10, 7, 15, 0, 2, 8, 5, 7, 7, 15, 0, 2, 0, 8, 13, 15, 0, 8, 13, 15, 7, 15, 0, 2, 2, 10, 13, 7, 15, 0, 2, 5, 13, 2]\n",
      "[0, 8, 13, 15, 7, 15, 0, 2, 0, 8, 13, 15, 8, 5, 7, 7, 8, 10, 5, 13, 2, 2, 10, 13, 0, 8, 13, 15, 7, 15, 0, 2, 0, 8, 13, 15, 7, 8, 10, 7, 15, 0, 2, 8, 5, 7, 7, 15, 0, 2, 0, 8, 13, 15, 0, 8, 13, 15, 7, 15, 0, 2, 2, 10, 13, 7, 15, 0, 2, 5, 13, 2]\n",
      "[6, 9, 6, 14, 1, 11, 4, 6, 9, 6, 1, 9, 14, 9, 6, 6, 9, 4, 9, 11]\n",
      "[6, 9, 6, 14, 1, 11, 4, 6, 9, 6, 1, 9, 14, 9, 6, 6, 9, 4, 9, 11]\n",
      "[0, 8, 13, 15, 7, 15, 0, 2]\n",
      "3.7401723073795528\n"
     ]
    }
   ],
   "source": [
    "#from math import sqrt\n",
    "\n",
    "import math\n",
    "\n",
    "def get_square_sum(n):\n",
    "    if n == 1:\n",
    "        return 0\n",
    "    elif n == 2:\n",
    "        res1 = (get_list(n).pop()[1].pop() - get_mean(n))**2\n",
    "        res2 = (get_list(n-1).pop() - get_mean(n))**2\n",
    "        return res1+res2   \n",
    "    else:\n",
    "        for i in range(3, n+1):\n",
    "            res = (get_list(n).pop()[1].pop() - get_mean(n))**2\n",
    "        return res + get_square_sum(n-1)  \n",
    "\n",
    "def get_sd(n):\n",
    "    return math.sqrt(get_square_sum(n)/n)\n",
    "\n",
    "print(get_mean(5))\n",
    "print(get_sd(5))"
   ]
  },
  {
   "cell_type": "code",
   "execution_count": null,
   "metadata": {
    "collapsed": false,
    "deletable": true,
    "editable": true
   },
   "outputs": [],
   "source": [
    "def memoize(f):\n",
    "    memo = {}\n",
    "    def helper(x):\n",
    "        if x not in memo:            \n",
    "            memo[x] = f(x)\n",
    "        return memo[x]\n",
    "    return helper"
   ]
  },
  {
   "cell_type": "code",
   "execution_count": null,
   "metadata": {
    "collapsed": true,
    "deletable": true,
    "editable": true
   },
   "outputs": [],
   "source": []
  }
 ],
 "metadata": {
  "kernelspec": {
   "display_name": "Python 3",
   "language": "python",
   "name": "python3"
  },
  "language_info": {
   "codemirror_mode": {
    "name": "ipython",
    "version": 3
   },
   "file_extension": ".py",
   "mimetype": "text/x-python",
   "name": "python",
   "nbconvert_exporter": "python",
   "pygments_lexer": "ipython3",
   "version": "3.5.2"
  }
 },
 "nbformat": 4,
 "nbformat_minor": 2
}
