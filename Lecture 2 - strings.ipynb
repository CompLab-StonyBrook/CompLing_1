{
 "cells": [
  {
   "cell_type": "code",
   "execution_count": 8,
   "metadata": {
    "collapsed": false,
    "deletable": true,
    "editable": true
   },
   "outputs": [
    {
     "name": "stdout",
     "output_type": "stream",
     "text": [
      "Hello world\n"
     ]
    }
   ],
   "source": [
    "print(\"Hello world\")"
   ]
  },
  {
   "cell_type": "markdown",
   "metadata": {
    "deletable": true,
    "editable": true
   },
   "source": [
    "# Sequential data types 1: strings\n",
    "\n",
    "* The elements of strings are <span style=\"color:red\">**ordered**</span> in a defined sequence\n",
    "* The elements can be accessed via <span style=\"color:red\">**indices**</span>"
   ]
  },
  {
   "cell_type": "code",
   "execution_count": 10,
   "metadata": {
    "collapsed": false,
    "deletable": true,
    "editable": true
   },
   "outputs": [
    {
     "name": "stdout",
     "output_type": "stream",
     "text": [
      "P\n",
      "n\n"
     ]
    }
   ],
   "source": [
    "text = \"Python\"\n",
    "print(text[0])\n",
    "print(text[5])"
   ]
  },
  {
   "cell_type": "markdown",
   "metadata": {
    "deletable": true,
    "editable": true
   },
   "source": [
    "* Format: `<string>[<index>]`\n",
    "* To get the nth character, use the index n-1\n",
    "\n",
    "* How do we access strings backwards?"
   ]
  },
  {
   "cell_type": "code",
   "execution_count": 11,
   "metadata": {
    "collapsed": false,
    "deletable": true,
    "editable": true
   },
   "outputs": [
    {
     "name": "stdout",
     "output_type": "stream",
     "text": [
      "n\n"
     ]
    }
   ],
   "source": [
    "text = \"Python\"\n",
    "print(text[-1])"
   ]
  },
  {
   "cell_type": "markdown",
   "metadata": {
    "deletable": true,
    "editable": true
   },
   "source": [
    "* What if we want to get a substring? For example, the first syllable of the word \"python\".\n",
    "- The answer is: string slicing"
   ]
  },
  {
   "cell_type": "code",
   "execution_count": 15,
   "metadata": {
    "collapsed": false,
    "deletable": true,
    "editable": true
   },
   "outputs": [
    {
     "name": "stdout",
     "output_type": "stream",
     "text": [
      "Py\n",
      "thon\n"
     ]
    }
   ],
   "source": [
    "text = \"Python\"\n",
    "print(text[:2])\n",
    "print(text[2:])"
   ]
  },
  {
   "cell_type": "markdown",
   "metadata": {
    "collapsed": true,
    "deletable": true,
    "editable": true
   },
   "source": [
    "* Did you notice anything strange here? Hint: boundaries\n",
    "* What about the second syllable? \n",
    "* There are two ways to get this. You can either count from the left side of the string, or you can count from the right side of the string. You already know how to do so from the left side of the string. Now you are going to learn how to count from the right side."
   ]
  },
  {
   "cell_type": "code",
   "execution_count": 21,
   "metadata": {
    "collapsed": false,
    "deletable": true,
    "editable": true
   },
   "outputs": [
    {
     "name": "stdout",
     "output_type": "stream",
     "text": [
      "thon\n"
     ]
    }
   ],
   "source": [
    "text = \"Python\"\n",
    "print(text[-4::1])"
   ]
  },
  {
   "cell_type": "markdown",
   "metadata": {
    "deletable": true,
    "editable": true
   },
   "source": [
    "* Notice we did not type in text[-4:-1]. What would happen if we do so?\n",
    "* We can also skip some substrings and get a subsequence of \"Python\" using step.\n",
    "* The default step is 1, which means nothing is skipped."
   ]
  },
  {
   "cell_type": "code",
   "execution_count": 24,
   "metadata": {
    "collapsed": false,
    "deletable": true,
    "editable": true
   },
   "outputs": [
    {
     "name": "stdout",
     "output_type": "stream",
     "text": [
      "Pto\n",
      "Pto\n",
      "nohtyP\n"
     ]
    }
   ],
   "source": [
    "text = \"Python\"\n",
    "print(text[0:6:2])\n",
    "print(text[::2])\n",
    "print(text[::-1])"
   ]
  },
  {
   "cell_type": "markdown",
   "metadata": {
    "deletable": true,
    "editable": true
   },
   "source": [
    "* How do we reverse a string using slicing?\n",
    "input = \"Python\"\n",
    "output = \"nohtyP\"\n",
    "\n",
    "\n",
    "* Other string operations:\n",
    "    * split\n",
    "    * concatenation\n",
    "    * length\n",
    "    * replace\n",
    "    * case "
   ]
  },
  {
   "cell_type": "code",
   "execution_count": 38,
   "metadata": {
    "collapsed": false,
    "deletable": true,
    "editable": true
   },
   "outputs": [
    {
     "name": "stdout",
     "output_type": "stream",
     "text": [
      "11\n",
      "['Hello', 'world']\n",
      "4\n",
      "['The', 'meaning', 'of', 'life']\n"
     ]
    }
   ],
   "source": [
    "s = \"Hello world\"\n",
    "print(len(s))\n",
    "print(s.split(\" \"))\n",
    "s = \"The_meaning_of_life\"\n",
    "lst2 = s.split(\"_\")\n",
    "print(len(lst2))\n",
    "print(lst2)"
   ]
  },
  {
   "cell_type": "code",
   "execution_count": 32,
   "metadata": {
    "collapsed": false,
    "deletable": true,
    "editable": true
   },
   "outputs": [
    {
     "name": "stdout",
     "output_type": "stream",
     "text": [
      "<class 'str'>\n"
     ]
    }
   ],
   "source": [
    "t1 = \"Monty\"\n",
    "t2 = \"Python\"\n",
    "t3 = t1 + \" \" + t2\n",
    "print(type(t3))"
   ]
  },
  {
   "cell_type": "code",
   "execution_count": null,
   "metadata": {
    "collapsed": false,
    "deletable": true,
    "editable": true
   },
   "outputs": [],
   "source": [
    "len(t3)"
   ]
  },
  {
   "cell_type": "code",
   "execution_count": 39,
   "metadata": {
    "collapsed": false,
    "deletable": true,
    "editable": true
   },
   "outputs": [
    {
     "name": "stdout",
     "output_type": "stream",
     "text": [
      "Monty\n"
     ]
    }
   ],
   "source": [
    "t1 = \"Montie\"\n",
    "t2 = t1.replace(\"ie\", \"y\")\n",
    "print (t2)"
   ]
  },
  {
   "cell_type": "code",
   "execution_count": 44,
   "metadata": {
    "collapsed": false,
    "deletable": true,
    "editable": true
   },
   "outputs": [
    {
     "name": "stdout",
     "output_type": "stream",
     "text": [
      "MONTY PYTHON THE IN\n",
      "monty python the in\n",
      "mONTY pYTHON THE IN\n",
      "Monty Python The In\n",
      "Monty python the in\n",
      "<class 'str'>\n"
     ]
    }
   ],
   "source": [
    "t3 = \"Monty Python the in\"\n",
    "print(t3.upper())\n",
    "print(t3.lower())\n",
    "print(t3.swapcase())\n",
    "print(t3.title())\n",
    "print(t3.capitalize())\n",
    "\n",
    "n = \"2\"\n",
    "print(type(n))"
   ]
  },
  {
   "cell_type": "markdown",
   "metadata": {
    "deletable": true,
    "editable": true
   },
   "source": [
    "# Exercises on strings\n",
    "\n",
    "## 1. Suppose that you have recoded a lot of people to collect speech data. For each recorded file, you would want to give a meaningful name in a systematic way, such as when it was recorded and who was recorded. You decided to include the following information in the file names: month, day, year; first name, last name, gender, age\n",
    "## E.g. 02_04_2016_mark_adams_M_22.wav\n",
    "## Later, you received a suggestion that you should change the personal names to their initials.\n",
    "## E.g. 02_04_2016_M_A_M_22.wav\n",
    "## How should we do this?"
   ]
  },
  {
   "cell_type": "code",
   "execution_count": 53,
   "metadata": {
    "collapsed": false,
    "deletable": true,
    "editable": true
   },
   "outputs": [
    {
     "name": "stdout",
     "output_type": "stream",
     "text": [
      "mark\n",
      "M\n",
      "A\n",
      "['02', '04', '2016', 'mark', 'adams', 'M', '22.wav']\n"
     ]
    }
   ],
   "source": [
    "s = \"02_04_2016_mark_adams_M_22.wav\"\n",
    "lst = s.split(\"_\")\n",
    "s1 = lst[3]\n",
    "s2 = s1.replace(s1, s1[0])\n",
    "s2 = s2.upper()\n",
    "s3 = lst[4]\n",
    "s4 = s3.replace(s3, s3[0].upper())\n",
    "print(s4)\n",
    "print(lst)"
   ]
  },
  {
   "cell_type": "code",
   "execution_count": 55,
   "metadata": {
    "collapsed": false,
    "deletable": true,
    "editable": true
   },
   "outputs": [
    {
     "name": "stdout",
     "output_type": "stream",
     "text": [
      "02_04_2016_M_A_M_22.wav\n"
     ]
    },
    {
     "ename": "AttributeError",
     "evalue": "'list' object has no attribute 'join'",
     "output_type": "error",
     "traceback": [
      "\u001b[0;31m---------------------------------------------------------------------------\u001b[0m",
      "\u001b[0;31mAttributeError\u001b[0m                            Traceback (most recent call last)",
      "\u001b[0;32m<ipython-input-55-9b30843f1b72>\u001b[0m in \u001b[0;36m<module>\u001b[0;34m()\u001b[0m\n\u001b[1;32m      5\u001b[0m \u001b[0mlst\u001b[0m\u001b[0;34m[\u001b[0m\u001b[0;36m4\u001b[0m\u001b[0;34m]\u001b[0m \u001b[0;34m=\u001b[0m \u001b[0mlst\u001b[0m\u001b[0;34m[\u001b[0m\u001b[0;36m4\u001b[0m\u001b[0;34m]\u001b[0m\u001b[0;34m.\u001b[0m\u001b[0mreplace\u001b[0m\u001b[0;34m(\u001b[0m\u001b[0mlst\u001b[0m\u001b[0;34m[\u001b[0m\u001b[0;36m4\u001b[0m\u001b[0;34m]\u001b[0m\u001b[0;34m,\u001b[0m \u001b[0mlst\u001b[0m\u001b[0;34m[\u001b[0m\u001b[0;36m4\u001b[0m\u001b[0;34m]\u001b[0m\u001b[0;34m[\u001b[0m\u001b[0;36m0\u001b[0m\u001b[0;34m]\u001b[0m\u001b[0;34m.\u001b[0m\u001b[0mupper\u001b[0m\u001b[0;34m(\u001b[0m\u001b[0;34m)\u001b[0m\u001b[0;34m)\u001b[0m\u001b[0;34m\u001b[0m\u001b[0m\n\u001b[1;32m      6\u001b[0m \u001b[0mprint\u001b[0m\u001b[0;34m(\u001b[0m\u001b[0;34m\"_\"\u001b[0m\u001b[0;34m.\u001b[0m\u001b[0mjoin\u001b[0m\u001b[0;34m(\u001b[0m\u001b[0mlst\u001b[0m\u001b[0;34m)\u001b[0m\u001b[0;34m)\u001b[0m\u001b[0;34m\u001b[0m\u001b[0m\n\u001b[0;32m----> 7\u001b[0;31m \u001b[0mprint\u001b[0m\u001b[0;34m(\u001b[0m\u001b[0mlst\u001b[0m\u001b[0;34m.\u001b[0m\u001b[0mjoin\u001b[0m\u001b[0;34m(\u001b[0m\u001b[0;34m\"_\"\u001b[0m\u001b[0;34m)\u001b[0m\u001b[0;34m)\u001b[0m\u001b[0;34m\u001b[0m\u001b[0m\n\u001b[0m",
      "\u001b[0;31mAttributeError\u001b[0m: 'list' object has no attribute 'join'"
     ]
    }
   ],
   "source": [
    "s = \"02_04_2016_mark_adams_M_22.wav\"\n",
    "lst = s.split(\"_\")\n",
    "#list is mutable\n",
    "lst[3] = lst[3].replace(lst[3], lst[3][0].upper())\n",
    "lst[4] = lst[4].replace(lst[4], lst[4][0].upper())\n",
    "print(\"_\".join(lst))"
   ]
  },
  {
   "cell_type": "markdown",
   "metadata": {
    "deletable": true,
    "editable": true
   },
   "source": [
    "## 2.Get a new string from a given string where all occurrences of its first character have been changed to '|', except the first character itself.\n",
    "\n",
    "   For example:\n",
    "   \n",
    "   s = \"google\"\n",
    "   \n",
    "   Expected output: \"goo|le\""
   ]
  },
  {
   "cell_type": "code",
   "execution_count": null,
   "metadata": {
    "collapsed": false,
    "deletable": true,
    "editable": true
   },
   "outputs": [],
   "source": [
    "s = \"google\"\n",
    "char = s[0]\n",
    "s = s.replace(char, '|')\n",
    "s = char + s[1:]\n",
    "print (s)"
   ]
  },
  {
   "cell_type": "markdown",
   "metadata": {
    "deletable": true,
    "editable": true
   },
   "source": [
    "## 3.Get a single string from two given strings, separated by a space and swap the first two characters of each string.\n",
    "\n",
    "For example:\n",
    "\n",
    "s1 = \"Microsoft\"\n",
    "\n",
    "s2 = \"Engine\"\n",
    "\n",
    "Expected output: \"Eicrosoft Mngine\"\n"
   ]
  },
  {
   "cell_type": "code",
   "execution_count": null,
   "metadata": {
    "collapsed": false,
    "deletable": true,
    "editable": true
   },
   "outputs": [],
   "source": [
    "s1 = \"Microsoft\"\n",
    "s2 = \"Engine\"\n",
    "s3 = s1[:]\n",
    "s4 = s2[:]\n",
    "s3 = s3.replace(s1[0], s2[0])\n",
    "s4 = s4.replace(s2[0], s1[0])\n",
    "s = s3 + \" \" + s4\n",
    "print (s)"
   ]
  },
  {
   "cell_type": "markdown",
   "metadata": {
    "deletable": true,
    "editable": true
   },
   "source": [
    "## 4.Write a Python program that accepts an integer (n) and computes the value of n+nn+nnn."
   ]
  },
  {
   "cell_type": "code",
   "execution_count": null,
   "metadata": {
    "collapsed": false,
    "deletable": true,
    "editable": true
   },
   "outputs": [],
   "source": [
    "n = input(\"Please give me a number: \")\n",
    "nn = n+n\n",
    "nnn = n+n+n\n",
    "res = int(n) + int(nn) + int(nnn)\n",
    "print (res)"
   ]
  },
  {
   "cell_type": "markdown",
   "metadata": {
    "deletable": true,
    "editable": true
   },
   "source": [
    "## 5. Accept a filename from the user and print the extension of that.\n",
    "* Input: xyz.py\n",
    "* Expected output: py"
   ]
  },
  {
   "cell_type": "code",
   "execution_count": null,
   "metadata": {
    "collapsed": false,
    "deletable": true,
    "editable": true
   },
   "outputs": [],
   "source": [
    "s = input(\"Please give me a filename: \")\n",
    "s1 = s.split(\".\")\n",
    "res = s1[-1]\n",
    "print (res)\n"
   ]
  },
  {
   "cell_type": "markdown",
   "metadata": {
    "collapsed": true,
    "deletable": true,
    "editable": true
   },
   "source": [
    "# Advanced materials: Counter"
   ]
  },
  {
   "cell_type": "code",
   "execution_count": 1,
   "metadata": {
    "collapsed": false,
    "deletable": true,
    "editable": true
   },
   "outputs": [
    {
     "name": "stdout",
     "output_type": "stream",
     "text": [
      "Counter({'o': 2, 'g': 2, 'e': 1, 'l': 1})\n"
     ]
    }
   ],
   "source": [
    "import collections\n",
    "c2 = collections.Counter('`')\n",
    "#once the counter is populated, its values can be retrieved by dictionary API.\n",
    "print(c2)"
   ]
  },
  {
   "cell_type": "code",
   "execution_count": null,
   "metadata": {
    "collapsed": true,
    "deletable": true,
    "editable": true
   },
   "outputs": [],
   "source": []
  }
 ],
 "metadata": {
  "kernelspec": {
   "display_name": "Python 3",
   "language": "python",
   "name": "python3"
  },
  "language_info": {
   "codemirror_mode": {
    "name": "ipython",
    "version": 3
   },
   "file_extension": ".py",
   "mimetype": "text/x-python",
   "name": "python",
   "nbconvert_exporter": "python",
   "pygments_lexer": "ipython3",
   "version": "3.5.2"
  }
 },
 "nbformat": 4,
 "nbformat_minor": 2
}
