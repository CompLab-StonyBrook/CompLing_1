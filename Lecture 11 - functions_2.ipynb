{
 "cells": [
  {
   "cell_type": "markdown",
   "metadata": {
    "deletable": true,
    "editable": true
   },
   "source": [
    "### Homework 1\n",
    "* If we list all the natural numbers below 10 that are multiples of 3 or 5, we get 3, 5, 6 and 9. The sum of these multiples is 23.\n",
    "\n",
    "* Find the sum of all the multiples of 3 or 5 below 1000\n",
    "* The answer is 233168"
   ]
  },
  {
   "cell_type": "code",
   "execution_count": 5,
   "metadata": {
    "collapsed": false,
    "deletable": true,
    "editable": true
   },
   "outputs": [
    {
     "name": "stdout",
     "output_type": "stream",
     "text": [
      "233168\n"
     ]
    }
   ],
   "source": [
    "def get_sum(n):\n",
    "    sumN = 0\n",
    "    for n in range(n):\n",
    "        if n%3 == 0 or n%5 == 0:\n",
    "            sumN += n\n",
    "    return sumN\n",
    "print(get_sum(1000))"
   ]
  },
  {
   "cell_type": "markdown",
   "metadata": {
    "deletable": true,
    "editable": true
   },
   "source": [
    "### Homework 2\n",
    "* A palindromic number reads the same both ways. The largest palindrome made from the product of two 2-digit numbers is 9009 = 91 × 99.\n",
    "\n",
    "* Find the largest palindrome made from the product of two 3-digit numbers.\n",
    "* The answer is 906609"
   ]
  },
  {
   "cell_type": "code",
   "execution_count": 19,
   "metadata": {
    "collapsed": false,
    "deletable": true,
    "editable": true
   },
   "outputs": [
    {
     "name": "stdout",
     "output_type": "stream",
     "text": [
      "906609\n"
     ]
    }
   ],
   "source": [
    "def get_palindrome(n):\n",
    "    return str(n) == str(n)[::-1]\n",
    "\n",
    "def get_largest():\n",
    "    counter = 0\n",
    "    for x in range(100, 1000):\n",
    "        for y in range(100, 1000):\n",
    "            if get_palindrome(x*y):\n",
    "                if x*y > counter:\n",
    "                    counter = x * y\n",
    "    return counter\n",
    "    \n",
    "print(get_largest())    "
   ]
  },
  {
   "cell_type": "code",
   "execution_count": 14,
   "metadata": {
    "collapsed": false,
    "deletable": true,
    "editable": true
   },
   "outputs": [
    {
     "data": {
      "text/plain": [
       "(999, 999)"
      ]
     },
     "execution_count": 14,
     "metadata": {},
     "output_type": "execute_result"
    }
   ],
   "source": [
    "def get_largest_palindrome1():\n",
    "    stack = []\n",
    "    for a in range(100, 1000):\n",
    "        for b in range(100, 1000):\n",
    "            p = a * b\n",
    "            if str(p) == str(p)[::-1]:\n",
    "                stack.append(p)\n",
    "    return sorted(stack)[-1]\n",
    "\n",
    "get_largest_palindrome1()\n",
    "            "
   ]
  },
  {
   "cell_type": "code",
   "execution_count": 17,
   "metadata": {
    "collapsed": false,
    "deletable": true,
    "editable": true
   },
   "outputs": [
    {
     "name": "stdout",
     "output_type": "stream",
     "text": [
      "906609\n"
     ]
    }
   ],
   "source": [
    "def get_largest_palindrome(a, b):\n",
    "    stack = []\n",
    "    for a in range(100, 1000):\n",
    "        for b in range(100, 1000):\n",
    "            if str(a*b) == str(a*b)[::-1]:\n",
    "                stack.append(a*b)\n",
    "    return max(stack)   \n",
    "print(get_largest_palindrome(999, 999))"
   ]
  },
  {
   "cell_type": "markdown",
   "metadata": {
    "deletable": true,
    "editable": true
   },
   "source": [
    "### Homework 3\n",
    "* The sum of the squares of the first ten natural numbers is, $1^2 + 2^2 + ... + 10^2 = 385$\n",
    "* The square of the sum of the first ten natural numbers is, $(1 + 2 + ... + 10)^2 = $55$^2 = 3025$\n",
    "* Hence the difference between the sum of the squares of the first ten natural numbers and the square of the sum is 3025 − 385 = 2640.\n",
    "\n",
    "* Find the difference between the sum of the squares of the first one hundred natural numbers and the square of the sum."
   ]
  },
  {
   "cell_type": "code",
   "execution_count": 33,
   "metadata": {
    "collapsed": false,
    "deletable": true,
    "editable": true
   },
   "outputs": [
    {
     "data": {
      "text/plain": [
       "25164150"
      ]
     },
     "execution_count": 33,
     "metadata": {},
     "output_type": "execute_result"
    }
   ],
   "source": [
    "def get_difference(n):\n",
    "    #sum_of_squares = 0\n",
    "    #sumN = 0\n",
    "    #for i in range(1, n+1):\n",
    "    #    sum_of_squares += i**2\n",
    "    #    sumN += i\n",
    "    #return sumN**2 - sum_of_squares\n",
    "\n",
    "    return sum(i for i in range(n+1))**2 - sum(i**2 for i in range(n+1)) # use the built-in function sum()\n",
    "\n",
    "get_difference(100)\n"
   ]
  },
  {
   "cell_type": "markdown",
   "metadata": {
    "deletable": true,
    "editable": true
   },
   "source": [
    "### Homework 4\n",
    "* Write a Python function that takes a number as a parameter and check the number is prime or not."
   ]
  },
  {
   "cell_type": "code",
   "execution_count": 48,
   "metadata": {
    "collapsed": false,
    "deletable": true,
    "editable": true
   },
   "outputs": [
    {
     "data": {
      "text/plain": [
       "False"
      ]
     },
     "execution_count": 48,
     "metadata": {},
     "output_type": "execute_result"
    }
   ],
   "source": [
    "def is_prime(num):\n",
    "    if num == 0:\n",
    "        return False\n",
    "    elif num == 1:\n",
    "        return False\n",
    "    elif num == 2:\n",
    "        return True\n",
    "    else:\n",
    "        for n in range(2, num):\n",
    "            if num%n == 0: \n",
    "                return False\n",
    "            else:\n",
    "                return True # This doesn't work because not all numbers in our range is checked. \n",
    "\n",
    "def main(num):\n",
    "    if is_prime(num) is True:\n",
    "        print(\"You have a prime!\")\n",
    "    else:\n",
    "        print(\"Not a prime!\")\n",
    "        \n",
    "main(17)"
   ]
  },
  {
   "cell_type": "code",
   "execution_count": null,
   "metadata": {
    "collapsed": true,
    "deletable": true,
    "editable": true
   },
   "outputs": [],
   "source": [
    "def is_prime1(num): # Suji's function\n",
    "    stack =[]\n",
    "    for i in range(1, num+1):\n",
    "        if num%i == 0:\n",
    "            stack.append(i)\n",
    "    if len(stack) == 2:\n",
    "        return True\n",
    "    else:\n",
    "        return False\n",
    "\n",
    "def main(num):\n",
    "    if is_prime1(num) is True:\n",
    "        print(\"You have a prime!\")\n",
    "    else:\n",
    "        print(\"Not a prime!\") \n",
    "        \n",
    "main(12)"
   ]
  },
  {
   "cell_type": "code",
   "execution_count": null,
   "metadata": {
    "collapsed": true,
    "deletable": true,
    "editable": true
   },
   "outputs": [],
   "source": [
    "def is_prime(num):\n",
    "    if num == 0:\n",
    "        return False\n",
    "    elif num == 1:\n",
    "        return False\n",
    "    elif num == 2:\n",
    "        return True\n",
    "    else:\n",
    "        for n in range(2, num):\n",
    "            if num%n == 0:\n",
    "                return False\n",
    "        return True\n",
    "\n",
    "def main(num):\n",
    "    if is_prime(num) is True:\n",
    "        print(\"You have a prime!\")\n",
    "    else:\n",
    "        print(\"Not a prime!\")\n",
    "\n",
    "main(21)"
   ]
  },
  {
   "cell_type": "markdown",
   "metadata": {
    "deletable": true,
    "editable": true
   },
   "source": [
    "### Homework 5\n",
    "* 2520 is the smallest number that can be divided by each of the numbers from 1 to 10 without any remainder.\n",
    "\n",
    "* What is the smallest positive number that is evenly divisible by all of the numbers from 1 to 20?\n",
    "* This question asks for the least common multiple. \n",
    "* The answer is 232792560"
   ]
  },
  {
   "cell_type": "code",
   "execution_count": 3,
   "metadata": {
    "collapsed": false,
    "deletable": true,
    "editable": true
   },
   "outputs": [
    {
     "name": "stdout",
     "output_type": "stream",
     "text": [
      "[2]\n",
      "2520\n"
     ]
    }
   ],
   "source": [
    "def is_prime(n):\n",
    "    if n == 0:\n",
    "        return False\n",
    "    elif n == 1:\n",
    "        return False\n",
    "    elif n == 2:\n",
    "        return True\n",
    "    for i in range(2, n):\n",
    "        if n%i == 0:\n",
    "            return False\n",
    "    return True\n",
    "\n",
    "def get_prime_factor_incomplete(n): #this function does not give us any duplicates in prime factors \n",
    "    stack = []\n",
    "    for i in range(2, n+1):\n",
    "        if n%i == 0 and is_prime(i):\n",
    "            stack.append(i)\n",
    "    return stack\n",
    "\n",
    "print(get_prime_factor_incomplete(45))\n",
    "\n",
    "# 1 = \n",
    "# 2 = 1*2   #2\n",
    "# 3 = 1*3   #3\n",
    "# 4 = 2*2   #2\n",
    "# 5 = 1*5   #5\n",
    "# 6 = 2*3   #2*3\n",
    "# 7 = 1*7   #7\n",
    "# 8 = 2*2*2 #2\n",
    "# 9 = 3*3*3 #3\n",
    "#10 = 2*5   #2*5\n",
    "\n",
    "# 30 = 3*2*5 #3*2*5\n",
    "# 45 = 3*3*5 #3*5\n",
    "# 34 = 2*17  #2*17\n",
    "# 27 = 3*3*3 #3\n",
    "# LCM = 3*3*3*2*5*17\n",
    "\n",
    "def LCM(n):\n",
    "    stack = []\n",
    "    for i in range(1, n+1):\n",
    "        pf = get_prime_factor_incomplete(i)\n",
    "        if len(pf) == 1:\n",
    "            stack.append(pf)\n",
    "    res = 1\n",
    "    for i in stack:\n",
    "        res = res*i[0]\n",
    "    return res  \n",
    "print(LCM(25))  "
   ]
  },
  {
   "cell_type": "code",
   "execution_count": 7,
   "metadata": {
    "collapsed": false,
    "deletable": true,
    "editable": true
   },
   "outputs": [
    {
     "name": "stdout",
     "output_type": "stream",
     "text": [
      "[5, 3, 3]\n",
      "[[], [2], [1, 3], [2, 2], [1, 5], [3, 2], [1, 7], [2, 2, 2], [3, 3], [5, 2]]\n",
      "[[1, 1], [1, 1], [1, 1], [2, 1], [2, 2], [2, 1], [2, 3], [2, 1], [3, 1], [3, 1], [3, 2], [5, 1], [5, 1], [7, 1]]\n",
      "{1: 1, 2: 1, 3: 1, 5: 1, 7: 1}\n",
      "{1: 1, 2: 3, 3: 2, 5: 1, 7: 1}\n"
     ]
    },
    {
     "data": {
      "text/plain": [
       "2520"
      ]
     },
     "execution_count": 7,
     "metadata": {},
     "output_type": "execute_result"
    }
   ],
   "source": [
    "def is_prime(n):\n",
    "    if n == 0:\n",
    "        return False\n",
    "    elif n == 1:\n",
    "        return False\n",
    "    elif n == 2:\n",
    "        return True\n",
    "    else:\n",
    "        for i in range(2, n):\n",
    "            if n%i == 0:\n",
    "                return False\n",
    "        return True\n",
    "    \n",
    "def get_prime_factors(m):\n",
    "    max_pf = 1\n",
    "    if m == 1:\n",
    "        return []\n",
    "    elif m == 2:\n",
    "        return [2]\n",
    "    stack = []\n",
    "    for i in range(2, m):\n",
    "        if m%i == 0 and is_prime(i):\n",
    "            max_pf = i\n",
    "    stack.append(max_pf)        \n",
    "    m = m//max_pf\n",
    "\n",
    "    if is_prime(m):\n",
    "        stack.append(m)  \n",
    "    else:\n",
    "        stack.extend(get_prime_factors(m))\n",
    "    return stack\n",
    "\n",
    "print(get_prime_factors(45))\n",
    "\n",
    "def get_LCM(n):\n",
    "    seq = list(range(1, n+1))\n",
    "    stack = []\n",
    "    for i in seq:\n",
    "        stack.append(get_prime_factors(i))\n",
    "    print(stack)\n",
    "    \n",
    "    stack2 = []\n",
    "    for i in range(1, n):\n",
    "        for j in stack:\n",
    "            if i in j:\n",
    "                num = j.count(i)\n",
    "                stack2.append([i, num])\n",
    "    print(stack2)\n",
    "    \n",
    "    dic = {}\n",
    "    for i in stack2:\n",
    "        if i[0] not in dic:\n",
    "            dic[i[0]] = num   \n",
    "            \n",
    "    print(dic)\n",
    "   \n",
    "    for j in dic:\n",
    "        for i in stack2:\n",
    "            if j == i[0]:\n",
    "                if i[1] > dic[j]:\n",
    "                    dic[j] = i[1]\n",
    "    print(dic)\n",
    "    \n",
    "    sumN = 1\n",
    "    for k, v in dic.items():\n",
    "        sumN *= k**v\n",
    "    return sumN\n",
    "    \n",
    "get_LCM(10)\n"
   ]
  },
  {
   "cell_type": "code",
   "execution_count": 8,
   "metadata": {
    "collapsed": false
   },
   "outputs": [
    {
     "name": "stdout",
     "output_type": "stream",
     "text": [
      "{'Peter': 8780988767, 'John': 6313564567, 'Mary': 6761234561}\n"
     ]
    }
   ],
   "source": [
    "dic = {\"John\": 6313564567, \"Mary\":6761234561}\n",
    "dic[\"Peter\"] = 8780988767\n",
    "print(dic)\n"
   ]
  },
  {
   "cell_type": "markdown",
   "metadata": {
    "deletable": true,
    "editable": true
   },
   "source": [
    "### Homework 6\n",
    "* The series, $1^1 + 2^2 + 3^3 + ... + 10^{10}$ = 10405071317.\n",
    "* Find the last ten digits of the series, $1^1 + 2^2 + 3^3 + ... + 1000^{1000}$."
   ]
  },
  {
   "cell_type": "code",
   "execution_count": 36,
   "metadata": {
    "collapsed": false,
    "deletable": true,
    "editable": true
   },
   "outputs": [
    {
     "data": {
      "text/plain": [
       "'9110846700'"
      ]
     },
     "execution_count": 36,
     "metadata": {},
     "output_type": "execute_result"
    }
   ],
   "source": [
    "def get_10_digits(n):\n",
    "    sumN = 0\n",
    "    for i in range(1, n+1):\n",
    "        sumN += i**i\n",
    "    return str(sumN)[-10:]\n",
    "get_10_digits(1000)"
   ]
  },
  {
   "cell_type": "code",
   "execution_count": null,
   "metadata": {
    "collapsed": true,
    "deletable": true,
    "editable": true
   },
   "outputs": [],
   "source": []
  }
 ],
 "metadata": {
  "kernelspec": {
   "display_name": "Python 3",
   "language": "python",
   "name": "python3"
  },
  "language_info": {
   "codemirror_mode": {
    "name": "ipython",
    "version": 3
   },
   "file_extension": ".py",
   "mimetype": "text/x-python",
   "name": "python",
   "nbconvert_exporter": "python",
   "pygments_lexer": "ipython3",
   "version": "3.5.2"
  }
 },
 "nbformat": 4,
 "nbformat_minor": 2
}
