{
 "cells": [
  {
   "cell_type": "markdown",
   "metadata": {
    "deletable": true,
    "editable": true
   },
   "source": [
    "## Exercise 1: get bigrams\n",
    "s = \"I am a string.\""
   ]
  },
  {
   "cell_type": "code",
   "execution_count": 46,
   "metadata": {
    "collapsed": false,
    "deletable": true,
    "editable": true
   },
   "outputs": [
    {
     "name": "stdout",
     "output_type": "stream",
     "text": [
      "[('I', ' '), (' ', 'a'), ('a', 'm'), ('m', ' '), (' ', 'a'), ('a', ' '), (' ', 's'), ('s', 't'), ('t', 'r'), ('r', 'i'), ('i', 'n'), ('n', 'g'), ('g', '.')]\n"
     ]
    }
   ],
   "source": [
    "def get_bigram_char(s):\n",
    "    stack = []\n",
    "    for i in range(1, len(s)):\n",
    "        stack.append((s[i-1], s[i]))\n",
    "    return stack\n",
    "print(get_bigram_char(\"I am a string.\"))"
   ]
  },
  {
   "cell_type": "code",
   "execution_count": 47,
   "metadata": {
    "collapsed": false,
    "deletable": true,
    "editable": true
   },
   "outputs": [
    {
     "name": "stdout",
     "output_type": "stream",
     "text": [
      "['I', 'am', 'a', 'string.']\n",
      "[('I', 'am'), ('am', 'a'), ('a', 'string.')]\n"
     ]
    }
   ],
   "source": [
    "def get_bigrams_word(s):\n",
    "    stack = []\n",
    "    lst = s.split()\n",
    "    for i in range(1,len(lst)):\n",
    "        stack.append((lst[i-1], lst[i]))\n",
    "    return stack\n",
    "print(get_bigrams_word(\"I am a string.\"))"
   ]
  },
  {
   "cell_type": "code",
   "execution_count": 50,
   "metadata": {
    "collapsed": false,
    "deletable": true,
    "editable": true
   },
   "outputs": [
    {
     "name": "stdout",
     "output_type": "stream",
     "text": [
      "[(1, 'John'), (2, 'kissed'), (3, 'Mary')]\n"
     ]
    }
   ],
   "source": [
    "lst1 = [1, 2, 3, 4, 5]\n",
    "lst2 = [\"John\", \"kissed\", \"Mary\"]\n",
    "print(list(zip(lst1, lst2)))"
   ]
  },
  {
   "cell_type": "code",
   "execution_count": 51,
   "metadata": {
    "collapsed": false,
    "deletable": true,
    "editable": true
   },
   "outputs": [
    {
     "name": "stdout",
     "output_type": "stream",
     "text": [
      "['I', 'am', 'a', 'string.']\n",
      "['am', 'a', 'string.']\n",
      "[('I', 'am'), ('am', 'a'), ('a', 'string.')]\n",
      "[('I', 'am', 'a'), ('am', 'a', 'string.')]\n"
     ]
    }
   ],
   "source": [
    "def get_bigrams_again(s):\n",
    "    lst = s.split()\n",
    "    print(lst)\n",
    "    print(lst[1:])\n",
    "    return list(zip(lst, lst[1:]))\n",
    "print(get_bigrams_again(\"I am a string.\"))\n",
    "\n",
    "def get_trigrams(s):\n",
    "    lst = s.split()\n",
    "    return list(zip(lst, lst[1:], lst[2:]))\n",
    "print(get_trigrams(\"I am a string.\"))"
   ]
  },
  {
   "cell_type": "code",
   "execution_count": 60,
   "metadata": {
    "collapsed": false,
    "deletable": true,
    "editable": true
   },
   "outputs": [
    {
     "name": "stdout",
     "output_type": "stream",
     "text": [
      "[('I', 'am'), ('am', 'a'), ('a', 'string.')]\n"
     ]
    }
   ],
   "source": [
    "def get_ngrams_again(s, n):\n",
    "    lst = s.split()\n",
    "    stack = []\n",
    "    #for i in range(n):\n",
    "    #    print(lst[i:])\n",
    "    return list(zip(*[lst[i:] for i in range(n)])) # compare: return list(zip([lst[i:] for i in range(n)]))\n",
    "print(get_ngrams_again(\"I am a string.\", 2))"
   ]
  },
  {
   "cell_type": "code",
   "execution_count": 55,
   "metadata": {
    "collapsed": false,
    "deletable": true,
    "editable": true
   },
   "outputs": [
    {
     "name": "stdout",
     "output_type": "stream",
     "text": [
      "['I', 'am', 'a', 'string.']\n",
      "['am', 'a', 'string.']\n",
      "[(['I', 'am', 'a', 'string.'],), (['am', 'a', 'string.'],)]\n"
     ]
    }
   ],
   "source": [
    "def get_ngrams_again(s, n):\n",
    "    lst = s.split()\n",
    "    stack = []\n",
    "    for i in range(n):\n",
    "        print(lst[i:])\n",
    "    return list(zip([lst[i:] for i in range(n)])) # compare: return list(zip([lst[i:] for i in range(n)]))\n",
    "print(get_ngrams_again(\"I am a string.\", 2))"
   ]
  },
  {
   "cell_type": "code",
   "execution_count": 54,
   "metadata": {
    "collapsed": false,
    "deletable": true,
    "editable": true
   },
   "outputs": [
    {
     "name": "stdout",
     "output_type": "stream",
     "text": [
      "[['I', 'am'], ['am', 'a'], ['a', 'string.']]\n"
     ]
    }
   ],
   "source": [
    "def get_ngrams(s, n):\n",
    "    lst = s.split()\n",
    "    stack = []\n",
    "    for i in range(len(lst) - (n - 1)):\n",
    "        stack.append(lst[i:i+n])\n",
    "    return stack\n",
    "print(get_ngrams(\"I am a string.\", 2))"
   ]
  },
  {
   "cell_type": "code",
   "execution_count": 77,
   "metadata": {
    "collapsed": false,
    "deletable": true,
    "editable": true
   },
   "outputs": [
    {
     "name": "stdout",
     "output_type": "stream",
     "text": [
      "[['I', 'am'], ['am', 'a'], ['a', 'string.']]\n"
     ]
    }
   ],
   "source": [
    "def recursive_ngram_extractor(n, x, ngrams=[]):\n",
    "    \n",
    "    if len(x) <= n:\n",
    "        ngrams.append(x)\n",
    "        return ngrams\n",
    "    else:\n",
    "        ngrams.append(x[:n])\n",
    "        return recursive_ngram_extractor(n, x[1:], ngrams)\n",
    "\n",
    "        \n",
    "print(recursive_ngram_extractor(2, \"I am a string.\".split()))\n"
   ]
  },
  {
   "cell_type": "markdown",
   "metadata": {
    "deletable": true,
    "editable": true
   },
   "source": [
    "## homework 1: even fibonacci numbers\n",
    "* By considering the terms in the Fibonacci sequence whose values do not exceed four million, find the sum of the even-valued terms.\n",
    "* The answer is 4613732."
   ]
  },
  {
   "cell_type": "markdown",
   "metadata": {
    "deletable": true,
    "editable": true
   },
   "source": [
    "## homework 2: GCD (challenging)\n",
    "* Write a Python program to find  the greatest common divisor (GCD) of two integers.\n",
    "* One way to find the GCD of two numbers Euclid’s algorithm: if r is the remainder when a is divided by b, then gcd(a, b) = gcd(b, r).\n",
    "* For the base case, we can use gcd(a, 0) = a.\n",
    "* GCD for this pair (0, 12) is 12; for the pair (12, 14) is 2."
   ]
  },
  {
   "cell_type": "markdown",
   "metadata": {
    "deletable": true,
    "editable": true
   },
   "source": [
    "## Exercise 7: power\n",
    "* Write a Python program to calculate the value of 'a' to the power 'b'"
   ]
  },
  {
   "cell_type": "markdown",
   "metadata": {
    "deletable": true,
    "editable": true
   },
   "source": [
    "## Exercise 8: Hamming distance"
   ]
  },
  {
   "cell_type": "markdown",
   "metadata": {
    "collapsed": false,
    "deletable": true,
    "editable": true
   },
   "source": [
    "### Exercise 11 \n",
    "* Get all permutations of a certain string. "
   ]
  },
  {
   "cell_type": "code",
   "execution_count": 32,
   "metadata": {
    "collapsed": false,
    "deletable": true,
    "editable": true
   },
   "outputs": [
    {
     "name": "stdout",
     "output_type": "stream",
     "text": [
      "['abcd', 'abdc', 'acbd', 'acdb', 'adbc', 'adcb', 'bacd', 'badc', 'bcad', 'bcda', 'bdac', 'bdca', 'cabd', 'cadb', 'cbad', 'cbda', 'cdab', 'cdba', 'dabc', 'dacb', 'dbac', 'dbca', 'dcab', 'dcba']"
     ]
    }
   ],
   "source": [
    "def get_permutations(s):        \n",
    "    if(len(s)==1): \n",
    "        return [s]\n",
    "    \n",
    "    result=[]\n",
    "    for i,v in enumerate(s):\n",
    "        for p in get_permutations(s[:i]+s[i+1:]):\n",
    "            result.append(v+p)\n",
    "        \n",
    "    return result\n",
    "\n",
    "get_permutations('abc')\n",
    "\n",
    "\"\"\"\n",
    "    for 0,a in \"abc\":\n",
    "        for p in get_permutations(s[:0]+s[1:]) == get_permutations(\"bc\"):\n",
    "            \"a\"+p\n",
    "            \n",
    "                        for 0,b in \"bc\":\n",
    "                            for p in get_permutations(s[:0]+s[1:]) == get_permutations(\"c\"):\n",
    "                                \"b\"+p\n",
    "                                \n",
    "                                                get_permutations(c) = [\"c\"]\n",
    "                                    \n",
    "                        for 1,c in \"bc\":\n",
    "                            for p in get_permutations(s[:1]+s[2:]) == get_permutations(\"b\"):\n",
    "                                \"c\"+p\n",
    "                                                get_permutations(\"b\") == [\"b\"]\n",
    "\n",
    "\"\"\"\n",
    "            \n"
   ]
  },
  {
   "cell_type": "code",
   "execution_count": 78,
   "metadata": {
    "collapsed": false,
    "deletable": true,
    "editable": true
   },
   "outputs": [
    {
     "name": "stdout",
     "output_type": "stream",
     "text": [
      "(0, 'John')\n",
      "(1, 'kissed')\n",
      "(2, 'Mary')\n"
     ]
    }
   ],
   "source": [
    "lst = [\"John\", \"kissed\", \"Mary\"]\n",
    "for i in enumerate(lst):\n",
    "    print(i)"
   ]
  },
  {
   "cell_type": "code",
   "execution_count": null,
   "metadata": {
    "collapsed": true,
    "deletable": true,
    "editable": true
   },
   "outputs": [],
   "source": []
  }
 ],
 "metadata": {
  "kernelspec": {
   "display_name": "Python 3",
   "language": "python",
   "name": "python3"
  },
  "language_info": {
   "codemirror_mode": {
    "name": "ipython",
    "version": 3
   },
   "file_extension": ".py",
   "mimetype": "text/x-python",
   "name": "python",
   "nbconvert_exporter": "python",
   "pygments_lexer": "ipython3",
   "version": "3.5.2"
  }
 },
 "nbformat": 4,
 "nbformat_minor": 2
}
