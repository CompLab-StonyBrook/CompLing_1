{
 "cells": [
  {
   "cell_type": "markdown",
   "metadata": {
    "deletable": true,
    "editable": true
   },
   "source": [
    "### Homework 1: print \"X\" instead of \"s\"\n",
    "* Suppose you are given a string s = \"a brown fox jumps over the lazy dogs\"\n",
    "* Write a program to print out this string:\n",
    "    - when the character is \"s\", print \"X\" instead.\n",
    "    - when the character is everything else, just print that character.\n",
    "    - Your output will be \"a brown fox jumpX over the lazy dogX\"."
   ]
  },
  {
   "cell_type": "code",
   "execution_count": 5,
   "metadata": {
    "collapsed": false,
    "deletable": true,
    "editable": true
   },
   "outputs": [
    {
     "name": "stdout",
     "output_type": "stream",
     "text": [
      "a brown fox jumpX over the lazy dogX\n"
     ]
    }
   ],
   "source": [
    "s = \"a brown fox jumps over the lazy dogs\"\n",
    "print(s.replace(\"s\", \"X\"))"
   ]
  },
  {
   "cell_type": "code",
   "execution_count": null,
   "metadata": {
    "collapsed": false,
    "deletable": true,
    "editable": true
   },
   "outputs": [],
   "source": [
    "s = \"a brown fox jumps over the lazy dogs\"\n",
    "for i in s:\n",
    "    if i == \"s\":\n",
    "        new_s = s.replace(i, \"X\")\n",
    "print(new_s)"
   ]
  },
  {
   "cell_type": "markdown",
   "metadata": {
    "deletable": true,
    "editable": true
   },
   "source": [
    "### Homework 2: factorial\n",
    "* Write a program which can compute the factorial of a given number.\n",
    "* Input: 5\n",
    "* Output: 120"
   ]
  },
  {
   "cell_type": "code",
   "execution_count": 6,
   "metadata": {
    "collapsed": false,
    "deletable": true,
    "editable": true
   },
   "outputs": [
    {
     "name": "stdout",
     "output_type": "stream",
     "text": [
      "120\n"
     ]
    }
   ],
   "source": [
    "import math\n",
    "result = math.factorial(5)\n",
    "print(result)"
   ]
  },
  {
   "cell_type": "code",
   "execution_count": 8,
   "metadata": {
    "collapsed": false,
    "deletable": true,
    "editable": true
   },
   "outputs": [
    {
     "name": "stdout",
     "output_type": "stream",
     "text": [
      "Give me a number: 10\n",
      "3628800\n"
     ]
    }
   ],
   "source": [
    "num = int(input(\"Give me a number: \"))\n",
    "fac = 1\n",
    "for n in range(1, num+1):\n",
    "    fac = fac*n # fac = 1*1; fac = 1*2; fac = 2*3; fac = 6*4; fac = 24*5\n",
    "print(fac)"
   ]
  },
  {
   "cell_type": "code",
   "execution_count": 10,
   "metadata": {
    "collapsed": false,
    "deletable": true,
    "editable": true
   },
   "outputs": [
    {
     "name": "stdout",
     "output_type": "stream",
     "text": [
      "Give me a number: 10\n",
      "3628800\n"
     ]
    }
   ],
   "source": [
    "counter = 1\n",
    "fac = 1\n",
    "num = int(input(\"Give me a number: \"))\n",
    "while counter<=num:\n",
    "    fac = fac*counter\n",
    "    counter+=1\n",
    "print(fac)"
   ]
  },
  {
   "cell_type": "markdown",
   "metadata": {
    "deletable": true,
    "editable": true
   },
   "source": [
    "### Homework 3: print certain numbers\n",
    "* Write a Python program that prints all the numbers from 0 to 10 except 5 and 10.\n",
    "* Input: all the numbers from 0 to 10\n",
    "* Output: 0, 1, 2, 3, 4, 6, 7, 8, 9"
   ]
  },
  {
   "cell_type": "code",
   "execution_count": 18,
   "metadata": {
    "collapsed": false,
    "deletable": true,
    "editable": true
   },
   "outputs": [
    {
     "name": "stdout",
     "output_type": "stream",
     "text": [
      "0 1 2 3 4 6 7 8 9 "
     ]
    }
   ],
   "source": [
    "for n in range(11):\n",
    "    if not n == 5 and not n == 10: # if not n == 5 or not n == 10 only needs to satisfy the left side of or\n",
    "        print(n, end=\" \")"
   ]
  },
  {
   "cell_type": "code",
   "execution_count": 17,
   "metadata": {
    "collapsed": false,
    "deletable": true,
    "editable": true
   },
   "outputs": [
    {
     "name": "stdout",
     "output_type": "stream",
     "text": [
      "0 1 2 3 4 6 7 8 9 "
     ]
    }
   ],
   "source": [
    "for n in range(11):\n",
    "    if n != 5 and n != 10:\n",
    "        print(n, end=\" \")"
   ]
  },
  {
   "cell_type": "code",
   "execution_count": 12,
   "metadata": {
    "collapsed": false,
    "deletable": true,
    "editable": true
   },
   "outputs": [
    {
     "name": "stdout",
     "output_type": "stream",
     "text": [
      "0 1 2 3 4 6 7 8 9 "
     ]
    }
   ],
   "source": [
    "for n in range(11):\n",
    "    if not (n == 5 or n == 10):\n",
    "        print(n, end=\" \")"
   ]
  },
  {
   "cell_type": "markdown",
   "metadata": {
    "deletable": true,
    "editable": true
   },
   "source": [
    "### Homework 4: sort\n",
    "* Write a program that accepts a comma separated sequence of words as input and prints the words in a comma-separated sequence after sorting them alphabetically.\n",
    "* Suppose the following input is supplied to the program: \"the, brown, fox, jumps, over, the, lazy, dog\"\n",
    "* Then, the output should be: \"brown, dog, fox, jumps, lazy, over, the, the\"\n",
    "* This homework does not need a loop. "
   ]
  },
  {
   "cell_type": "code",
   "execution_count": 30,
   "metadata": {
    "collapsed": false,
    "deletable": true,
    "editable": true
   },
   "outputs": [
    {
     "name": "stdout",
     "output_type": "stream",
     "text": [
      "['the', 'brown', 'fox', 'jumps', 'over', 'the', 'lazy', 'dog']\n",
      "brown, dog, fox, jumps, lazy, over, the, the\n"
     ]
    }
   ],
   "source": [
    "s = \"the, brown, fox, jumps, over, the, lazy, dog\"\n",
    "lst = s.split(\", \")\n",
    "print(lst)\n",
    "print(\", \".join(sorted(lst)))\n",
    "# \"string\".join(list)"
   ]
  },
  {
   "cell_type": "markdown",
   "metadata": {
    "deletable": true,
    "editable": true
   },
   "source": [
    "### Homework 5: leap year\n",
    "* Write a python program to decide if a year is a leap year.\n",
    "* A leap year is exactly divisible by 4 except for century years (years ending with 00). The century year is a leap year only if it is perfectly divisible by 400. For example,\n",
    "    - 2017 is not a leap year\n",
    "    - 1900 is not a leap year\n",
    "    - 2012 is a leap year\n",
    "    - 2000 is a leap year\n",
    "    \n",
    "* This homework also does not need a loop. Just conditionals."
   ]
  },
  {
   "cell_type": "code",
   "execution_count": 41,
   "metadata": {
    "collapsed": false,
    "deletable": true,
    "editable": true
   },
   "outputs": [
    {
     "name": "stdout",
     "output_type": "stream",
     "text": [
      "Give me a year: 2000\n",
      "leap year!\n"
     ]
    }
   ],
   "source": [
    "year = int(input(\"Give me a year: \"))\n",
    "if year % 4 == 0 and year % 100 !=0:\n",
    "    print(\"Leap year!\")\n",
    "elif year % 400 == 0:\n",
    "    print(\"leap year!\")\n",
    "else:\n",
    "    print(\"Not a leap year.\")"
   ]
  },
  {
   "cell_type": "code",
   "execution_count": null,
   "metadata": {
    "collapsed": false,
    "deletable": true,
    "editable": true
   },
   "outputs": [],
   "source": [
    "counter = 0\n",
    "while counter<5:\n",
    "    year = int(input())\n",
    "    \n",
    "    if year%4 == 0 and year%100!=0:\n",
    "        print(\"You have a leap year.\")\n",
    "        \n",
    "    elif year%400 == 0:\n",
    "        print(\"You have a leap year.\")\n",
    "        \n",
    "    else:\n",
    "        print(\"This is not a leap year.\")\n",
    "\n",
    "    counter+=1"
   ]
  },
  {
   "cell_type": "markdown",
   "metadata": {
    "deletable": true,
    "editable": true
   },
   "source": [
    "### Exercise 1: Revisit Palindrome"
   ]
  },
  {
   "cell_type": "code",
   "execution_count": 43,
   "metadata": {
    "collapsed": false,
    "deletable": true,
    "editable": true
   },
   "outputs": [
    {
     "name": "stdout",
     "output_type": "stream",
     "text": [
      "False\n",
      "False\n"
     ]
    }
   ],
   "source": [
    "# This method returns true if all characters in the string are alphanumeric and there is at least one character, \n",
    "# false otherwise.\n",
    "s = \"this is string example\"\n",
    "print (s.isalnum()) # return False\n",
    "s1 = \"string\"\n",
    "print (s1.isalnum()) # return True"
   ]
  },
  {
   "cell_type": "code",
   "execution_count": 56,
   "metadata": {
    "collapsed": false,
    "deletable": true,
    "editable": true
   },
   "outputs": [
    {
     "name": "stdout",
     "output_type": "stream",
     "text": [
      "List :  ['xyz', 'abc', 'zara', 'xyz', 123]\n"
     ]
    }
   ],
   "source": [
    "aList = [123, 'xyz', 'zara', 'abc', 'xyz'];\n",
    "\n",
    "aList.reverse();\n",
    "print (\"List : \", aList)"
   ]
  },
  {
   "cell_type": "code",
   "execution_count": 67,
   "metadata": {
    "collapsed": false,
    "deletable": true,
    "editable": true
   },
   "outputs": [
    {
     "name": "stdout",
     "output_type": "stream",
     "text": [
      "P!\n"
     ]
    }
   ],
   "source": [
    "s = \"A nut for a jar of tuna.\"\n",
    "s = s.lower()\n",
    "stack = []\n",
    "for i in s:\n",
    "    if i.isalnum():\n",
    "        stack.append(i)\n",
    "        \n",
    "#stack = [i for i in s if i.isalnum()] #list comprehension\n",
    "\n",
    "stack1 = stack[:]\n",
    "stack1.reverse()\n",
    "if stack == stack1:\n",
    "    print(\"P!\")\n",
    "else:\n",
    "    print(\"NP!\")\n",
    "        "
   ]
  },
  {
   "cell_type": "code",
   "execution_count": 44,
   "metadata": {
    "collapsed": false,
    "deletable": true,
    "editable": true
   },
   "outputs": [
    {
     "name": "stdout",
     "output_type": "stream",
     "text": [
      "Found a palindrome\n"
     ]
    }
   ],
   "source": [
    "s = \"A nut for a jar of tuna.\"\n",
    "lst = [i for i in s if i.isalnum()]\n",
    "new_s = \"\".join(lst).lower()\n",
    "if new_s[::-1] == new_s:\n",
    "    print(\"Found a palindrome\")\n",
    "else:\n",
    "    print(\"Not a palindrome\")"
   ]
  },
  {
   "cell_type": "markdown",
   "metadata": {
    "deletable": true,
    "editable": true
   },
   "source": [
    "### HW 1: Pangrams\n",
    "* Write a Python function to check whether a string is a pangram or not.\n",
    "* Note : Pangrams are words or sentences containing every letter of the alphabet at least once.\n",
    "     - For example : \"The quick brown fox jumps over the lazy dog\""
   ]
  },
  {
   "cell_type": "markdown",
   "metadata": {
    "deletable": true,
    "editable": true
   },
   "source": [
    "### HW 2: Two-dimensional array\n",
    "* Write a Python program which takes two digits m (row) and n (column) as input and generates a two-dimensional array.\n",
    "* The element value in the i-th row and j-th column of the array should be i\\*j. \n",
    "* Note :\n",
    "* i = 0,1.., m-1 \n",
    "* j = 0,1, n-1.\n",
    "\n",
    "* Test Data : Rows = 3, Columns = 4 \n",
    "* Expected Result : [[0, 0, 0, 0], [0, 1, 2, 3], [0, 2, 4, 6]]"
   ]
  },
  {
   "cell_type": "code",
   "execution_count": null,
   "metadata": {
    "collapsed": true
   },
   "outputs": [],
   "source": []
  }
 ],
 "metadata": {
  "kernelspec": {
   "display_name": "Python 3",
   "language": "python",
   "name": "python3"
  },
  "language_info": {
   "codemirror_mode": {
    "name": "ipython",
    "version": 3
   },
   "file_extension": ".py",
   "mimetype": "text/x-python",
   "name": "python",
   "nbconvert_exporter": "python",
   "pygments_lexer": "ipython3",
   "version": "3.5.2"
  }
 },
 "nbformat": 4,
 "nbformat_minor": 2
}
