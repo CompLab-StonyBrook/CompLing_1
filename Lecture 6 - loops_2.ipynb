{
 "cells": [
  {
   "cell_type": "markdown",
   "metadata": {
    "deletable": true,
    "editable": true
   },
   "source": [
    "## Homework 1: Print out all items in a list using a while loop\n",
    "* Suppose that you've created a list of file names: \n",
    "* filenames = [\"MA.wav\", \"EB.wav\", \"JD.wav\", \"MH.wav\"]\n",
    "* How to print out all the file names in the list using a while loop?\n"
   ]
  },
  {
   "cell_type": "code",
   "execution_count": null,
   "metadata": {
    "collapsed": false,
    "deletable": true,
    "editable": true
   },
   "outputs": [],
   "source": [
    "filenames = [\"MA.wav\", \"EB.wav\", \"JD.wav\", \"MH.wav\"]\n",
    "i = 0\n",
    "while i < len(filenames): # a while loop condition checks the boolean value: True or False\n",
    "    print (filenames[i])\n",
    "    i += 1  "
   ]
  },
  {
   "cell_type": "code",
   "execution_count": null,
   "metadata": {
    "collapsed": false,
    "deletable": true,
    "editable": true
   },
   "outputs": [],
   "source": [
    "filenames = [\"MA.wav\", \"EB.wav\", \"JD.wav\", \"MH.wav\"]\n",
    "while filenames: # while the list filenames has at least one item in it, it is true. \n",
    "    #new_filenames = filenames.reverse()\n",
    "    #print(new_filenames)\n",
    "    print(filenames.pop())"
   ]
  },
  {
   "cell_type": "markdown",
   "metadata": {
    "deletable": true,
    "editable": true
   },
   "source": [
    "## Homework 2:  Run a program until condition satisfied\n",
    "\n",
    "* Suppose you want the user to give you a positive integer\n",
    "* Write a program that repeats the request until the user actually enters a positive integer"
   ]
  },
  {
   "cell_type": "code",
   "execution_count": null,
   "metadata": {
    "collapsed": false,
    "deletable": true,
    "editable": true
   },
   "outputs": [],
   "source": [
    "while True:\n",
    "    num = int(input(\"Please give me an integer: \"))\n",
    "    if num > 0:\n",
    "        print (\"The integer you gave me is: \", num)\n",
    "        break\n",
    "    else:\n",
    "        print(\"Try again!\")"
   ]
  },
  {
   "cell_type": "markdown",
   "metadata": {
    "deletable": true,
    "editable": true
   },
   "source": [
    "## Homework 3: Use a while loop to calculate value of a formula\n",
    "* Suppose we have a formula $x_n = 4n^2 + 5n +1$\n",
    "* Write a program to calculate the value of $x_n$ for n = 0, 1, 2, 3, ..., 10 "
   ]
  },
  {
   "cell_type": "code",
   "execution_count": null,
   "metadata": {
    "collapsed": false,
    "deletable": true,
    "editable": true
   },
   "outputs": [],
   "source": [
    "n = 0\n",
    "while n in range(11):\n",
    "    print(4*n**2 + 5*n +1)\n",
    "    n = n+1"
   ]
  },
  {
   "cell_type": "markdown",
   "metadata": {
    "deletable": true,
    "editable": true
   },
   "source": [
    "## Homework 4: Add Up the Numbers from 1 to 100\n",
    "* Suppose you are asked to add the numbers 1, 2, 3, 4, …, 100 up. \n",
    "* Write a program to calculate the results"
   ]
  },
  {
   "cell_type": "code",
   "execution_count": null,
   "metadata": {
    "collapsed": false,
    "deletable": true,
    "editable": true
   },
   "outputs": [],
   "source": [
    "# 1+2+3+4+5+6+...+100\n",
    "# 1\n",
    "# 2 1+2\n",
    "# 3 !+2+3\n",
    "n = 1\n",
    "res = 0\n",
    "while n <= 100:\n",
    "    res = n + res\n",
    "    n = n+1\n",
    "print(res)"
   ]
  },
  {
   "cell_type": "markdown",
   "metadata": {
    "deletable": true,
    "editable": true
   },
   "source": [
    "## Homework 5: print some items in a list \n",
    "* Suppose we wanted to print the 1st, 3rd, 5th, 7th, etc. items in a list. \n",
    "* Write a program to accomplish this.\n",
    "* For example, you list can be [1, 2, 3, 4, 5, 6, 7, 8, 9, 10]. You will print out 1, 3, 5, 7, 9."
   ]
  },
  {
   "cell_type": "code",
   "execution_count": null,
   "metadata": {
    "collapsed": false,
    "deletable": true,
    "editable": true
   },
   "outputs": [],
   "source": [
    "lst = [1, 2, 3, 4, 5, 6, 7, 8, 9, 10]\n",
    "i = 2\n",
    "while i <= len(lst):\n",
    "    print(i)\n",
    "    i += 2"
   ]
  },
  {
   "cell_type": "markdown",
   "metadata": {
    "deletable": true,
    "editable": true
   },
   "source": [
    "## Homework 6 (challenging): Use a while loop to print out a tree\n",
    "* Input: *\n",
    "\n",
    "* Exact desired output:\n",
    "                                *\n",
    "                               ***\n",
    "                              *****\n",
    "                             *******\n",
    "                            *********\n",
    "                               ***\n",
    "                               ***\n",
    "\n",
    "* Hint: \n",
    "    - each line has several spaces before the star symbol.  \n",
    "    - for the first five lines, each line has two more stars than the previous line\n",
    "    - We know if/else decision structure. There is also a while/else strucutre, working in a very similar way. Maybe we can print out the first five lines using while, then we print the rest 2 lines using else."
   ]
  },
  {
   "cell_type": "code",
   "execution_count": null,
   "metadata": {
    "collapsed": false,
    "deletable": true,
    "editable": true
   },
   "outputs": [],
   "source": [
    "star = 1\n",
    "tree = \"***************************\"\n",
    "stub = 4\n",
    "while star<=len(tree):\n",
    "    line = int((len(tree)-star)/2)*\" \" + star*\"*\"\n",
    "    star +=2\n",
    "    print(line)\n",
    "else:\n",
    "    n = 0\n",
    "    while n < stub:\n",
    "        print(\" \"*(len(tree)//3) + \"*\"*(len(tree)//3)) \n",
    "        n += 1"
   ]
  },
  {
   "cell_type": "code",
   "execution_count": null,
   "metadata": {
    "collapsed": false,
    "deletable": true,
    "editable": true
   },
   "outputs": [],
   "source": [
    "print(7//3) # // is the integer division, and / is division, which gives you a float number"
   ]
  },
  {
   "cell_type": "markdown",
   "metadata": {
    "deletable": true,
    "editable": true
   },
   "source": [
    "## Review: conditionals\n",
    "* Write a Python program to check if a triangle is valid"
   ]
  },
  {
   "cell_type": "code",
   "execution_count": null,
   "metadata": {
    "collapsed": false,
    "deletable": true,
    "editable": true
   },
   "outputs": [],
   "source": [
    "a = 3\n",
    "b = 4\n",
    "c = 5\n",
    "if a + b > c and a + c > b and b + c > a:\n",
    "    print(\"This is a valid triangle.\")\n",
    "else:\n",
    "    print(\"Not a valid triangle\")"
   ]
  },
  {
   "cell_type": "markdown",
   "metadata": {
    "deletable": true,
    "editable": true
   },
   "source": [
    "# Today we are going to talk about for loops in Python\n",
    "* A for loop is designed for stepping through the items in a sequence and running a block of code for each item."
   ]
  },
  {
   "cell_type": "markdown",
   "metadata": {
    "deletable": true,
    "editable": true
   },
   "source": [
    "#### Syntax"
   ]
  },
  {
   "cell_type": "code",
   "execution_count": null,
   "metadata": {
    "collapsed": false,
    "deletable": true,
    "editable": true
   },
   "outputs": [],
   "source": [
    "#for [variable] in [sequence]:\n",
    "#\t[statements]\n",
    "    \n",
    "lst = [\"the\", \"brown\", \"fox\"]\n",
    "for i in lst:\n",
    "    print(i)"
   ]
  },
  {
   "cell_type": "markdown",
   "metadata": {
    "deletable": true,
    "editable": true
   },
   "source": [
    "#### Semantics\n",
    "* It assign the items in the sequence to the variable one by one and executes the statements in the loop body for each variable.\n",
    "* Variable indicates the current item; it is temporary used only in the loop.\n"
   ]
  },
  {
   "cell_type": "markdown",
   "metadata": {
    "deletable": true,
    "editable": true
   },
   "source": [
    "### Example 1:\n",
    "Suppose you are give a list of filenames, print the items in the list one by one using a for loop."
   ]
  },
  {
   "cell_type": "code",
   "execution_count": null,
   "metadata": {
    "collapsed": false,
    "deletable": true,
    "editable": true
   },
   "outputs": [],
   "source": [
    "filenames = [\"MA.wav\", \"EB.wav\", \"JD.wav\", \"MH.wav\"]\n",
    "for i in filenames:\n",
    "    print(i)\n",
    "string = \"string\"\n",
    "for i in string:\n",
    "    print(i)\n",
    "#set1 = set(1, 2, 3, 4, 5, 6)\n",
    "#for i in set1:\n",
    "#    print(i)\n",
    "\n",
    "\n",
    "# we can access to an element in an ordered data type using its index, so if we have a lst = [\"the\", \"brown\", \"fox\"], \n",
    "# we can access to \"the\" by typing lst[0].\n",
    "# But elements in an unordered data type cannot be accessed by their indices. For example, this is wrong:\n",
    "# set = {\"1\", \"2\", \"3\"}, print(set[0])\n",
    "\n",
    "set1 = set(\"123\")\n",
    "lst = list(\"string\")\n",
    "print(set1)\n",
    "#print(set1[1])\n",
    "\n",
    "set2 = {1, 2, 3}\n",
    "print(set2)\n",
    "print(set1 == set2)\n",
    "\n",
    "lst = [1, 1, 2, 2, 3]\n",
    "set3 = set(lst)\n",
    "print(set3)"
   ]
  },
  {
   "cell_type": "markdown",
   "metadata": {
    "deletable": true,
    "editable": true
   },
   "source": [
    "### Example 2:\n",
    "* Think about this question: how to print out \"Hello\" a hundred times?\n",
    "* Use a while loop\n",
    "* Use a for loop"
   ]
  },
  {
   "cell_type": "code",
   "execution_count": null,
   "metadata": {
    "collapsed": false,
    "deletable": true,
    "editable": true
   },
   "outputs": [],
   "source": [
    "print(\"Hello \"*100)"
   ]
  },
  {
   "cell_type": "code",
   "execution_count": null,
   "metadata": {
    "collapsed": false,
    "deletable": true,
    "editable": true
   },
   "outputs": [],
   "source": [
    "for n in range(100):\n",
    "    print(\"Hello\")"
   ]
  },
  {
   "cell_type": "code",
   "execution_count": null,
   "metadata": {
    "collapsed": true,
    "deletable": true,
    "editable": true
   },
   "outputs": [],
   "source": [
    "n = 0\n",
    "while n<100:\n",
    "    print(\"Hello\")\n",
    "    n += 1"
   ]
  },
  {
   "cell_type": "markdown",
   "metadata": {
    "deletable": true,
    "editable": true
   },
   "source": [
    "### Homework:\n",
    "* Use a for loop to:\n",
    "    - Print out every letter in a string\n",
    "    - Print out every other letter in a string (Hint: use range())"
   ]
  },
  {
   "cell_type": "code",
   "execution_count": null,
   "metadata": {
    "collapsed": true,
    "deletable": true,
    "editable": true
   },
   "outputs": [],
   "source": []
  }
 ],
 "metadata": {
  "kernelspec": {
   "display_name": "Python 3",
   "language": "python",
   "name": "python3"
  },
  "language_info": {
   "codemirror_mode": {
    "name": "ipython",
    "version": 3
   },
   "file_extension": ".py",
   "mimetype": "text/x-python",
   "name": "python",
   "nbconvert_exporter": "python",
   "pygments_lexer": "ipython3",
   "version": "3.5.2"
  }
 },
 "nbformat": 4,
 "nbformat_minor": 2
}
