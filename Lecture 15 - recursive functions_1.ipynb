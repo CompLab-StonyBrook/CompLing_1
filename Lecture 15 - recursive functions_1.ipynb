{
 "cells": [
  {
   "cell_type": "markdown",
   "metadata": {
    "deletable": true,
    "editable": true
   },
   "source": [
    "## Recursive functions\n",
    "* A recursive function calls itself one or more times in its body. \n",
    "* Usually, it returns the return value of this function call.\n",
    "\n",
    "* Termination condition:\n",
    "    - A recursive function has to terminate. \n",
    "    - A recursive function terminates, if with every recursive call the solution of the problem is downsized and moves towards a base case. \n",
    "    - A base case is a case, where the problem can be solved without further recursion. A recursion can end up in an infinite loop, if the base case is not met in the calls. \n",
    "* In other words: recursion is a method where the solution to a problem is based on solving smaller instances of the same problem. "
   ]
  },
  {
   "cell_type": "markdown",
   "metadata": {
    "deletable": true,
    "editable": true
   },
   "source": [
    "## An example of recursion in math: factorial\n",
    "\n",
    "Example: \n",
    "\n",
    "4! = 4 * 3!\n",
    "\n",
    "3! = 3 * 2!\n",
    "\n",
    "2! = 2 * 1 \n",
    "\n",
    "Replacing the calculated values gives us the following expression \n",
    "\n",
    "4! = 4 \\* 3 \\* 2 \\* 1 \n"
   ]
  },
  {
   "cell_type": "markdown",
   "metadata": {
    "deletable": true,
    "editable": true
   },
   "source": [
    "## Factorial implemented in Python:"
   ]
  },
  {
   "cell_type": "code",
   "execution_count": 6,
   "metadata": {
    "collapsed": false,
    "deletable": true,
    "editable": true
   },
   "outputs": [
    {
     "data": {
      "text/plain": [
       "120"
      ]
     },
     "execution_count": 6,
     "metadata": {},
     "output_type": "execute_result"
    }
   ],
   "source": [
    "def fac_no_recursive1(n):\n",
    "    res = 1\n",
    "    i = 1\n",
    "    while i < n+1:\n",
    "        res = res*i\n",
    "        i+=1\n",
    "    return res\n",
    "fac_no_recursive1(5)"
   ]
  },
  {
   "cell_type": "code",
   "execution_count": 1,
   "metadata": {
    "collapsed": false,
    "deletable": true,
    "editable": true
   },
   "outputs": [
    {
     "data": {
      "text/plain": [
       "120"
      ]
     },
     "execution_count": 1,
     "metadata": {},
     "output_type": "execute_result"
    }
   ],
   "source": [
    "def fac_no_recursive(n):\n",
    "    res = 1\n",
    "    for n in range(1, n+1):\n",
    "        res *= n\n",
    "    return res\n",
    "fac_no_recursive(5)"
   ]
  },
  {
   "cell_type": "code",
   "execution_count": null,
   "metadata": {
    "collapsed": false,
    "deletable": true,
    "editable": true
   },
   "outputs": [],
   "source": [
    "def fac(n):\n",
    "    if n == 1:\n",
    "        return 1\n",
    "    else:\n",
    "        return (n * fac(n-1))\n",
    "print(fac(100))"
   ]
  },
  {
   "cell_type": "markdown",
   "metadata": {
    "deletable": true,
    "editable": true
   },
   "source": [
    "## Homework 1: sum of n integers\n",
    "* Write a recursive function that returns the sum of the first n integers. "
   ]
  },
  {
   "cell_type": "code",
   "execution_count": 1,
   "metadata": {
    "collapsed": false,
    "deletable": true,
    "editable": true
   },
   "outputs": [
    {
     "name": "stdout",
     "output_type": "stream",
     "text": [
      "5050\n"
     ]
    }
   ],
   "source": [
    "def get_sum_N(n):\n",
    "    if n == 0:\n",
    "        return 0\n",
    "    else:\n",
    "        return n+get_sum_N(n-1)\n",
    "print(get_sum_N(100))\n",
    "    "
   ]
  },
  {
   "cell_type": "markdown",
   "metadata": {
    "deletable": true,
    "editable": true
   },
   "source": [
    "## Exercise: multiples of 3\n",
    "* Think of a recusive version of the function f(n) = 3 * n, i.e. the multiples of 3"
   ]
  },
  {
   "cell_type": "code",
   "execution_count": null,
   "metadata": {
    "collapsed": false,
    "deletable": true,
    "editable": true
   },
   "outputs": [],
   "source": [
    "def get_multiples_3(n):\n",
    "    if n == 0:\n",
    "        return 0\n",
    "    else:\n",
    "        return get_multiples_3(n-1) + 3\n",
    "get_multiples_3(5)"
   ]
  },
  {
   "cell_type": "markdown",
   "metadata": {
    "deletable": true,
    "editable": true
   },
   "source": [
    "## Homework 2: harmonic sum\n",
    "* Write a Python program to calculate the harmonic sum of n-1. \n",
    "* Note: The harmonic sum is the sum of reciprocals of the positive integers. \n",
    "* Example : \n",
    "* 1/2 + 1/3 + 1/4 + 1/5 + ..."
   ]
  },
  {
   "cell_type": "code",
   "execution_count": 4,
   "metadata": {
    "collapsed": false,
    "deletable": true,
    "editable": true
   },
   "outputs": [
    {
     "data": {
      "text/plain": [
       "0.8333333333333333"
      ]
     },
     "execution_count": 4,
     "metadata": {},
     "output_type": "execute_result"
    }
   ],
   "source": [
    "def get_harmonic_sum(n):\n",
    "    if n == 2:\n",
    "        return 1/2\n",
    "    else:\n",
    "        return 1/n + get_harmonic_sum(n-1)\n",
    "    \n",
    "get_harmonic_sum(3)"
   ]
  },
  {
   "cell_type": "code",
   "execution_count": null,
   "metadata": {
    "collapsed": true
   },
   "outputs": [],
   "source": []
  }
 ],
 "metadata": {
  "kernelspec": {
   "display_name": "Python 3",
   "language": "python",
   "name": "python3"
  },
  "language_info": {
   "codemirror_mode": {
    "name": "ipython",
    "version": 3
   },
   "file_extension": ".py",
   "mimetype": "text/x-python",
   "name": "python",
   "nbconvert_exporter": "python",
   "pygments_lexer": "ipython3",
   "version": "3.5.2"
  }
 },
 "nbformat": 4,
 "nbformat_minor": 2
}
