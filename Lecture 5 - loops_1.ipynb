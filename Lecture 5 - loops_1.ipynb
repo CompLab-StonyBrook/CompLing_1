{
 "cells": [
  {
   "cell_type": "markdown",
   "metadata": {
    "deletable": true,
    "editable": true
   },
   "source": [
    "# Mini-homework: palindrome\n",
    "* Ask the user for a string and print out whether this string is a palindrome or not. (A palindrome is a string that reads the same forwards and backwards.)"
   ]
  },
  {
   "cell_type": "code",
   "execution_count": null,
   "metadata": {
    "collapsed": false,
    "deletable": true,
    "editable": true
   },
   "outputs": [],
   "source": [
    "ltr = input(\"Please give me a word: \")\n",
    "if ltr.lower() == ltr[::-1].lower():\n",
    "    print(\"You got a palindrome!\")\n",
    "else:\n",
    "    print(\"Not a palindrome!\")"
   ]
  },
  {
   "cell_type": "markdown",
   "metadata": {
    "deletable": true,
    "editable": true
   },
   "source": [
    "* To check if a sentence (including punctuation) is a palindrome"
   ]
  },
  {
   "cell_type": "code",
   "execution_count": null,
   "metadata": {
    "collapsed": false,
    "deletable": true,
    "editable": true
   },
   "outputs": [],
   "source": [
    "import string\n",
    "s = \"Doc, Note: I Dissent. A Fast Never Prevents A Fatness. I Diet On Cod.\"\n",
    "exclude = set(string.punctuation)\n",
    "s = ''.join(ch for ch in s if ch not in exclude)\n",
    "s = s.replace(\" \", \"\")\n",
    "s = s.lower()\n",
    "if s == s[::-1]:\n",
    "    print(\"Palindrome!\")\n",
    "else:\n",
    "    print(\"Not a palindrome!\")\n",
    "\n",
    "# s[:] # creates a copy\n",
    "# s[::-1] # reverse a string"
   ]
  },
  {
   "cell_type": "markdown",
   "metadata": {
    "deletable": true,
    "editable": true
   },
   "source": [
    "# Review exercise 1: even vs. odd\n",
    "Ask the user for a number. Depending on whether the number is even or odd, print out an appropriate message to the user.\n",
    "\n",
    "Hint: how does an even / odd number react differently when divided by 2? \n",
    "* % to calculate the modulo of a division"
   ]
  },
  {
   "cell_type": "code",
   "execution_count": null,
   "metadata": {
    "collapsed": false,
    "deletable": true,
    "editable": true
   },
   "outputs": [],
   "source": [
    "n = int(input(\"Please give me a number: \"))\n",
    "if n % 2 != 0: #!= means not equal to, or here you can also use \"if n%2 > 0:\"\n",
    "    print (\"You have an odd number!\")\n",
    "else:\n",
    "    print(\"You have an even number!\")"
   ]
  },
  {
   "cell_type": "markdown",
   "metadata": {
    "deletable": true,
    "editable": true
   },
   "source": [
    "# Review exercise 2: get gerunds\n",
    "Write a Python program to get the gerund form of a verb from a given verb where \"ing\" has been added to the end. If the given verb already ends with \"ing\", then print the string unchanged. Else print “ing” concatenated with string."
   ]
  },
  {
   "cell_type": "code",
   "execution_count": null,
   "metadata": {
    "collapsed": false,
    "deletable": true,
    "editable": true
   },
   "outputs": [],
   "source": [
    "verb = input(\"Please give me a string: \")\n",
    "if verb[-3:] == \"ing\":\n",
    "    print (verb)\n",
    "else:\n",
    "    print(verb + \"ing\")"
   ]
  },
  {
   "cell_type": "markdown",
   "metadata": {
    "deletable": true,
    "editable": true
   },
   "source": [
    "# Loops\n",
    "Python supplies two different kinds of loops: the while loop and the for loop"
   ]
  },
  {
   "cell_type": "markdown",
   "metadata": {
    "deletable": true,
    "editable": true
   },
   "source": [
    "## while loop\n",
    "* Semantics\n",
    "    - It repeatedly executes the statements in the loop as long as the condition remains true.\n",
    "    - The condition is a Boolean expression.\n",
    "    \n",
    "* More specifically...\n",
    "    - Most loops contain a counter or more generally variables, whose value <span style=\"color:blue\">*updates*</span> in the course of calculation. \n",
    "    - These variables have to be <span style=\"color:blue\">*initialized*</span> before the loop is started. \n",
    "    - They will also be evaluated before the code execution.\n",
    "        - If the condition evaluates to False, the while loop is finished. \n",
    "        - If the condition evaluates to True, the while loop body gets executed.\n",
    "    - After the body is finished, the condition will be evaluated again. The body of the loop will be executed as long as the condition yields True."
   ]
  },
  {
   "cell_type": "code",
   "execution_count": null,
   "metadata": {
    "collapsed": true,
    "deletable": true,
    "editable": true
   },
   "outputs": [],
   "source": [
    "# syntax\n",
    "while [condition]:\n",
    "    [statement]"
   ]
  },
  {
   "cell_type": "code",
   "execution_count": null,
   "metadata": {
    "collapsed": false,
    "deletable": true,
    "editable": true
   },
   "outputs": [],
   "source": [
    "n = 1\n",
    "while n < 3:\n",
    "    print(\"success!\")\n",
    "    n = n+1"
   ]
  },
  {
   "cell_type": "markdown",
   "metadata": {
    "deletable": true,
    "editable": true
   },
   "source": [
    "### Example 1: components of a while loop"
   ]
  },
  {
   "cell_type": "code",
   "execution_count": null,
   "metadata": {
    "collapsed": false,
    "deletable": true,
    "editable": true
   },
   "outputs": [],
   "source": [
    "x = 1 # initialize the value of a counter\n",
    "while x <= 3: # condition\n",
    "    print(x) # body\n",
    "    x += 1 # update the value of the counter"
   ]
  },
  {
   "cell_type": "markdown",
   "metadata": {
    "deletable": true,
    "editable": true
   },
   "source": [
    "* What if we do not update the value of our counter above?\n",
    "* The body part of the code will be executed for infinite times."
   ]
  },
  {
   "cell_type": "markdown",
   "metadata": {
    "deletable": true,
    "editable": true
   },
   "source": [
    "### Example 2: an interactive user interface\n",
    "In the last class, we implemented a simple conditional structure to ask the user for the right code to gain access. However, we only gave the poor user one chance to put in the code. What if our user knows the code but typed too carelessly? What if he has several options and wants to try them out one by one? We need to find a way to execute our code multiple times."
   ]
  },
  {
   "cell_type": "markdown",
   "metadata": {
    "deletable": true,
    "editable": true
   },
   "source": [
    "#### Option 1: three times\n",
    "* We want to give each user 3 trys, to handle their clumsiness.\n",
    "* How do we restrict the number of try times using a while loop?\n",
    "    - an initialized counter\n",
    "    - a condition\n",
    "    - a body, in which the counter is updated. \n",
    "        - what to show when the condition is True?\n",
    "        - what about when the condition is False?"
   ]
  },
  {
   "cell_type": "code",
   "execution_count": null,
   "metadata": {
    "collapsed": false,
    "deletable": true,
    "editable": true
   },
   "outputs": [],
   "source": [
    "n = 1\n",
    "while n <= 3:\n",
    "    passcode = input(\"Give me the passcode: \")\n",
    "    if passcode == \"Open Sesame\":\n",
    "        print(\"Sucess!\")\n",
    "    else:\n",
    "        print(\"Try again. The number of chance you have is \" + str(3-n))\n",
    "    n += 1 # much more efficient in runtime than n = n+1"
   ]
  },
  {
   "cell_type": "markdown",
   "metadata": {
    "deletable": true,
    "editable": true
   },
   "source": [
    "#### Option 2: infinite loop\n",
    "* But we are feeling much more generous now: the user will be allowed to type in code for as many times as he wants.\n",
    "* What we need is: an infinite loop"
   ]
  },
  {
   "cell_type": "markdown",
   "metadata": {
    "deletable": true,
    "editable": true
   },
   "source": [
    "* Two noticeable things here:\n",
    "    - <span style=\"color:green\">break</span> means to exit the enclosing loop.\n",
    "    - <span style=\"color:green\">while True</span> means an intended infinite loop|"
   ]
  },
  {
   "cell_type": "code",
   "execution_count": null,
   "metadata": {
    "collapsed": false,
    "deletable": true,
    "editable": true
   },
   "outputs": [],
   "source": [
    "while True:\n",
    "    passcode = input(\"Say the right thing and you shall pass! \")\n",
    "    if passcode == \"Open Sesame\":\n",
    "        print(\"Now you may proceed!\")\n",
    "        break\n",
    "    else:\n",
    "        continue\n",
    "        print(\"Try again!\")"
   ]
  },
  {
   "cell_type": "markdown",
   "metadata": {
    "deletable": true,
    "editable": true
   },
   "source": [
    "* The <span style=\"color:green\">continue</span> statement in Python returns the control to the beginning of the while loop\n",
    "* It also rejects all the remaining statements in the current iteration of the loop and moves the control back to the top of the loop. See the altered example below:"
   ]
  },
  {
   "cell_type": "code",
   "execution_count": null,
   "metadata": {
    "collapsed": false,
    "deletable": true,
    "editable": true
   },
   "outputs": [],
   "source": [
    "while True:\n",
    "    passcode = input(\"Say the right thing and you shall pass! \")\n",
    "    if passcode == \"Open Sesame\":\n",
    "        print(\"Now you may proceed!\")\n",
    "        break\n",
    "    if passcode == \"open sesame\":\n",
    "        print(\"Hint: pay attention to your letter case!\")\n",
    "        continue\n",
    "    if passcode == \"open sesame\":\n",
    "        print(\"Try again!\")\n",
    "        "
   ]
  },
  {
   "cell_type": "markdown",
   "metadata": {
    "deletable": true,
    "editable": true
   },
   "source": [
    "## Homework 1: Print out all items in a list using a while loop\n",
    "* Suppose that you've created a list of file names: \n",
    "* filenames = [\"MA.wav\", \"EB.wav\", \"JD.wav\", \"MH.wav\"]\n",
    "* How to print out all the file names in the list using a while loop?\n"
   ]
  },
  {
   "cell_type": "markdown",
   "metadata": {
    "deletable": true,
    "editable": true
   },
   "source": [
    "## Homework 2:  Run a program until condition satisfied\n",
    "\n",
    "* Suppose you want the user to give you a positive integer\n",
    "* Write a program that repeats the request until the user actually enters a positive integer"
   ]
  },
  {
   "cell_type": "markdown",
   "metadata": {
    "deletable": true,
    "editable": true
   },
   "source": [
    "## Homework 3: Use a while loop to calculate value of a formula\n",
    "* Suppose we have a formula $x_n = 4n^2 + 5n +1$\n",
    "* Write a program to calculate the value of $x_n$ for n = 0, 1, 2, 3, ..., 10 "
   ]
  },
  {
   "cell_type": "markdown",
   "metadata": {
    "deletable": true,
    "editable": true
   },
   "source": [
    "## Homework 4: Add Up the Numbers from 1 to 100\n",
    "* Suppose you are asked to add the numbers 1, 2, 3, 4, …, 100 up. \n",
    "* Write a program to calculate the results"
   ]
  },
  {
   "cell_type": "code",
   "execution_count": 1,
   "metadata": {
    "collapsed": false
   },
   "outputs": [
    {
     "name": "stdout",
     "output_type": "stream",
     "text": [
      "4950\n"
     ]
    }
   ],
   "source": [
    "n = 1\n",
    "sum = 0\n",
    "while n < 100:\n",
    "    sum = n + sum\n",
    "    n = n+1\n",
    "print(sum)"
   ]
  },
  {
   "cell_type": "markdown",
   "metadata": {
    "deletable": true,
    "editable": true
   },
   "source": [
    "## Homework 5: print some items in a list \n",
    "* Suppose we wanted to print the 1st, 3rd, 5th, 7th, etc. items in a list. \n",
    "* Write a program to accomplish this.\n",
    "* For example, you list can be [1, 2, 3, 4, 5, 6, 7, 8, 9, 10]. You will print out 1, 3, 5, 7, 9."
   ]
  },
  {
   "cell_type": "markdown",
   "metadata": {
    "deletable": true,
    "editable": true
   },
   "source": [
    "## Homework 6 (challenging): Use a while loop to print out a tree\n",
    "* Input: *\n",
    "\n",
    "* Exact desired output:\n",
    "                                *\n",
    "                               ***\n",
    "                              *****\n",
    "                             *******\n",
    "                            *********\n",
    "                               ***\n",
    "                               ***\n",
    "\n",
    "* Hint: \n",
    "    - each line has several spaces before the star symbol.  \n",
    "    - for the first five lines, each line has two more stars than the previous line\n",
    "    - We know if/else decision structure. There is also a while/else strucutre, working in a very similar way. Maybe we can print out the first five lines using while, then we print the rest 2 lines using else."
   ]
  },
  {
   "cell_type": "code",
   "execution_count": null,
   "metadata": {
    "collapsed": true,
    "deletable": true,
    "editable": true
   },
   "outputs": [],
   "source": []
  }
 ],
 "metadata": {
  "kernelspec": {
   "display_name": "Python 3",
   "language": "python",
   "name": "python3"
  },
  "language_info": {
   "codemirror_mode": {
    "name": "ipython",
    "version": 3
   },
   "file_extension": ".py",
   "mimetype": "text/x-python",
   "name": "python",
   "nbconvert_exporter": "python",
   "pygments_lexer": "ipython3",
   "version": "3.5.2"
  }
 },
 "nbformat": 4,
 "nbformat_minor": 2
}
