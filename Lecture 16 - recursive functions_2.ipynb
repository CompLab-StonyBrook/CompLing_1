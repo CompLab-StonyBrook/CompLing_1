{
 "cells": [
  {
   "cell_type": "markdown",
   "metadata": {
    "deletable": true,
    "editable": true
   },
   "source": [
    "### Homework 1: unique list\n",
    "* Write a Python function that takes a list and returns a new list with unique elements of the first list.\n",
    "* Sample List : [1,2,3,3,3,3,4,5]\n",
    "* Unique List : [1, 2, 3, 4, 5]"
   ]
  },
  {
   "cell_type": "code",
   "execution_count": null,
   "metadata": {
    "collapsed": false,
    "deletable": true,
    "editable": true
   },
   "outputs": [],
   "source": [
    "def main(lst):\n",
    "    unique_list = set(lst)\n",
    "    return list(unique_list)\n",
    "print(main([1, 2, 3, 4, 5, 5]))"
   ]
  },
  {
   "cell_type": "markdown",
   "metadata": {
    "deletable": true,
    "editable": true
   },
   "source": [
    "### Homework 2: Goldbach conjecture\n",
    "* The Goldbach conjecture asserts that every even number is the sum of two prime numbers. Write a program that gets a number from the user, checks to make sure that it is even, and then finds two prime numbers that add up to the number.\n",
    "* We can recycle our function for checking prime numbers"
   ]
  },
  {
   "cell_type": "code",
   "execution_count": null,
   "metadata": {
    "collapsed": false,
    "deletable": true,
    "editable": true
   },
   "outputs": [],
   "source": [
    "def is_prime(n):\n",
    "    if n == 0:\n",
    "        return False\n",
    "    elif n == 1:\n",
    "        return False\n",
    "    elif n == 2:\n",
    "        return True\n",
    "    else:\n",
    "        for i in range(2, n):\n",
    "            if n%i == 0:\n",
    "                return False\n",
    "        return True\n",
    "    \n",
    "def get_even(num):\n",
    "    if num%2 == 0:\n",
    "        return True\n",
    "    else:\n",
    "        return False\n",
    "\n",
    "def goldbach(n):\n",
    "    if not get_even(n):\n",
    "        print(\"Please give me a even number.\")\n",
    "    else:\n",
    "        stack = []\n",
    "        for i in range(int(n//2)+1):\n",
    "            if is_prime(i):\n",
    "                if is_prime(n-i):\n",
    "                    stack.append((i, n-i))\n",
    "                    \n",
    "        return stack\n",
    "print(goldbach(34))\n",
    "        "
   ]
  },
  {
   "cell_type": "code",
   "execution_count": null,
   "metadata": {
    "collapsed": false,
    "deletable": true,
    "editable": true
   },
   "outputs": [],
   "source": [
    "lst = [(3, 31), (5, 29), (11, 23), (17, 17), (23, 11), (29, 5), (31, 3)]\n",
    "lst2 = []\n",
    "for i in lst:\n",
    "    lst2.append(set(i))\n",
    "print(lst2)\n",
    "lst3 = []\n",
    "for j in lst2:\n",
    "    if j not in lst3:\n",
    "        lst3.append(j)\n",
    "print(lst3)\n",
    "\n",
    "print(type(13/2))\n",
    "print(type(13//2))"
   ]
  },
  {
   "cell_type": "markdown",
   "metadata": {
    "deletable": true,
    "editable": true
   },
   "source": [
    "### Homework 3: double the investment \n",
    "* Write a program that uses a while loop to determine how long it takes for an investment to double at a given interest rate. \n",
    "* The input will be an annualized interest rate, and the output is the number of years it takes an investment to double. \n",
    "* You can set any value as the initial investment and the interest rate"
   ]
  },
  {
   "cell_type": "code",
   "execution_count": null,
   "metadata": {
    "collapsed": false,
    "deletable": true,
    "editable": true
   },
   "outputs": [],
   "source": [
    "def main(interest, initial):\n",
    "    years = 0\n",
    "    revenue = initial\n",
    "    while revenue <= initial*2:\n",
    "        revenue += interest*revenue\n",
    "        years += 1\n",
    "    return years\n",
    "main(0.05, 10000)"
   ]
  },
  {
   "cell_type": "markdown",
   "metadata": {
    "collapsed": true,
    "deletable": true,
    "editable": true
   },
   "source": [
    "## Homework 1: sum of n integers\n",
    "* Write a recursive function that returns the sum of the first n integers. "
   ]
  },
  {
   "cell_type": "code",
   "execution_count": 4,
   "metadata": {
    "collapsed": false,
    "deletable": true,
    "editable": true
   },
   "outputs": [
    {
     "name": "stdout",
     "output_type": "stream",
     "text": [
      "15\n"
     ]
    }
   ],
   "source": [
    "def get_sum_N(n):\n",
    "    if n == 1:\n",
    "        return 1\n",
    "    else:\n",
    "        return n+get_sum_N(n-1)\n",
    "print(get_sum_N(5))"
   ]
  },
  {
   "cell_type": "code",
   "execution_count": 3,
   "metadata": {
    "collapsed": false,
    "deletable": true,
    "editable": true
   },
   "outputs": [
    {
     "name": "stdout",
     "output_type": "stream",
     "text": [
      "1\n"
     ]
    }
   ],
   "source": [
    "def get_sum_N(1):\n",
    "    if n == 1:\n",
    "        return 1\n",
    "print(get_sum_N(1))\n",
    "\n",
    "def get_sum_N(2):\n",
    "    else:\n",
    "        return 2+get_sum_N(1)\n",
    "    else:\n",
    "        return 3\n",
    "    \n",
    "def get_sum_N(3):\n",
    "    else:\n",
    "        return 3+get_sum_N(2)\n",
    "        return 6\n",
    "    \n",
    "def get_sum_N(4):\n",
    "    else:\n",
    "        return 4+get_sum_N(3)\n",
    "        return 10\n",
    "\n",
    "def get_sum_N(5):\n",
    "    else:\n",
    "        return 5+get_sum_N(4)\n",
    "        return 15"
   ]
  },
  {
   "cell_type": "markdown",
   "metadata": {
    "deletable": true,
    "editable": true
   },
   "source": [
    "## Homework 2: harmonic sum\n",
    "* Write a Python program to calculate the harmonic sum of n-1. \n",
    "* Note: The harmonic sum is the sum of reciprocals of the positive integers. \n",
    "* Example : \n",
    "* 1/2 + 1/3 + 1/4 + 1/5 + ..."
   ]
  },
  {
   "cell_type": "code",
   "execution_count": 5,
   "metadata": {
    "collapsed": false,
    "deletable": true,
    "editable": true
   },
   "outputs": [
    {
     "data": {
      "text/plain": [
       "0.8333333333333333"
      ]
     },
     "execution_count": 5,
     "metadata": {},
     "output_type": "execute_result"
    }
   ],
   "source": [
    "def get_harmonic_sum(n):\n",
    "    if n == 2:\n",
    "        return 1/2\n",
    "    else:\n",
    "        return 1/n + get_harmonic_sum(n-1)\n",
    "    \n",
    "get_harmonic_sum(3)"
   ]
  },
  {
   "cell_type": "markdown",
   "metadata": {
    "collapsed": true,
    "deletable": true,
    "editable": true
   },
   "source": [
    "## Exercise 2: Fibonnaci sequence"
   ]
  },
  {
   "cell_type": "code",
   "execution_count": 11,
   "metadata": {
    "collapsed": false
   },
   "outputs": [
    {
     "name": "stdout",
     "output_type": "stream",
     "text": [
      "[1, 1, 2, 3, 5, 8]\n"
     ]
    }
   ],
   "source": [
    "def get_fib(n):\n",
    "    if n == 1:\n",
    "        return 1\n",
    "    elif n == 2:\n",
    "        return 1\n",
    "    else:\n",
    "        return get_fib(n-1) + get_fib(n-2)\n",
    "\n",
    "def get_fib_seqence(n):\n",
    "    #stack = []\n",
    "    #for i in range(1, n+1):\n",
    "    #    stack.append(get_fib(i))\n",
    "    #return stack\n",
    "\n",
    "    return [get_fib(i) for i in range(1, n+1)]\n",
    "\n",
    "print(get_fib_seqence(6))"
   ]
  },
  {
   "cell_type": "markdown",
   "metadata": {},
   "source": [
    "#### Exercise random:\n",
    "* if num can be evenly divided by 3, print \"Fizz\"; if num can be evenly divided by 5, print \"Buzz\"; if num can be evenly divided by both 3 and 5, print \"FizzBuzz\". \n",
    "* num is up to 100. "
   ]
  },
  {
   "cell_type": "code",
   "execution_count": 18,
   "metadata": {
    "collapsed": false
   },
   "outputs": [
    {
     "name": "stdout",
     "output_type": "stream",
     "text": [
      "1\n",
      "2\n",
      "Fizz\n",
      "4\n",
      "Buzz\n",
      "Fizz\n",
      "7\n",
      "8\n",
      "Fizz\n",
      "Buzz\n",
      "11\n",
      "Fizz\n",
      "13\n",
      "14\n",
      "FizzBuzz\n",
      "16\n",
      "17\n",
      "Fizz\n",
      "19\n",
      "Buzz\n",
      "Fizz\n",
      "22\n",
      "23\n",
      "Fizz\n",
      "Buzz\n",
      "26\n",
      "Fizz\n",
      "28\n",
      "29\n",
      "FizzBuzz\n",
      "31\n",
      "32\n",
      "Fizz\n",
      "34\n",
      "Buzz\n",
      "Fizz\n",
      "37\n",
      "38\n",
      "Fizz\n",
      "Buzz\n",
      "41\n",
      "Fizz\n",
      "43\n",
      "44\n",
      "FizzBuzz\n",
      "46\n",
      "47\n",
      "Fizz\n",
      "49\n",
      "Buzz\n",
      "Fizz\n",
      "52\n",
      "53\n",
      "Fizz\n",
      "Buzz\n",
      "56\n",
      "Fizz\n",
      "58\n",
      "59\n",
      "FizzBuzz\n",
      "61\n",
      "62\n",
      "Fizz\n",
      "64\n",
      "Buzz\n",
      "Fizz\n",
      "67\n",
      "68\n",
      "Fizz\n",
      "Buzz\n",
      "71\n",
      "Fizz\n",
      "73\n",
      "74\n",
      "FizzBuzz\n",
      "76\n",
      "77\n",
      "Fizz\n",
      "79\n",
      "Buzz\n",
      "Fizz\n",
      "82\n",
      "83\n",
      "Fizz\n",
      "Buzz\n",
      "86\n",
      "Fizz\n",
      "88\n",
      "89\n",
      "FizzBuzz\n",
      "91\n",
      "92\n",
      "Fizz\n",
      "94\n",
      "Buzz\n",
      "Fizz\n",
      "97\n",
      "98\n",
      "Fizz\n",
      "Buzz\n"
     ]
    }
   ],
   "source": [
    "def get_print(n):\n",
    "    for i in range(1, n+1):\n",
    "        print(\"Fizz\"*(i%3==0) + \"Buzz\"*(i%5==0) or i)\n",
    "get_print(100)"
   ]
  },
  {
   "cell_type": "code",
   "execution_count": 17,
   "metadata": {
    "collapsed": false
   },
   "outputs": [
    {
     "name": "stdout",
     "output_type": "stream",
     "text": [
      "1\n",
      "2\n",
      "Fizz\n",
      "4\n",
      "Buzz\n",
      "Fizz\n",
      "7\n",
      "8\n",
      "Fizz\n",
      "Buzz\n",
      "11\n",
      "Fizz\n",
      "13\n",
      "14\n",
      "FizzBuzz\n",
      "16\n",
      "17\n",
      "Fizz\n",
      "19\n",
      "Buzz\n",
      "Fizz\n",
      "22\n",
      "23\n",
      "Fizz\n",
      "Buzz\n",
      "26\n",
      "Fizz\n",
      "28\n",
      "29\n",
      "FizzBuzz\n",
      "31\n",
      "32\n",
      "Fizz\n",
      "34\n",
      "Buzz\n",
      "Fizz\n",
      "37\n",
      "38\n",
      "Fizz\n",
      "Buzz\n",
      "41\n",
      "Fizz\n",
      "43\n",
      "44\n",
      "FizzBuzz\n",
      "46\n",
      "47\n",
      "Fizz\n",
      "49\n",
      "Buzz\n",
      "Fizz\n",
      "52\n",
      "53\n",
      "Fizz\n",
      "Buzz\n",
      "56\n",
      "Fizz\n",
      "58\n",
      "59\n",
      "FizzBuzz\n",
      "61\n",
      "62\n",
      "Fizz\n",
      "64\n",
      "Buzz\n",
      "Fizz\n",
      "67\n",
      "68\n",
      "Fizz\n",
      "Buzz\n",
      "71\n",
      "Fizz\n",
      "73\n",
      "74\n",
      "FizzBuzz\n",
      "76\n",
      "77\n",
      "Fizz\n",
      "79\n",
      "Buzz\n",
      "Fizz\n",
      "82\n",
      "83\n",
      "Fizz\n",
      "Buzz\n",
      "86\n",
      "Fizz\n",
      "88\n",
      "89\n",
      "FizzBuzz\n",
      "91\n",
      "92\n",
      "Fizz\n",
      "94\n",
      "Buzz\n",
      "Fizz\n",
      "97\n",
      "98\n",
      "Fizz\n",
      "Buzz\n"
     ]
    }
   ],
   "source": [
    "def get_print(n):\n",
    "    for i in range(1, n+1):\n",
    "        if i%3 == 0 and i%5==0:\n",
    "            print(\"FizzBuzz\")\n",
    "        elif i%3 ==0:\n",
    "            print(\"Fizz\")\n",
    "        elif i%5 == 0:\n",
    "            print(\"Buzz\")\n",
    "        else:\n",
    "            print(i)\n",
    "get_print(100)"
   ]
  },
  {
   "cell_type": "markdown",
   "metadata": {},
   "source": [
    "### Homework 1:\n",
    "* Write a recursive Python function to calculate the value of 'a' to the power 'b'\n",
    "* For example, 2 to the power of 3 is 8"
   ]
  },
  {
   "cell_type": "markdown",
   "metadata": {},
   "source": [
    "### Homework 2: Hamming distance (this is not a recursive function)\n",
    "* The Hamming distance between two strings of <span style=\"color:red\">*equal*</span> length is the number of positions at which the corresponding symbols are different.\n",
    "* For example, \"kittens\"differs from \"kitties\" at index 4 and 5. So the hamming distance between these two strings are 2."
   ]
  },
  {
   "cell_type": "code",
   "execution_count": null,
   "metadata": {
    "collapsed": true
   },
   "outputs": [],
   "source": []
  }
 ],
 "metadata": {
  "kernelspec": {
   "display_name": "Python 3",
   "language": "python",
   "name": "python3"
  },
  "language_info": {
   "codemirror_mode": {
    "name": "ipython",
    "version": 3
   },
   "file_extension": ".py",
   "mimetype": "text/x-python",
   "name": "python",
   "nbconvert_exporter": "python",
   "pygments_lexer": "ipython3",
   "version": "3.5.2"
  }
 },
 "nbformat": 4,
 "nbformat_minor": 2
}
